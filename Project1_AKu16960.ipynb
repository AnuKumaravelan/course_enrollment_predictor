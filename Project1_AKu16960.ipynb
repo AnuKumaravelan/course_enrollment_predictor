{
 "cells": [
  {
   "cell_type": "markdown",
   "metadata": {},
   "source": [
    "# COURSE ENROLLMENT PREDICTOR 📚💻\n",
    "\n",
    "\n",
    "# PROJECT 1 - (GUIDED) \n",
    "## Anu Kumaravelan\n",
    "## 300316960"
   ]
  },
  {
   "cell_type": "markdown",
   "metadata": {},
   "source": [
    "$Description:$   \n",
    "- A guided project to perform linear regression techniques to predict the enrollment of those courses.\n",
    "- The dataset was collected from LAb02 as it was prepared and processed for this guided project, the dataset was originally from Udemy"
   ]
  },
  {
   "cell_type": "markdown",
   "metadata": {},
   "source": [
    "# PART A\n",
    "#  REGRESSION MODELLING"
   ]
  },
  {
   "cell_type": "markdown",
   "metadata": {},
   "source": [
    "## 2.Importing the necessary libraries & Loading Data"
   ]
  },
  {
   "cell_type": "code",
   "execution_count": 1099,
   "metadata": {},
   "outputs": [],
   "source": [
    "import pandas as pd\n",
    "import numpy as np\n",
    "import seaborn as sns\n",
    "from sklearn.feature_selection import VarianceThreshold, SelectKBest,f_regression\n",
    "from sklearn.model_selection import train_test_split\n",
    "from sklearn.metrics import mean_squared_error\n",
    "from sklearn.preprocessing import PolynomialFeatures\n",
    "from sklearn.linear_model import LinearRegression\n",
    "from sklearn.preprocessing import OneHotEncoder \n",
    "import matplotlib.pyplot as plt\n",
    "from scipy.stats import norm\n",
    "from sklearn.linear_model import Ridge, Lasso \n",
    "from sklearn.preprocessing import StandardScaler, MinMaxScaler,RobustScaler "
   ]
  },
  {
   "cell_type": "markdown",
   "metadata": {},
   "source": [
    "### Loading the dataset from the folder 'Dataset' inside the project main folder "
   ]
  },
  {
   "cell_type": "code",
   "execution_count": 1100,
   "metadata": {},
   "outputs": [],
   "source": [
    "#  loading the dataset in df variable \n",
    "df=pd.read_csv(r'Dataset\\Lab02_AKu16960_prepared.csv')"
   ]
  },
  {
   "cell_type": "code",
   "execution_count": 1101,
   "metadata": {
    "scrolled": true
   },
   "outputs": [
    {
     "data": {
      "text/html": [
       "<div>\n",
       "<style scoped>\n",
       "    .dataframe tbody tr th:only-of-type {\n",
       "        vertical-align: middle;\n",
       "    }\n",
       "\n",
       "    .dataframe tbody tr th {\n",
       "        vertical-align: top;\n",
       "    }\n",
       "\n",
       "    .dataframe thead th {\n",
       "        text-align: right;\n",
       "    }\n",
       "</style>\n",
       "<table border=\"1\" class=\"dataframe\">\n",
       "  <thead>\n",
       "    <tr style=\"text-align: right;\">\n",
       "      <th></th>\n",
       "      <th>avg_rating</th>\n",
       "      <th>number_ratings</th>\n",
       "      <th>enrollment</th>\n",
       "      <th>last_updated</th>\n",
       "      <th>lectures</th>\n",
       "      <th>duration</th>\n",
       "      <th>price2</th>\n",
       "      <th>discount</th>\n",
       "      <th>inst_rating</th>\n",
       "      <th>inst_review</th>\n",
       "      <th>inst_student</th>\n",
       "      <th>inst_course</th>\n",
       "      <th>cat_design</th>\n",
       "      <th>cat_development</th>\n",
       "      <th>cat_it_software</th>\n",
       "      <th>cat_personal_hobby</th>\n",
       "    </tr>\n",
       "  </thead>\n",
       "  <tbody>\n",
       "    <tr>\n",
       "      <th>0</th>\n",
       "      <td>4.2</td>\n",
       "      <td>6340.0</td>\n",
       "      <td>54930.0</td>\n",
       "      <td>20.666667</td>\n",
       "      <td>162.0</td>\n",
       "      <td>19.383333</td>\n",
       "      <td>23.99</td>\n",
       "      <td>90.0</td>\n",
       "      <td>4.2</td>\n",
       "      <td>13453.0</td>\n",
       "      <td>179306.0</td>\n",
       "      <td>12.0</td>\n",
       "      <td>1</td>\n",
       "      <td>0</td>\n",
       "      <td>0</td>\n",
       "      <td>0</td>\n",
       "    </tr>\n",
       "    <tr>\n",
       "      <th>1</th>\n",
       "      <td>4.6</td>\n",
       "      <td>6833.0</td>\n",
       "      <td>21218.0</td>\n",
       "      <td>20.833333</td>\n",
       "      <td>53.0</td>\n",
       "      <td>5.233333</td>\n",
       "      <td>23.99</td>\n",
       "      <td>91.0</td>\n",
       "      <td>4.6</td>\n",
       "      <td>19993.0</td>\n",
       "      <td>55621.0</td>\n",
       "      <td>3.0</td>\n",
       "      <td>0</td>\n",
       "      <td>1</td>\n",
       "      <td>0</td>\n",
       "      <td>0</td>\n",
       "    </tr>\n",
       "    <tr>\n",
       "      <th>2</th>\n",
       "      <td>4.5</td>\n",
       "      <td>2826.0</td>\n",
       "      <td>14269.0</td>\n",
       "      <td>20.833333</td>\n",
       "      <td>41.0</td>\n",
       "      <td>7.133333</td>\n",
       "      <td>19.99</td>\n",
       "      <td>88.0</td>\n",
       "      <td>4.5</td>\n",
       "      <td>11922.0</td>\n",
       "      <td>53659.0</td>\n",
       "      <td>10.0</td>\n",
       "      <td>0</td>\n",
       "      <td>0</td>\n",
       "      <td>0</td>\n",
       "      <td>0</td>\n",
       "    </tr>\n",
       "    <tr>\n",
       "      <th>3</th>\n",
       "      <td>3.3</td>\n",
       "      <td>320.0</td>\n",
       "      <td>2088.0</td>\n",
       "      <td>17.166667</td>\n",
       "      <td>72.0</td>\n",
       "      <td>4.133333</td>\n",
       "      <td>16.99</td>\n",
       "      <td>90.0</td>\n",
       "      <td>3.3</td>\n",
       "      <td>320.0</td>\n",
       "      <td>4012.0</td>\n",
       "      <td>3.0</td>\n",
       "      <td>0</td>\n",
       "      <td>0</td>\n",
       "      <td>0</td>\n",
       "      <td>0</td>\n",
       "    </tr>\n",
       "    <tr>\n",
       "      <th>4</th>\n",
       "      <td>4.4</td>\n",
       "      <td>991.0</td>\n",
       "      <td>3563.0</td>\n",
       "      <td>20.666667</td>\n",
       "      <td>91.0</td>\n",
       "      <td>5.233333</td>\n",
       "      <td>28.99</td>\n",
       "      <td>77.0</td>\n",
       "      <td>4.4</td>\n",
       "      <td>2193.0</td>\n",
       "      <td>7422.0</td>\n",
       "      <td>6.0</td>\n",
       "      <td>0</td>\n",
       "      <td>0</td>\n",
       "      <td>0</td>\n",
       "      <td>0</td>\n",
       "    </tr>\n",
       "  </tbody>\n",
       "</table>\n",
       "</div>"
      ],
      "text/plain": [
       "   avg_rating  number_ratings  enrollment  last_updated  lectures   duration  \\\n",
       "0         4.2          6340.0     54930.0     20.666667     162.0  19.383333   \n",
       "1         4.6          6833.0     21218.0     20.833333      53.0   5.233333   \n",
       "2         4.5          2826.0     14269.0     20.833333      41.0   7.133333   \n",
       "3         3.3           320.0      2088.0     17.166667      72.0   4.133333   \n",
       "4         4.4           991.0      3563.0     20.666667      91.0   5.233333   \n",
       "\n",
       "   price2  discount  inst_rating  inst_review  inst_student  inst_course  \\\n",
       "0   23.99      90.0          4.2      13453.0      179306.0         12.0   \n",
       "1   23.99      91.0          4.6      19993.0       55621.0          3.0   \n",
       "2   19.99      88.0          4.5      11922.0       53659.0         10.0   \n",
       "3   16.99      90.0          3.3        320.0        4012.0          3.0   \n",
       "4   28.99      77.0          4.4       2193.0        7422.0          6.0   \n",
       "\n",
       "   cat_design  cat_development  cat_it_software  cat_personal_hobby  \n",
       "0           1                0                0                   0  \n",
       "1           0                1                0                   0  \n",
       "2           0                0                0                   0  \n",
       "3           0                0                0                   0  \n",
       "4           0                0                0                   0  "
      ]
     },
     "execution_count": 1101,
     "metadata": {},
     "output_type": "execute_result"
    }
   ],
   "source": [
    "#  sneakpeek of the dataset\n",
    "df.head()"
   ]
  },
  {
   "cell_type": "code",
   "execution_count": 1102,
   "metadata": {},
   "outputs": [
    {
     "name": "stdout",
     "output_type": "stream",
     "text": [
      "<class 'pandas.core.frame.DataFrame'>\n",
      "RangeIndex: 1542 entries, 0 to 1541\n",
      "Data columns (total 16 columns):\n",
      " #   Column              Non-Null Count  Dtype  \n",
      "---  ------              --------------  -----  \n",
      " 0   avg_rating          1542 non-null   float64\n",
      " 1   number_ratings      1542 non-null   float64\n",
      " 2   enrollment          1542 non-null   float64\n",
      " 3   last_updated        1542 non-null   float64\n",
      " 4   lectures            1542 non-null   float64\n",
      " 5   duration            1542 non-null   float64\n",
      " 6   price2              1542 non-null   float64\n",
      " 7   discount            1542 non-null   float64\n",
      " 8   inst_rating         1542 non-null   float64\n",
      " 9   inst_review         1542 non-null   float64\n",
      " 10  inst_student        1542 non-null   float64\n",
      " 11  inst_course         1542 non-null   float64\n",
      " 12  cat_design          1542 non-null   int64  \n",
      " 13  cat_development     1542 non-null   int64  \n",
      " 14  cat_it_software     1542 non-null   int64  \n",
      " 15  cat_personal_hobby  1542 non-null   int64  \n",
      "dtypes: float64(12), int64(4)\n",
      "memory usage: 192.9 KB\n"
     ]
    }
   ],
   "source": [
    "# Shape and datatypes of the dataset\n",
    "df.info()"
   ]
  },
  {
   "cell_type": "markdown",
   "metadata": {},
   "source": [
    "- This dataset was prepared as a part of the labs and ready to used for the project with no null values"
   ]
  },
  {
   "cell_type": "code",
   "execution_count": 1103,
   "metadata": {
    "scrolled": false
   },
   "outputs": [
    {
     "data": {
      "text/plain": [
       "(1542, 16)"
      ]
     },
     "execution_count": 1103,
     "metadata": {},
     "output_type": "execute_result"
    }
   ],
   "source": [
    "# shape \n",
    "df.shape"
   ]
  },
  {
   "cell_type": "markdown",
   "metadata": {},
   "source": [
    "- Since we already removed the null values and saved the dataset without the index in our lab 02, we do not have to do any more data cleaning processes"
   ]
  },
  {
   "cell_type": "markdown",
   "metadata": {},
   "source": [
    "## 3. Exploratory Data Analysis"
   ]
  },
  {
   "cell_type": "markdown",
   "metadata": {},
   "source": [
    "- Most of the Exploratory Data Analysis were done in Lab02, some of the investigations of the dataset are as below"
   ]
  },
  {
   "cell_type": "markdown",
   "metadata": {},
   "source": [
    "### 3.c Summary Statistics"
   ]
  },
  {
   "cell_type": "code",
   "execution_count": 1104,
   "metadata": {
    "scrolled": false
   },
   "outputs": [
    {
     "data": {
      "text/html": [
       "<div>\n",
       "<style scoped>\n",
       "    .dataframe tbody tr th:only-of-type {\n",
       "        vertical-align: middle;\n",
       "    }\n",
       "\n",
       "    .dataframe tbody tr th {\n",
       "        vertical-align: top;\n",
       "    }\n",
       "\n",
       "    .dataframe thead th {\n",
       "        text-align: right;\n",
       "    }\n",
       "</style>\n",
       "<table border=\"1\" class=\"dataframe\">\n",
       "  <thead>\n",
       "    <tr style=\"text-align: right;\">\n",
       "      <th></th>\n",
       "      <th>avg_rating</th>\n",
       "      <th>number_ratings</th>\n",
       "      <th>enrollment</th>\n",
       "      <th>last_updated</th>\n",
       "      <th>lectures</th>\n",
       "      <th>duration</th>\n",
       "      <th>price2</th>\n",
       "      <th>discount</th>\n",
       "      <th>inst_rating</th>\n",
       "      <th>inst_review</th>\n",
       "      <th>inst_student</th>\n",
       "      <th>inst_course</th>\n",
       "      <th>cat_design</th>\n",
       "      <th>cat_development</th>\n",
       "      <th>cat_it_software</th>\n",
       "      <th>cat_personal_hobby</th>\n",
       "    </tr>\n",
       "  </thead>\n",
       "  <tbody>\n",
       "    <tr>\n",
       "      <th>count</th>\n",
       "      <td>1542.000000</td>\n",
       "      <td>1542.000000</td>\n",
       "      <td>1542.000000</td>\n",
       "      <td>1542.000000</td>\n",
       "      <td>1542.000000</td>\n",
       "      <td>1542.000000</td>\n",
       "      <td>1542.000000</td>\n",
       "      <td>1542.000000</td>\n",
       "      <td>1542.000000</td>\n",
       "      <td>1542.000000</td>\n",
       "      <td>1542.000000</td>\n",
       "      <td>1542.000000</td>\n",
       "      <td>1542.000000</td>\n",
       "      <td>1542.000000</td>\n",
       "      <td>1542.000000</td>\n",
       "      <td>1542.000000</td>\n",
       "    </tr>\n",
       "    <tr>\n",
       "      <th>mean</th>\n",
       "      <td>4.385992</td>\n",
       "      <td>1939.184176</td>\n",
       "      <td>11467.040856</td>\n",
       "      <td>19.820579</td>\n",
       "      <td>102.238003</td>\n",
       "      <td>11.535852</td>\n",
       "      <td>23.821388</td>\n",
       "      <td>78.643969</td>\n",
       "      <td>4.389689</td>\n",
       "      <td>13736.900130</td>\n",
       "      <td>76971.191310</td>\n",
       "      <td>22.383268</td>\n",
       "      <td>0.083009</td>\n",
       "      <td>0.247082</td>\n",
       "      <td>0.241245</td>\n",
       "      <td>0.082361</td>\n",
       "    </tr>\n",
       "    <tr>\n",
       "      <th>std</th>\n",
       "      <td>0.284327</td>\n",
       "      <td>2277.221846</td>\n",
       "      <td>12985.573429</td>\n",
       "      <td>1.366730</td>\n",
       "      <td>94.716064</td>\n",
       "      <td>13.028051</td>\n",
       "      <td>21.430057</td>\n",
       "      <td>16.403802</td>\n",
       "      <td>0.238732</td>\n",
       "      <td>18733.298824</td>\n",
       "      <td>94776.076402</td>\n",
       "      <td>97.943336</td>\n",
       "      <td>0.275985</td>\n",
       "      <td>0.431455</td>\n",
       "      <td>0.427977</td>\n",
       "      <td>0.275002</td>\n",
       "    </tr>\n",
       "    <tr>\n",
       "      <th>min</th>\n",
       "      <td>2.100000</td>\n",
       "      <td>17.000000</td>\n",
       "      <td>36.000000</td>\n",
       "      <td>11.666667</td>\n",
       "      <td>5.000000</td>\n",
       "      <td>1.000000</td>\n",
       "      <td>16.990000</td>\n",
       "      <td>30.000000</td>\n",
       "      <td>2.600000</td>\n",
       "      <td>31.000000</td>\n",
       "      <td>55.000000</td>\n",
       "      <td>1.000000</td>\n",
       "      <td>0.000000</td>\n",
       "      <td>0.000000</td>\n",
       "      <td>0.000000</td>\n",
       "      <td>0.000000</td>\n",
       "    </tr>\n",
       "    <tr>\n",
       "      <th>25%</th>\n",
       "      <td>4.300000</td>\n",
       "      <td>521.000000</td>\n",
       "      <td>3034.250000</td>\n",
       "      <td>19.333333</td>\n",
       "      <td>44.000000</td>\n",
       "      <td>4.216667</td>\n",
       "      <td>16.990000</td>\n",
       "      <td>74.000000</td>\n",
       "      <td>4.300000</td>\n",
       "      <td>1813.000000</td>\n",
       "      <td>11277.000000</td>\n",
       "      <td>4.000000</td>\n",
       "      <td>0.000000</td>\n",
       "      <td>0.000000</td>\n",
       "      <td>0.000000</td>\n",
       "      <td>0.000000</td>\n",
       "    </tr>\n",
       "    <tr>\n",
       "      <th>50%</th>\n",
       "      <td>4.400000</td>\n",
       "      <td>1087.500000</td>\n",
       "      <td>6783.000000</td>\n",
       "      <td>20.416667</td>\n",
       "      <td>72.500000</td>\n",
       "      <td>7.566667</td>\n",
       "      <td>19.990000</td>\n",
       "      <td>86.000000</td>\n",
       "      <td>4.400000</td>\n",
       "      <td>6195.500000</td>\n",
       "      <td>39942.000000</td>\n",
       "      <td>9.000000</td>\n",
       "      <td>0.000000</td>\n",
       "      <td>0.000000</td>\n",
       "      <td>0.000000</td>\n",
       "      <td>0.000000</td>\n",
       "    </tr>\n",
       "    <tr>\n",
       "      <th>75%</th>\n",
       "      <td>4.600000</td>\n",
       "      <td>2459.000000</td>\n",
       "      <td>15089.750000</td>\n",
       "      <td>20.750000</td>\n",
       "      <td>124.000000</td>\n",
       "      <td>13.883333</td>\n",
       "      <td>21.990000</td>\n",
       "      <td>89.000000</td>\n",
       "      <td>4.500000</td>\n",
       "      <td>17768.000000</td>\n",
       "      <td>105319.000000</td>\n",
       "      <td>18.000000</td>\n",
       "      <td>0.000000</td>\n",
       "      <td>0.000000</td>\n",
       "      <td>0.000000</td>\n",
       "      <td>0.000000</td>\n",
       "    </tr>\n",
       "    <tr>\n",
       "      <th>max</th>\n",
       "      <td>4.900000</td>\n",
       "      <td>14984.000000</td>\n",
       "      <td>90763.000000</td>\n",
       "      <td>20.833333</td>\n",
       "      <td>696.000000</td>\n",
       "      <td>164.000000</td>\n",
       "      <td>199.990000</td>\n",
       "      <td>92.000000</td>\n",
       "      <td>4.800000</td>\n",
       "      <td>94805.000000</td>\n",
       "      <td>498116.000000</td>\n",
       "      <td>1420.000000</td>\n",
       "      <td>1.000000</td>\n",
       "      <td>1.000000</td>\n",
       "      <td>1.000000</td>\n",
       "      <td>1.000000</td>\n",
       "    </tr>\n",
       "  </tbody>\n",
       "</table>\n",
       "</div>"
      ],
      "text/plain": [
       "        avg_rating  number_ratings    enrollment  last_updated     lectures  \\\n",
       "count  1542.000000     1542.000000   1542.000000   1542.000000  1542.000000   \n",
       "mean      4.385992     1939.184176  11467.040856     19.820579   102.238003   \n",
       "std       0.284327     2277.221846  12985.573429      1.366730    94.716064   \n",
       "min       2.100000       17.000000     36.000000     11.666667     5.000000   \n",
       "25%       4.300000      521.000000   3034.250000     19.333333    44.000000   \n",
       "50%       4.400000     1087.500000   6783.000000     20.416667    72.500000   \n",
       "75%       4.600000     2459.000000  15089.750000     20.750000   124.000000   \n",
       "max       4.900000    14984.000000  90763.000000     20.833333   696.000000   \n",
       "\n",
       "          duration       price2     discount  inst_rating   inst_review  \\\n",
       "count  1542.000000  1542.000000  1542.000000  1542.000000   1542.000000   \n",
       "mean     11.535852    23.821388    78.643969     4.389689  13736.900130   \n",
       "std      13.028051    21.430057    16.403802     0.238732  18733.298824   \n",
       "min       1.000000    16.990000    30.000000     2.600000     31.000000   \n",
       "25%       4.216667    16.990000    74.000000     4.300000   1813.000000   \n",
       "50%       7.566667    19.990000    86.000000     4.400000   6195.500000   \n",
       "75%      13.883333    21.990000    89.000000     4.500000  17768.000000   \n",
       "max     164.000000   199.990000    92.000000     4.800000  94805.000000   \n",
       "\n",
       "        inst_student  inst_course   cat_design  cat_development  \\\n",
       "count    1542.000000  1542.000000  1542.000000      1542.000000   \n",
       "mean    76971.191310    22.383268     0.083009         0.247082   \n",
       "std     94776.076402    97.943336     0.275985         0.431455   \n",
       "min        55.000000     1.000000     0.000000         0.000000   \n",
       "25%     11277.000000     4.000000     0.000000         0.000000   \n",
       "50%     39942.000000     9.000000     0.000000         0.000000   \n",
       "75%    105319.000000    18.000000     0.000000         0.000000   \n",
       "max    498116.000000  1420.000000     1.000000         1.000000   \n",
       "\n",
       "       cat_it_software  cat_personal_hobby  \n",
       "count      1542.000000         1542.000000  \n",
       "mean          0.241245            0.082361  \n",
       "std           0.427977            0.275002  \n",
       "min           0.000000            0.000000  \n",
       "25%           0.000000            0.000000  \n",
       "50%           0.000000            0.000000  \n",
       "75%           0.000000            0.000000  \n",
       "max           1.000000            1.000000  "
      ]
     },
     "execution_count": 1104,
     "metadata": {},
     "output_type": "execute_result"
    }
   ],
   "source": [
    "#  Summary Statistics of the dataset\n",
    "df.describe()"
   ]
  },
  {
   "cell_type": "markdown",
   "metadata": {},
   "source": [
    "### 3.d Correlaton of the features & heatmap of the correlation"
   ]
  },
  {
   "cell_type": "code",
   "execution_count": 1105,
   "metadata": {
    "scrolled": false
   },
   "outputs": [
    {
     "data": {
      "text/html": [
       "<div>\n",
       "<style scoped>\n",
       "    .dataframe tbody tr th:only-of-type {\n",
       "        vertical-align: middle;\n",
       "    }\n",
       "\n",
       "    .dataframe tbody tr th {\n",
       "        vertical-align: top;\n",
       "    }\n",
       "\n",
       "    .dataframe thead th {\n",
       "        text-align: right;\n",
       "    }\n",
       "</style>\n",
       "<table border=\"1\" class=\"dataframe\">\n",
       "  <thead>\n",
       "    <tr style=\"text-align: right;\">\n",
       "      <th></th>\n",
       "      <th>avg_rating</th>\n",
       "      <th>number_ratings</th>\n",
       "      <th>enrollment</th>\n",
       "      <th>last_updated</th>\n",
       "      <th>lectures</th>\n",
       "      <th>duration</th>\n",
       "      <th>price2</th>\n",
       "      <th>discount</th>\n",
       "      <th>inst_rating</th>\n",
       "      <th>inst_review</th>\n",
       "      <th>inst_student</th>\n",
       "      <th>inst_course</th>\n",
       "      <th>cat_design</th>\n",
       "      <th>cat_development</th>\n",
       "      <th>cat_it_software</th>\n",
       "      <th>cat_personal_hobby</th>\n",
       "    </tr>\n",
       "  </thead>\n",
       "  <tbody>\n",
       "    <tr>\n",
       "      <th>cat_personal_hobby</th>\n",
       "      <td>0.153363</td>\n",
       "      <td>0.034673</td>\n",
       "      <td>0.014679</td>\n",
       "      <td>0.106120</td>\n",
       "      <td>0.072131</td>\n",
       "      <td>0.085574</td>\n",
       "      <td>0.015241</td>\n",
       "      <td>0.014642</td>\n",
       "      <td>0.147372</td>\n",
       "      <td>0.090732</td>\n",
       "      <td>0.092599</td>\n",
       "      <td>0.019555</td>\n",
       "      <td>0.090137</td>\n",
       "      <td>0.171621</td>\n",
       "      <td>0.168928</td>\n",
       "      <td>1.000000</td>\n",
       "    </tr>\n",
       "    <tr>\n",
       "      <th>lectures</th>\n",
       "      <td>0.004107</td>\n",
       "      <td>0.003667</td>\n",
       "      <td>0.018051</td>\n",
       "      <td>0.086497</td>\n",
       "      <td>1.000000</td>\n",
       "      <td>0.730963</td>\n",
       "      <td>0.023469</td>\n",
       "      <td>0.025929</td>\n",
       "      <td>0.020568</td>\n",
       "      <td>0.015757</td>\n",
       "      <td>0.001395</td>\n",
       "      <td>0.018127</td>\n",
       "      <td>0.033922</td>\n",
       "      <td>0.207646</td>\n",
       "      <td>0.006284</td>\n",
       "      <td>0.072131</td>\n",
       "    </tr>\n",
       "    <tr>\n",
       "      <th>duration</th>\n",
       "      <td>0.043321</td>\n",
       "      <td>0.017608</td>\n",
       "      <td>0.022215</td>\n",
       "      <td>0.091972</td>\n",
       "      <td>0.730963</td>\n",
       "      <td>1.000000</td>\n",
       "      <td>0.007310</td>\n",
       "      <td>0.001069</td>\n",
       "      <td>0.005093</td>\n",
       "      <td>0.000736</td>\n",
       "      <td>0.014529</td>\n",
       "      <td>0.018428</td>\n",
       "      <td>0.000028</td>\n",
       "      <td>0.206195</td>\n",
       "      <td>0.003814</td>\n",
       "      <td>0.085574</td>\n",
       "    </tr>\n",
       "    <tr>\n",
       "      <th>discount</th>\n",
       "      <td>0.001114</td>\n",
       "      <td>0.006865</td>\n",
       "      <td>0.031635</td>\n",
       "      <td>0.064315</td>\n",
       "      <td>0.025929</td>\n",
       "      <td>0.001069</td>\n",
       "      <td>0.025512</td>\n",
       "      <td>1.000000</td>\n",
       "      <td>0.008776</td>\n",
       "      <td>0.017329</td>\n",
       "      <td>0.024901</td>\n",
       "      <td>0.024864</td>\n",
       "      <td>0.013965</td>\n",
       "      <td>0.017178</td>\n",
       "      <td>0.048579</td>\n",
       "      <td>0.014642</td>\n",
       "    </tr>\n",
       "    <tr>\n",
       "      <th>inst_course</th>\n",
       "      <td>0.102662</td>\n",
       "      <td>0.044345</td>\n",
       "      <td>0.041198</td>\n",
       "      <td>0.041157</td>\n",
       "      <td>0.018127</td>\n",
       "      <td>0.018428</td>\n",
       "      <td>0.004332</td>\n",
       "      <td>0.024864</td>\n",
       "      <td>0.122447</td>\n",
       "      <td>0.199721</td>\n",
       "      <td>0.248449</td>\n",
       "      <td>1.000000</td>\n",
       "      <td>0.035748</td>\n",
       "      <td>0.074032</td>\n",
       "      <td>0.004777</td>\n",
       "      <td>0.019555</td>\n",
       "    </tr>\n",
       "    <tr>\n",
       "      <th>last_updated</th>\n",
       "      <td>0.014153</td>\n",
       "      <td>0.022089</td>\n",
       "      <td>0.043140</td>\n",
       "      <td>1.000000</td>\n",
       "      <td>0.086497</td>\n",
       "      <td>0.091972</td>\n",
       "      <td>0.004531</td>\n",
       "      <td>0.064315</td>\n",
       "      <td>0.012541</td>\n",
       "      <td>0.022549</td>\n",
       "      <td>0.007078</td>\n",
       "      <td>0.041157</td>\n",
       "      <td>0.036930</td>\n",
       "      <td>0.106683</td>\n",
       "      <td>0.064155</td>\n",
       "      <td>0.106120</td>\n",
       "    </tr>\n",
       "    <tr>\n",
       "      <th>cat_design</th>\n",
       "      <td>0.080986</td>\n",
       "      <td>0.012460</td>\n",
       "      <td>0.046369</td>\n",
       "      <td>0.036930</td>\n",
       "      <td>0.033922</td>\n",
       "      <td>0.000028</td>\n",
       "      <td>0.020893</td>\n",
       "      <td>0.013965</td>\n",
       "      <td>0.084899</td>\n",
       "      <td>0.008395</td>\n",
       "      <td>0.024808</td>\n",
       "      <td>0.035748</td>\n",
       "      <td>1.000000</td>\n",
       "      <td>0.172356</td>\n",
       "      <td>0.169652</td>\n",
       "      <td>0.090137</td>\n",
       "    </tr>\n",
       "    <tr>\n",
       "      <th>price2</th>\n",
       "      <td>0.053085</td>\n",
       "      <td>0.039803</td>\n",
       "      <td>0.049826</td>\n",
       "      <td>0.004531</td>\n",
       "      <td>0.023469</td>\n",
       "      <td>0.007310</td>\n",
       "      <td>1.000000</td>\n",
       "      <td>0.025512</td>\n",
       "      <td>0.041018</td>\n",
       "      <td>0.019730</td>\n",
       "      <td>0.013942</td>\n",
       "      <td>0.004332</td>\n",
       "      <td>0.020893</td>\n",
       "      <td>0.073747</td>\n",
       "      <td>0.017245</td>\n",
       "      <td>0.015241</td>\n",
       "    </tr>\n",
       "    <tr>\n",
       "      <th>cat_development</th>\n",
       "      <td>0.007601</td>\n",
       "      <td>0.066907</td>\n",
       "      <td>0.060596</td>\n",
       "      <td>0.106683</td>\n",
       "      <td>0.207646</td>\n",
       "      <td>0.206195</td>\n",
       "      <td>0.073747</td>\n",
       "      <td>0.017178</td>\n",
       "      <td>0.021601</td>\n",
       "      <td>0.053528</td>\n",
       "      <td>0.097001</td>\n",
       "      <td>0.074032</td>\n",
       "      <td>0.172356</td>\n",
       "      <td>1.000000</td>\n",
       "      <td>0.323017</td>\n",
       "      <td>0.171621</td>\n",
       "    </tr>\n",
       "    <tr>\n",
       "      <th>cat_it_software</th>\n",
       "      <td>0.181792</td>\n",
       "      <td>0.067033</td>\n",
       "      <td>0.093109</td>\n",
       "      <td>0.064155</td>\n",
       "      <td>0.006284</td>\n",
       "      <td>0.003814</td>\n",
       "      <td>0.017245</td>\n",
       "      <td>0.048579</td>\n",
       "      <td>0.190313</td>\n",
       "      <td>0.003307</td>\n",
       "      <td>0.017022</td>\n",
       "      <td>0.004777</td>\n",
       "      <td>0.169652</td>\n",
       "      <td>0.323017</td>\n",
       "      <td>1.000000</td>\n",
       "      <td>0.168928</td>\n",
       "    </tr>\n",
       "    <tr>\n",
       "      <th>avg_rating</th>\n",
       "      <td>1.000000</td>\n",
       "      <td>0.233398</td>\n",
       "      <td>0.230170</td>\n",
       "      <td>0.014153</td>\n",
       "      <td>0.004107</td>\n",
       "      <td>0.043321</td>\n",
       "      <td>0.053085</td>\n",
       "      <td>0.001114</td>\n",
       "      <td>0.805424</td>\n",
       "      <td>0.206226</td>\n",
       "      <td>0.140040</td>\n",
       "      <td>0.102662</td>\n",
       "      <td>0.080986</td>\n",
       "      <td>0.007601</td>\n",
       "      <td>0.181792</td>\n",
       "      <td>0.153363</td>\n",
       "    </tr>\n",
       "    <tr>\n",
       "      <th>inst_rating</th>\n",
       "      <td>0.805424</td>\n",
       "      <td>0.256323</td>\n",
       "      <td>0.236791</td>\n",
       "      <td>0.012541</td>\n",
       "      <td>0.020568</td>\n",
       "      <td>0.005093</td>\n",
       "      <td>0.041018</td>\n",
       "      <td>0.008776</td>\n",
       "      <td>1.000000</td>\n",
       "      <td>0.273169</td>\n",
       "      <td>0.180426</td>\n",
       "      <td>0.122447</td>\n",
       "      <td>0.084899</td>\n",
       "      <td>0.021601</td>\n",
       "      <td>0.190313</td>\n",
       "      <td>0.147372</td>\n",
       "    </tr>\n",
       "    <tr>\n",
       "      <th>inst_review</th>\n",
       "      <td>0.206226</td>\n",
       "      <td>0.414473</td>\n",
       "      <td>0.407849</td>\n",
       "      <td>0.022549</td>\n",
       "      <td>0.015757</td>\n",
       "      <td>0.000736</td>\n",
       "      <td>0.019730</td>\n",
       "      <td>0.017329</td>\n",
       "      <td>0.273169</td>\n",
       "      <td>1.000000</td>\n",
       "      <td>0.847423</td>\n",
       "      <td>0.199721</td>\n",
       "      <td>0.008395</td>\n",
       "      <td>0.053528</td>\n",
       "      <td>0.003307</td>\n",
       "      <td>0.090732</td>\n",
       "    </tr>\n",
       "    <tr>\n",
       "      <th>inst_student</th>\n",
       "      <td>0.140040</td>\n",
       "      <td>0.353208</td>\n",
       "      <td>0.464900</td>\n",
       "      <td>0.007078</td>\n",
       "      <td>0.001395</td>\n",
       "      <td>0.014529</td>\n",
       "      <td>0.013942</td>\n",
       "      <td>0.024901</td>\n",
       "      <td>0.180426</td>\n",
       "      <td>0.847423</td>\n",
       "      <td>1.000000</td>\n",
       "      <td>0.248449</td>\n",
       "      <td>0.024808</td>\n",
       "      <td>0.097001</td>\n",
       "      <td>0.017022</td>\n",
       "      <td>0.092599</td>\n",
       "    </tr>\n",
       "    <tr>\n",
       "      <th>number_ratings</th>\n",
       "      <td>0.233398</td>\n",
       "      <td>1.000000</td>\n",
       "      <td>0.826662</td>\n",
       "      <td>0.022089</td>\n",
       "      <td>0.003667</td>\n",
       "      <td>0.017608</td>\n",
       "      <td>0.039803</td>\n",
       "      <td>0.006865</td>\n",
       "      <td>0.256323</td>\n",
       "      <td>0.414473</td>\n",
       "      <td>0.353208</td>\n",
       "      <td>0.044345</td>\n",
       "      <td>0.012460</td>\n",
       "      <td>0.066907</td>\n",
       "      <td>0.067033</td>\n",
       "      <td>0.034673</td>\n",
       "    </tr>\n",
       "    <tr>\n",
       "      <th>enrollment</th>\n",
       "      <td>0.230170</td>\n",
       "      <td>0.826662</td>\n",
       "      <td>1.000000</td>\n",
       "      <td>0.043140</td>\n",
       "      <td>0.018051</td>\n",
       "      <td>0.022215</td>\n",
       "      <td>0.049826</td>\n",
       "      <td>0.031635</td>\n",
       "      <td>0.236791</td>\n",
       "      <td>0.407849</td>\n",
       "      <td>0.464900</td>\n",
       "      <td>0.041198</td>\n",
       "      <td>0.046369</td>\n",
       "      <td>0.060596</td>\n",
       "      <td>0.093109</td>\n",
       "      <td>0.014679</td>\n",
       "    </tr>\n",
       "  </tbody>\n",
       "</table>\n",
       "</div>"
      ],
      "text/plain": [
       "                    avg_rating  number_ratings  enrollment  last_updated  \\\n",
       "cat_personal_hobby    0.153363        0.034673    0.014679      0.106120   \n",
       "lectures              0.004107        0.003667    0.018051      0.086497   \n",
       "duration              0.043321        0.017608    0.022215      0.091972   \n",
       "discount              0.001114        0.006865    0.031635      0.064315   \n",
       "inst_course           0.102662        0.044345    0.041198      0.041157   \n",
       "last_updated          0.014153        0.022089    0.043140      1.000000   \n",
       "cat_design            0.080986        0.012460    0.046369      0.036930   \n",
       "price2                0.053085        0.039803    0.049826      0.004531   \n",
       "cat_development       0.007601        0.066907    0.060596      0.106683   \n",
       "cat_it_software       0.181792        0.067033    0.093109      0.064155   \n",
       "avg_rating            1.000000        0.233398    0.230170      0.014153   \n",
       "inst_rating           0.805424        0.256323    0.236791      0.012541   \n",
       "inst_review           0.206226        0.414473    0.407849      0.022549   \n",
       "inst_student          0.140040        0.353208    0.464900      0.007078   \n",
       "number_ratings        0.233398        1.000000    0.826662      0.022089   \n",
       "enrollment            0.230170        0.826662    1.000000      0.043140   \n",
       "\n",
       "                    lectures  duration    price2  discount  inst_rating  \\\n",
       "cat_personal_hobby  0.072131  0.085574  0.015241  0.014642     0.147372   \n",
       "lectures            1.000000  0.730963  0.023469  0.025929     0.020568   \n",
       "duration            0.730963  1.000000  0.007310  0.001069     0.005093   \n",
       "discount            0.025929  0.001069  0.025512  1.000000     0.008776   \n",
       "inst_course         0.018127  0.018428  0.004332  0.024864     0.122447   \n",
       "last_updated        0.086497  0.091972  0.004531  0.064315     0.012541   \n",
       "cat_design          0.033922  0.000028  0.020893  0.013965     0.084899   \n",
       "price2              0.023469  0.007310  1.000000  0.025512     0.041018   \n",
       "cat_development     0.207646  0.206195  0.073747  0.017178     0.021601   \n",
       "cat_it_software     0.006284  0.003814  0.017245  0.048579     0.190313   \n",
       "avg_rating          0.004107  0.043321  0.053085  0.001114     0.805424   \n",
       "inst_rating         0.020568  0.005093  0.041018  0.008776     1.000000   \n",
       "inst_review         0.015757  0.000736  0.019730  0.017329     0.273169   \n",
       "inst_student        0.001395  0.014529  0.013942  0.024901     0.180426   \n",
       "number_ratings      0.003667  0.017608  0.039803  0.006865     0.256323   \n",
       "enrollment          0.018051  0.022215  0.049826  0.031635     0.236791   \n",
       "\n",
       "                    inst_review  inst_student  inst_course  cat_design  \\\n",
       "cat_personal_hobby     0.090732      0.092599     0.019555    0.090137   \n",
       "lectures               0.015757      0.001395     0.018127    0.033922   \n",
       "duration               0.000736      0.014529     0.018428    0.000028   \n",
       "discount               0.017329      0.024901     0.024864    0.013965   \n",
       "inst_course            0.199721      0.248449     1.000000    0.035748   \n",
       "last_updated           0.022549      0.007078     0.041157    0.036930   \n",
       "cat_design             0.008395      0.024808     0.035748    1.000000   \n",
       "price2                 0.019730      0.013942     0.004332    0.020893   \n",
       "cat_development        0.053528      0.097001     0.074032    0.172356   \n",
       "cat_it_software        0.003307      0.017022     0.004777    0.169652   \n",
       "avg_rating             0.206226      0.140040     0.102662    0.080986   \n",
       "inst_rating            0.273169      0.180426     0.122447    0.084899   \n",
       "inst_review            1.000000      0.847423     0.199721    0.008395   \n",
       "inst_student           0.847423      1.000000     0.248449    0.024808   \n",
       "number_ratings         0.414473      0.353208     0.044345    0.012460   \n",
       "enrollment             0.407849      0.464900     0.041198    0.046369   \n",
       "\n",
       "                    cat_development  cat_it_software  cat_personal_hobby  \n",
       "cat_personal_hobby         0.171621         0.168928            1.000000  \n",
       "lectures                   0.207646         0.006284            0.072131  \n",
       "duration                   0.206195         0.003814            0.085574  \n",
       "discount                   0.017178         0.048579            0.014642  \n",
       "inst_course                0.074032         0.004777            0.019555  \n",
       "last_updated               0.106683         0.064155            0.106120  \n",
       "cat_design                 0.172356         0.169652            0.090137  \n",
       "price2                     0.073747         0.017245            0.015241  \n",
       "cat_development            1.000000         0.323017            0.171621  \n",
       "cat_it_software            0.323017         1.000000            0.168928  \n",
       "avg_rating                 0.007601         0.181792            0.153363  \n",
       "inst_rating                0.021601         0.190313            0.147372  \n",
       "inst_review                0.053528         0.003307            0.090732  \n",
       "inst_student               0.097001         0.017022            0.092599  \n",
       "number_ratings             0.066907         0.067033            0.034673  \n",
       "enrollment                 0.060596         0.093109            0.014679  "
      ]
     },
     "execution_count": 1105,
     "metadata": {},
     "output_type": "execute_result"
    }
   ],
   "source": [
    "# Absolute Correlation of the dataset features and saving it in a dataframe \n",
    "df_corr = df.corr().abs()\n",
    "df_corr.sort_values(by='enrollment')"
   ]
  },
  {
   "cell_type": "code",
   "execution_count": 1106,
   "metadata": {
    "scrolled": true
   },
   "outputs": [
    {
     "data": {
      "image/png": "[encoded data removed]",
      "text/plain": [
       "<Figure size 432x288 with 2 Axes>"
      ]
     },
     "metadata": {
      "needs_background": "light"
     },
     "output_type": "display_data"
    }
   ],
   "source": [
    "#  HEatmap of the correlation of the features\n",
    "heatmap_corr= np.corrcoef(df_corr)\n",
    "ax = sns.heatmap(heatmap_corr,  vmax=0.5, square=True)"
   ]
  },
  {
   "cell_type": "markdown",
   "metadata": {},
   "source": [
    "### 3.e Feature Observation and hypothesis"
   ]
  },
  {
   "cell_type": "markdown",
   "metadata": {},
   "source": [
    "- After sorting and getting an absolute value of the correlation matrix: \n",
    "    - `inst_course`,\n",
    "    - `price2`\n",
    "    - `discount`\n",
    "  are all not effective while \n",
    "  - `number_ratings`,\n",
    "  - `inst_student`,\n",
    "  - `inst_review` are comparatively effective on enrollment\n",
    "\n"
   ]
  },
  {
   "cell_type": "markdown",
   "metadata": {},
   "source": [
    "### Hypothesis\n",
    "$Hypothesis$: `number_ratings` is very effective in predicting course's enrollment for our regression model"
   ]
  },
  {
   "cell_type": "markdown",
   "metadata": {},
   "source": [
    "### 3.f Multivariate and univariate analysis"
   ]
  },
  {
   "cell_type": "markdown",
   "metadata": {},
   "source": [
    "### Features Univariate analysis  "
   ]
  },
  {
   "cell_type": "markdown",
   "metadata": {},
   "source": [
    "#### Number of Ratings "
   ]
  },
  {
   "cell_type": "code",
   "execution_count": 1107,
   "metadata": {},
   "outputs": [
    {
     "name": "stderr",
     "output_type": "stream",
     "text": [
      "C:\\Users\\kumar\\anaconda3\\lib\\site-packages\\seaborn\\distributions.py:2551: FutureWarning: `distplot` is a deprecated function and will be removed in a future version. Please adapt your code to use either `displot` (a figure-level function with similar flexibility) or `histplot` (an axes-level function for histograms).\n",
      "  warnings.warn(msg, FutureWarning)\n"
     ]
    },
    {
     "data": {
      "text/plain": [
       "<AxesSubplot:xlabel='number_ratings', ylabel='Density'>"
      ]
     },
     "execution_count": 1107,
     "metadata": {},
     "output_type": "execute_result"
    },
    {
     "data": {
      "image/png": "[encoded data removed]",
      "text/plain": [
       "<Figure size 432x288 with 1 Axes>"
      ]
     },
     "metadata": {
      "needs_background": "light"
     },
     "output_type": "display_data"
    }
   ],
   "source": [
    "sns.distplot(df.number_ratings, color= 'y', bins=20)"
   ]
  },
  {
   "cell_type": "markdown",
   "metadata": {},
   "source": [
    "- The distribution of `number of ratings` is right-skewed which means that the 'mean' is towards the  right of the peak.  "
   ]
  },
  {
   "cell_type": "markdown",
   "metadata": {},
   "source": [
    "####  Inst_student "
   ]
  },
  {
   "cell_type": "code",
   "execution_count": 1108,
   "metadata": {},
   "outputs": [
    {
     "name": "stderr",
     "output_type": "stream",
     "text": [
      "C:\\Users\\kumar\\anaconda3\\lib\\site-packages\\seaborn\\distributions.py:2551: FutureWarning: `distplot` is a deprecated function and will be removed in a future version. Please adapt your code to use either `displot` (a figure-level function with similar flexibility) or `histplot` (an axes-level function for histograms).\n",
      "  warnings.warn(msg, FutureWarning)\n"
     ]
    },
    {
     "data": {
      "text/plain": [
       "<AxesSubplot:xlabel='inst_student', ylabel='Density'>"
      ]
     },
     "execution_count": 1108,
     "metadata": {},
     "output_type": "execute_result"
    },
    {
     "data": {
      "image/png": "[encoded data removed]",
      "text/plain": [
       "<Figure size 432x288 with 1 Axes>"
      ]
     },
     "metadata": {
      "needs_background": "light"
     },
     "output_type": "display_data"
    }
   ],
   "source": [
    "sns.distplot(df.inst_student, color= 'black', bins=20)"
   ]
  },
  {
   "cell_type": "markdown",
   "metadata": {},
   "source": [
    "- We see that inst_student is also right skewed which has a lot more data points in the left side than that of right "
   ]
  },
  {
   "cell_type": "markdown",
   "metadata": {},
   "source": [
    "### inst_reviews "
   ]
  },
  {
   "cell_type": "code",
   "execution_count": 1109,
   "metadata": {},
   "outputs": [
    {
     "name": "stderr",
     "output_type": "stream",
     "text": [
      "C:\\Users\\kumar\\anaconda3\\lib\\site-packages\\seaborn\\distributions.py:2551: FutureWarning: `distplot` is a deprecated function and will be removed in a future version. Please adapt your code to use either `displot` (a figure-level function with similar flexibility) or `histplot` (an axes-level function for histograms).\n",
      "  warnings.warn(msg, FutureWarning)\n"
     ]
    },
    {
     "data": {
      "text/plain": [
       "<AxesSubplot:xlabel='inst_review', ylabel='Density'>"
      ]
     },
     "execution_count": 1109,
     "metadata": {},
     "output_type": "execute_result"
    },
    {
     "data": {
      "image/png": "[encoded data removed]",
      "text/plain": [
       "<Figure size 432x288 with 1 Axes>"
      ]
     },
     "metadata": {
      "needs_background": "light"
     },
     "output_type": "display_data"
    }
   ],
   "source": [
    "sns.distplot(df.inst_review, color= 'g', bins=20)"
   ]
  },
  {
   "cell_type": "markdown",
   "metadata": {},
   "source": [
    "- Similarly our inst_reviews are also right skewed where right side has a longer tail"
   ]
  },
  {
   "cell_type": "code",
   "execution_count": 1110,
   "metadata": {},
   "outputs": [
    {
     "name": "stderr",
     "output_type": "stream",
     "text": [
      "C:\\Users\\kumar\\anaconda3\\lib\\site-packages\\seaborn\\distributions.py:2551: FutureWarning: `distplot` is a deprecated function and will be removed in a future version. Please adapt your code to use either `displot` (a figure-level function with similar flexibility) or `histplot` (an axes-level function for histograms).\n",
      "  warnings.warn(msg, FutureWarning)\n"
     ]
    },
    {
     "data": {
      "text/plain": [
       "<AxesSubplot:xlabel='discount', ylabel='Density'>"
      ]
     },
     "execution_count": 1110,
     "metadata": {},
     "output_type": "execute_result"
    },
    {
     "data": {
      "image/png": "[encoded data removed]",
      "text/plain": [
       "<Figure size 432x288 with 1 Axes>"
      ]
     },
     "metadata": {
      "needs_background": "light"
     },
     "output_type": "display_data"
    }
   ],
   "source": [
    "sns.distplot(df.discount, color= 'g', bins=20)"
   ]
  },
  {
   "cell_type": "markdown",
   "metadata": {},
   "source": [
    "- This is our discount column from table which has almsot 0 correlation (0.03) thus we are not considering it for further selection in our manual selection  "
   ]
  },
  {
   "cell_type": "markdown",
   "metadata": {},
   "source": [
    "### MultiVariate Analysis"
   ]
  },
  {
   "cell_type": "code",
   "execution_count": 1111,
   "metadata": {},
   "outputs": [
    {
     "data": {
      "text/plain": [
       "Text(0, 0.5, 'Number of rating')"
      ]
     },
     "execution_count": 1111,
     "metadata": {},
     "output_type": "execute_result"
    },
    {
     "data": {
      "image/png": "[encoded data removed]",
      "text/plain": [
       "<Figure size 432x288 with 1 Axes>"
      ]
     },
     "metadata": {
      "needs_background": "light"
     },
     "output_type": "display_data"
    }
   ],
   "source": [
    "plt.scatter(df.enrollment, df.number_ratings, c='Darkblue')\n",
    "plt.title(\"Enrollment vs numbeR_ratings\")\n",
    "plt.xlabel(\"Enrollment\")\n",
    "plt.ylabel(\"Number of rating\")"
   ]
  },
  {
   "cell_type": "markdown",
   "metadata": {},
   "source": [
    "- Most of the datapoints in this plot of number_ratings and Enrollment are accumulated in the beginning,and eventually they are proportionally distributed as the value increases. this shows a good correlation between the two"
   ]
  },
  {
   "cell_type": "code",
   "execution_count": 1112,
   "metadata": {},
   "outputs": [
    {
     "data": {
      "text/plain": [
       "Text(0, 0.5, 'inst_student')"
      ]
     },
     "execution_count": 1112,
     "metadata": {},
     "output_type": "execute_result"
    },
    {
     "data": {
      "image/png": "[encoded data removed]",
      "text/plain": [
       "<Figure size 432x288 with 1 Axes>"
      ]
     },
     "metadata": {
      "needs_background": "light"
     },
     "output_type": "display_data"
    }
   ],
   "source": [
    "plt.scatter(df.enrollment, df.inst_student, c='pink')\n",
    "plt.title(\"Enrollment vs inst_student\")\n",
    "plt.xlabel(\"Enrollment\")\n",
    "plt.ylabel(\"inst_student\")"
   ]
  },
  {
   "cell_type": "code",
   "execution_count": 1113,
   "metadata": {},
   "outputs": [
    {
     "data": {
      "text/plain": [
       "Text(0, 0.5, 'Discount')"
      ]
     },
     "execution_count": 1113,
     "metadata": {},
     "output_type": "execute_result"
    },
    {
     "data": {
      "image/png": "[encoded data removed]",
      "text/plain": [
       "<Figure size 432x288 with 1 Axes>"
      ]
     },
     "metadata": {
      "needs_background": "light"
     },
     "output_type": "display_data"
    }
   ],
   "source": [
    "plt.scatter(df.enrollment, df.discount, c='orange')\n",
    "plt.title(\"Enrollment vs Discount\")\n",
    "plt.xlabel(\"Enrollment\")\n",
    "plt.ylabel(\"Discount\")"
   ]
  },
  {
   "cell_type": "markdown",
   "metadata": {},
   "source": [
    "- This proves our claim that discount is not related to enrollment and thus the correlation is pretty low"
   ]
  },
  {
   "cell_type": "markdown",
   "metadata": {},
   "source": [
    "## 4. Feature Selection"
   ]
  },
  {
   "cell_type": "markdown",
   "metadata": {},
   "source": [
    "- Each of the following uses feature selection, and are stored in a separate dataframe for a later use of the project "
   ]
  },
  {
   "cell_type": "markdown",
   "metadata": {},
   "source": [
    "### 4.a Saving target and feature\n",
    "\n",
    "- Since we are trying to preddict the enrollment of the course from the dataset we save that as our target variable and everything else is saved in another variable"
   ]
  },
  {
   "cell_type": "code",
   "execution_count": 1114,
   "metadata": {},
   "outputs": [
    {
     "data": {
      "text/plain": [
       "0       54930.0\n",
       "1       21218.0\n",
       "2       14269.0\n",
       "3        2088.0\n",
       "4        3563.0\n",
       "         ...   \n",
       "1537     6212.0\n",
       "1538     3254.0\n",
       "1539    13987.0\n",
       "1540    15793.0\n",
       "1541     3161.0\n",
       "Name: enrollment, Length: 1542, dtype: float64"
      ]
     },
     "execution_count": 1114,
     "metadata": {},
     "output_type": "execute_result"
    }
   ],
   "source": [
    "# Storing enrollment in target\n",
    "target = df.enrollment\n",
    "target"
   ]
  },
  {
   "cell_type": "code",
   "execution_count": 1115,
   "metadata": {
    "scrolled": false
   },
   "outputs": [
    {
     "data": {
      "text/html": [
       "<div>\n",
       "<style scoped>\n",
       "    .dataframe tbody tr th:only-of-type {\n",
       "        vertical-align: middle;\n",
       "    }\n",
       "\n",
       "    .dataframe tbody tr th {\n",
       "        vertical-align: top;\n",
       "    }\n",
       "\n",
       "    .dataframe thead th {\n",
       "        text-align: right;\n",
       "    }\n",
       "</style>\n",
       "<table border=\"1\" class=\"dataframe\">\n",
       "  <thead>\n",
       "    <tr style=\"text-align: right;\">\n",
       "      <th></th>\n",
       "      <th>avg_rating</th>\n",
       "      <th>number_ratings</th>\n",
       "      <th>last_updated</th>\n",
       "      <th>lectures</th>\n",
       "      <th>duration</th>\n",
       "      <th>price2</th>\n",
       "      <th>discount</th>\n",
       "      <th>inst_rating</th>\n",
       "      <th>inst_review</th>\n",
       "      <th>inst_student</th>\n",
       "      <th>inst_course</th>\n",
       "      <th>cat_design</th>\n",
       "      <th>cat_development</th>\n",
       "      <th>cat_it_software</th>\n",
       "      <th>cat_personal_hobby</th>\n",
       "    </tr>\n",
       "  </thead>\n",
       "  <tbody>\n",
       "    <tr>\n",
       "      <th>0</th>\n",
       "      <td>4.2</td>\n",
       "      <td>6340.0</td>\n",
       "      <td>20.666667</td>\n",
       "      <td>162.0</td>\n",
       "      <td>19.383333</td>\n",
       "      <td>23.99</td>\n",
       "      <td>90.0</td>\n",
       "      <td>4.2</td>\n",
       "      <td>13453.0</td>\n",
       "      <td>179306.0</td>\n",
       "      <td>12.0</td>\n",
       "      <td>1</td>\n",
       "      <td>0</td>\n",
       "      <td>0</td>\n",
       "      <td>0</td>\n",
       "    </tr>\n",
       "    <tr>\n",
       "      <th>1</th>\n",
       "      <td>4.6</td>\n",
       "      <td>6833.0</td>\n",
       "      <td>20.833333</td>\n",
       "      <td>53.0</td>\n",
       "      <td>5.233333</td>\n",
       "      <td>23.99</td>\n",
       "      <td>91.0</td>\n",
       "      <td>4.6</td>\n",
       "      <td>19993.0</td>\n",
       "      <td>55621.0</td>\n",
       "      <td>3.0</td>\n",
       "      <td>0</td>\n",
       "      <td>1</td>\n",
       "      <td>0</td>\n",
       "      <td>0</td>\n",
       "    </tr>\n",
       "    <tr>\n",
       "      <th>2</th>\n",
       "      <td>4.5</td>\n",
       "      <td>2826.0</td>\n",
       "      <td>20.833333</td>\n",
       "      <td>41.0</td>\n",
       "      <td>7.133333</td>\n",
       "      <td>19.99</td>\n",
       "      <td>88.0</td>\n",
       "      <td>4.5</td>\n",
       "      <td>11922.0</td>\n",
       "      <td>53659.0</td>\n",
       "      <td>10.0</td>\n",
       "      <td>0</td>\n",
       "      <td>0</td>\n",
       "      <td>0</td>\n",
       "      <td>0</td>\n",
       "    </tr>\n",
       "    <tr>\n",
       "      <th>3</th>\n",
       "      <td>3.3</td>\n",
       "      <td>320.0</td>\n",
       "      <td>17.166667</td>\n",
       "      <td>72.0</td>\n",
       "      <td>4.133333</td>\n",
       "      <td>16.99</td>\n",
       "      <td>90.0</td>\n",
       "      <td>3.3</td>\n",
       "      <td>320.0</td>\n",
       "      <td>4012.0</td>\n",
       "      <td>3.0</td>\n",
       "      <td>0</td>\n",
       "      <td>0</td>\n",
       "      <td>0</td>\n",
       "      <td>0</td>\n",
       "    </tr>\n",
       "    <tr>\n",
       "      <th>4</th>\n",
       "      <td>4.4</td>\n",
       "      <td>991.0</td>\n",
       "      <td>20.666667</td>\n",
       "      <td>91.0</td>\n",
       "      <td>5.233333</td>\n",
       "      <td>28.99</td>\n",
       "      <td>77.0</td>\n",
       "      <td>4.4</td>\n",
       "      <td>2193.0</td>\n",
       "      <td>7422.0</td>\n",
       "      <td>6.0</td>\n",
       "      <td>0</td>\n",
       "      <td>0</td>\n",
       "      <td>0</td>\n",
       "      <td>0</td>\n",
       "    </tr>\n",
       "    <tr>\n",
       "      <th>...</th>\n",
       "      <td>...</td>\n",
       "      <td>...</td>\n",
       "      <td>...</td>\n",
       "      <td>...</td>\n",
       "      <td>...</td>\n",
       "      <td>...</td>\n",
       "      <td>...</td>\n",
       "      <td>...</td>\n",
       "      <td>...</td>\n",
       "      <td>...</td>\n",
       "      <td>...</td>\n",
       "      <td>...</td>\n",
       "      <td>...</td>\n",
       "      <td>...</td>\n",
       "      <td>...</td>\n",
       "    </tr>\n",
       "    <tr>\n",
       "      <th>1537</th>\n",
       "      <td>4.4</td>\n",
       "      <td>345.0</td>\n",
       "      <td>20.833333</td>\n",
       "      <td>10.0</td>\n",
       "      <td>5.900000</td>\n",
       "      <td>16.99</td>\n",
       "      <td>89.0</td>\n",
       "      <td>4.2</td>\n",
       "      <td>9250.0</td>\n",
       "      <td>159228.0</td>\n",
       "      <td>19.0</td>\n",
       "      <td>0</td>\n",
       "      <td>0</td>\n",
       "      <td>1</td>\n",
       "      <td>0</td>\n",
       "    </tr>\n",
       "    <tr>\n",
       "      <th>1538</th>\n",
       "      <td>3.8</td>\n",
       "      <td>693.0</td>\n",
       "      <td>20.750000</td>\n",
       "      <td>20.0</td>\n",
       "      <td>3.133333</td>\n",
       "      <td>21.99</td>\n",
       "      <td>90.0</td>\n",
       "      <td>3.8</td>\n",
       "      <td>693.0</td>\n",
       "      <td>3254.0</td>\n",
       "      <td>1.0</td>\n",
       "      <td>0</td>\n",
       "      <td>0</td>\n",
       "      <td>0</td>\n",
       "      <td>0</td>\n",
       "    </tr>\n",
       "    <tr>\n",
       "      <th>1539</th>\n",
       "      <td>4.2</td>\n",
       "      <td>3459.0</td>\n",
       "      <td>15.500000</td>\n",
       "      <td>30.0</td>\n",
       "      <td>1.583333</td>\n",
       "      <td>16.99</td>\n",
       "      <td>81.0</td>\n",
       "      <td>4.2</td>\n",
       "      <td>9123.0</td>\n",
       "      <td>64043.0</td>\n",
       "      <td>26.0</td>\n",
       "      <td>0</td>\n",
       "      <td>0</td>\n",
       "      <td>0</td>\n",
       "      <td>0</td>\n",
       "    </tr>\n",
       "    <tr>\n",
       "      <th>1540</th>\n",
       "      <td>4.5</td>\n",
       "      <td>4546.0</td>\n",
       "      <td>20.500000</td>\n",
       "      <td>267.0</td>\n",
       "      <td>32.733333</td>\n",
       "      <td>69.99</td>\n",
       "      <td>51.0</td>\n",
       "      <td>4.4</td>\n",
       "      <td>39566.0</td>\n",
       "      <td>149857.0</td>\n",
       "      <td>226.0</td>\n",
       "      <td>0</td>\n",
       "      <td>0</td>\n",
       "      <td>1</td>\n",
       "      <td>0</td>\n",
       "    </tr>\n",
       "    <tr>\n",
       "      <th>1541</th>\n",
       "      <td>3.7</td>\n",
       "      <td>389.0</td>\n",
       "      <td>20.833333</td>\n",
       "      <td>45.0</td>\n",
       "      <td>6.600000</td>\n",
       "      <td>16.99</td>\n",
       "      <td>56.0</td>\n",
       "      <td>4.2</td>\n",
       "      <td>1720.0</td>\n",
       "      <td>7310.0</td>\n",
       "      <td>3.0</td>\n",
       "      <td>0</td>\n",
       "      <td>0</td>\n",
       "      <td>0</td>\n",
       "      <td>0</td>\n",
       "    </tr>\n",
       "  </tbody>\n",
       "</table>\n",
       "<p>1542 rows × 15 columns</p>\n",
       "</div>"
      ],
      "text/plain": [
       "      avg_rating  number_ratings  last_updated  lectures   duration  price2  \\\n",
       "0            4.2          6340.0     20.666667     162.0  19.383333   23.99   \n",
       "1            4.6          6833.0     20.833333      53.0   5.233333   23.99   \n",
       "2            4.5          2826.0     20.833333      41.0   7.133333   19.99   \n",
       "3            3.3           320.0     17.166667      72.0   4.133333   16.99   \n",
       "4            4.4           991.0     20.666667      91.0   5.233333   28.99   \n",
       "...          ...             ...           ...       ...        ...     ...   \n",
       "1537         4.4           345.0     20.833333      10.0   5.900000   16.99   \n",
       "1538         3.8           693.0     20.750000      20.0   3.133333   21.99   \n",
       "1539         4.2          3459.0     15.500000      30.0   1.583333   16.99   \n",
       "1540         4.5          4546.0     20.500000     267.0  32.733333   69.99   \n",
       "1541         3.7           389.0     20.833333      45.0   6.600000   16.99   \n",
       "\n",
       "      discount  inst_rating  inst_review  inst_student  inst_course  \\\n",
       "0         90.0          4.2      13453.0      179306.0         12.0   \n",
       "1         91.0          4.6      19993.0       55621.0          3.0   \n",
       "2         88.0          4.5      11922.0       53659.0         10.0   \n",
       "3         90.0          3.3        320.0        4012.0          3.0   \n",
       "4         77.0          4.4       2193.0        7422.0          6.0   \n",
       "...        ...          ...          ...           ...          ...   \n",
       "1537      89.0          4.2       9250.0      159228.0         19.0   \n",
       "1538      90.0          3.8        693.0        3254.0          1.0   \n",
       "1539      81.0          4.2       9123.0       64043.0         26.0   \n",
       "1540      51.0          4.4      39566.0      149857.0        226.0   \n",
       "1541      56.0          4.2       1720.0        7310.0          3.0   \n",
       "\n",
       "      cat_design  cat_development  cat_it_software  cat_personal_hobby  \n",
       "0              1                0                0                   0  \n",
       "1              0                1                0                   0  \n",
       "2              0                0                0                   0  \n",
       "3              0                0                0                   0  \n",
       "4              0                0                0                   0  \n",
       "...          ...              ...              ...                 ...  \n",
       "1537           0                0                1                   0  \n",
       "1538           0                0                0                   0  \n",
       "1539           0                0                0                   0  \n",
       "1540           0                0                1                   0  \n",
       "1541           0                0                0                   0  \n",
       "\n",
       "[1542 rows x 15 columns]"
      ]
     },
     "execution_count": 1115,
     "metadata": {},
     "output_type": "execute_result"
    }
   ],
   "source": [
    "# everything else saved in feature\n",
    "feature = df.drop('enrollment', axis=1)\n",
    "feature"
   ]
  },
  {
   "cell_type": "markdown",
   "metadata": {},
   "source": [
    "### 4.b Manual Selection"
   ]
  },
  {
   "cell_type": "markdown",
   "metadata": {},
   "source": [
    "- Here we select the features manually based on the correlation of the dataset based on the enrollment column"
   ]
  },
  {
   "cell_type": "code",
   "execution_count": 1116,
   "metadata": {
    "scrolled": false
   },
   "outputs": [
    {
     "data": {
      "text/html": [
       "<div>\n",
       "<style scoped>\n",
       "    .dataframe tbody tr th:only-of-type {\n",
       "        vertical-align: middle;\n",
       "    }\n",
       "\n",
       "    .dataframe tbody tr th {\n",
       "        vertical-align: top;\n",
       "    }\n",
       "\n",
       "    .dataframe thead th {\n",
       "        text-align: right;\n",
       "    }\n",
       "</style>\n",
       "<table border=\"1\" class=\"dataframe\">\n",
       "  <thead>\n",
       "    <tr style=\"text-align: right;\">\n",
       "      <th></th>\n",
       "      <th>avg_rating</th>\n",
       "      <th>number_ratings</th>\n",
       "      <th>enrollment</th>\n",
       "      <th>last_updated</th>\n",
       "      <th>lectures</th>\n",
       "      <th>duration</th>\n",
       "      <th>price2</th>\n",
       "      <th>discount</th>\n",
       "      <th>inst_rating</th>\n",
       "      <th>inst_review</th>\n",
       "      <th>inst_student</th>\n",
       "      <th>inst_course</th>\n",
       "      <th>cat_design</th>\n",
       "      <th>cat_development</th>\n",
       "      <th>cat_it_software</th>\n",
       "      <th>cat_personal_hobby</th>\n",
       "    </tr>\n",
       "  </thead>\n",
       "  <tbody>\n",
       "    <tr>\n",
       "      <th>cat_personal_hobby</th>\n",
       "      <td>0.153363</td>\n",
       "      <td>0.034673</td>\n",
       "      <td>0.014679</td>\n",
       "      <td>0.106120</td>\n",
       "      <td>0.072131</td>\n",
       "      <td>0.085574</td>\n",
       "      <td>0.015241</td>\n",
       "      <td>0.014642</td>\n",
       "      <td>0.147372</td>\n",
       "      <td>0.090732</td>\n",
       "      <td>0.092599</td>\n",
       "      <td>0.019555</td>\n",
       "      <td>0.090137</td>\n",
       "      <td>0.171621</td>\n",
       "      <td>0.168928</td>\n",
       "      <td>1.000000</td>\n",
       "    </tr>\n",
       "    <tr>\n",
       "      <th>lectures</th>\n",
       "      <td>0.004107</td>\n",
       "      <td>0.003667</td>\n",
       "      <td>0.018051</td>\n",
       "      <td>0.086497</td>\n",
       "      <td>1.000000</td>\n",
       "      <td>0.730963</td>\n",
       "      <td>0.023469</td>\n",
       "      <td>0.025929</td>\n",
       "      <td>0.020568</td>\n",
       "      <td>0.015757</td>\n",
       "      <td>0.001395</td>\n",
       "      <td>0.018127</td>\n",
       "      <td>0.033922</td>\n",
       "      <td>0.207646</td>\n",
       "      <td>0.006284</td>\n",
       "      <td>0.072131</td>\n",
       "    </tr>\n",
       "    <tr>\n",
       "      <th>duration</th>\n",
       "      <td>0.043321</td>\n",
       "      <td>0.017608</td>\n",
       "      <td>0.022215</td>\n",
       "      <td>0.091972</td>\n",
       "      <td>0.730963</td>\n",
       "      <td>1.000000</td>\n",
       "      <td>0.007310</td>\n",
       "      <td>0.001069</td>\n",
       "      <td>0.005093</td>\n",
       "      <td>0.000736</td>\n",
       "      <td>0.014529</td>\n",
       "      <td>0.018428</td>\n",
       "      <td>0.000028</td>\n",
       "      <td>0.206195</td>\n",
       "      <td>0.003814</td>\n",
       "      <td>0.085574</td>\n",
       "    </tr>\n",
       "    <tr>\n",
       "      <th>discount</th>\n",
       "      <td>0.001114</td>\n",
       "      <td>0.006865</td>\n",
       "      <td>0.031635</td>\n",
       "      <td>0.064315</td>\n",
       "      <td>0.025929</td>\n",
       "      <td>0.001069</td>\n",
       "      <td>0.025512</td>\n",
       "      <td>1.000000</td>\n",
       "      <td>0.008776</td>\n",
       "      <td>0.017329</td>\n",
       "      <td>0.024901</td>\n",
       "      <td>0.024864</td>\n",
       "      <td>0.013965</td>\n",
       "      <td>0.017178</td>\n",
       "      <td>0.048579</td>\n",
       "      <td>0.014642</td>\n",
       "    </tr>\n",
       "    <tr>\n",
       "      <th>inst_course</th>\n",
       "      <td>0.102662</td>\n",
       "      <td>0.044345</td>\n",
       "      <td>0.041198</td>\n",
       "      <td>0.041157</td>\n",
       "      <td>0.018127</td>\n",
       "      <td>0.018428</td>\n",
       "      <td>0.004332</td>\n",
       "      <td>0.024864</td>\n",
       "      <td>0.122447</td>\n",
       "      <td>0.199721</td>\n",
       "      <td>0.248449</td>\n",
       "      <td>1.000000</td>\n",
       "      <td>0.035748</td>\n",
       "      <td>0.074032</td>\n",
       "      <td>0.004777</td>\n",
       "      <td>0.019555</td>\n",
       "    </tr>\n",
       "    <tr>\n",
       "      <th>last_updated</th>\n",
       "      <td>0.014153</td>\n",
       "      <td>0.022089</td>\n",
       "      <td>0.043140</td>\n",
       "      <td>1.000000</td>\n",
       "      <td>0.086497</td>\n",
       "      <td>0.091972</td>\n",
       "      <td>0.004531</td>\n",
       "      <td>0.064315</td>\n",
       "      <td>0.012541</td>\n",
       "      <td>0.022549</td>\n",
       "      <td>0.007078</td>\n",
       "      <td>0.041157</td>\n",
       "      <td>0.036930</td>\n",
       "      <td>0.106683</td>\n",
       "      <td>0.064155</td>\n",
       "      <td>0.106120</td>\n",
       "    </tr>\n",
       "    <tr>\n",
       "      <th>cat_design</th>\n",
       "      <td>0.080986</td>\n",
       "      <td>0.012460</td>\n",
       "      <td>0.046369</td>\n",
       "      <td>0.036930</td>\n",
       "      <td>0.033922</td>\n",
       "      <td>0.000028</td>\n",
       "      <td>0.020893</td>\n",
       "      <td>0.013965</td>\n",
       "      <td>0.084899</td>\n",
       "      <td>0.008395</td>\n",
       "      <td>0.024808</td>\n",
       "      <td>0.035748</td>\n",
       "      <td>1.000000</td>\n",
       "      <td>0.172356</td>\n",
       "      <td>0.169652</td>\n",
       "      <td>0.090137</td>\n",
       "    </tr>\n",
       "    <tr>\n",
       "      <th>price2</th>\n",
       "      <td>0.053085</td>\n",
       "      <td>0.039803</td>\n",
       "      <td>0.049826</td>\n",
       "      <td>0.004531</td>\n",
       "      <td>0.023469</td>\n",
       "      <td>0.007310</td>\n",
       "      <td>1.000000</td>\n",
       "      <td>0.025512</td>\n",
       "      <td>0.041018</td>\n",
       "      <td>0.019730</td>\n",
       "      <td>0.013942</td>\n",
       "      <td>0.004332</td>\n",
       "      <td>0.020893</td>\n",
       "      <td>0.073747</td>\n",
       "      <td>0.017245</td>\n",
       "      <td>0.015241</td>\n",
       "    </tr>\n",
       "    <tr>\n",
       "      <th>cat_development</th>\n",
       "      <td>0.007601</td>\n",
       "      <td>0.066907</td>\n",
       "      <td>0.060596</td>\n",
       "      <td>0.106683</td>\n",
       "      <td>0.207646</td>\n",
       "      <td>0.206195</td>\n",
       "      <td>0.073747</td>\n",
       "      <td>0.017178</td>\n",
       "      <td>0.021601</td>\n",
       "      <td>0.053528</td>\n",
       "      <td>0.097001</td>\n",
       "      <td>0.074032</td>\n",
       "      <td>0.172356</td>\n",
       "      <td>1.000000</td>\n",
       "      <td>0.323017</td>\n",
       "      <td>0.171621</td>\n",
       "    </tr>\n",
       "    <tr>\n",
       "      <th>cat_it_software</th>\n",
       "      <td>0.181792</td>\n",
       "      <td>0.067033</td>\n",
       "      <td>0.093109</td>\n",
       "      <td>0.064155</td>\n",
       "      <td>0.006284</td>\n",
       "      <td>0.003814</td>\n",
       "      <td>0.017245</td>\n",
       "      <td>0.048579</td>\n",
       "      <td>0.190313</td>\n",
       "      <td>0.003307</td>\n",
       "      <td>0.017022</td>\n",
       "      <td>0.004777</td>\n",
       "      <td>0.169652</td>\n",
       "      <td>0.323017</td>\n",
       "      <td>1.000000</td>\n",
       "      <td>0.168928</td>\n",
       "    </tr>\n",
       "    <tr>\n",
       "      <th>avg_rating</th>\n",
       "      <td>1.000000</td>\n",
       "      <td>0.233398</td>\n",
       "      <td>0.230170</td>\n",
       "      <td>0.014153</td>\n",
       "      <td>0.004107</td>\n",
       "      <td>0.043321</td>\n",
       "      <td>0.053085</td>\n",
       "      <td>0.001114</td>\n",
       "      <td>0.805424</td>\n",
       "      <td>0.206226</td>\n",
       "      <td>0.140040</td>\n",
       "      <td>0.102662</td>\n",
       "      <td>0.080986</td>\n",
       "      <td>0.007601</td>\n",
       "      <td>0.181792</td>\n",
       "      <td>0.153363</td>\n",
       "    </tr>\n",
       "    <tr>\n",
       "      <th>inst_rating</th>\n",
       "      <td>0.805424</td>\n",
       "      <td>0.256323</td>\n",
       "      <td>0.236791</td>\n",
       "      <td>0.012541</td>\n",
       "      <td>0.020568</td>\n",
       "      <td>0.005093</td>\n",
       "      <td>0.041018</td>\n",
       "      <td>0.008776</td>\n",
       "      <td>1.000000</td>\n",
       "      <td>0.273169</td>\n",
       "      <td>0.180426</td>\n",
       "      <td>0.122447</td>\n",
       "      <td>0.084899</td>\n",
       "      <td>0.021601</td>\n",
       "      <td>0.190313</td>\n",
       "      <td>0.147372</td>\n",
       "    </tr>\n",
       "    <tr>\n",
       "      <th>inst_review</th>\n",
       "      <td>0.206226</td>\n",
       "      <td>0.414473</td>\n",
       "      <td>0.407849</td>\n",
       "      <td>0.022549</td>\n",
       "      <td>0.015757</td>\n",
       "      <td>0.000736</td>\n",
       "      <td>0.019730</td>\n",
       "      <td>0.017329</td>\n",
       "      <td>0.273169</td>\n",
       "      <td>1.000000</td>\n",
       "      <td>0.847423</td>\n",
       "      <td>0.199721</td>\n",
       "      <td>0.008395</td>\n",
       "      <td>0.053528</td>\n",
       "      <td>0.003307</td>\n",
       "      <td>0.090732</td>\n",
       "    </tr>\n",
       "    <tr>\n",
       "      <th>inst_student</th>\n",
       "      <td>0.140040</td>\n",
       "      <td>0.353208</td>\n",
       "      <td>0.464900</td>\n",
       "      <td>0.007078</td>\n",
       "      <td>0.001395</td>\n",
       "      <td>0.014529</td>\n",
       "      <td>0.013942</td>\n",
       "      <td>0.024901</td>\n",
       "      <td>0.180426</td>\n",
       "      <td>0.847423</td>\n",
       "      <td>1.000000</td>\n",
       "      <td>0.248449</td>\n",
       "      <td>0.024808</td>\n",
       "      <td>0.097001</td>\n",
       "      <td>0.017022</td>\n",
       "      <td>0.092599</td>\n",
       "    </tr>\n",
       "    <tr>\n",
       "      <th>number_ratings</th>\n",
       "      <td>0.233398</td>\n",
       "      <td>1.000000</td>\n",
       "      <td>0.826662</td>\n",
       "      <td>0.022089</td>\n",
       "      <td>0.003667</td>\n",
       "      <td>0.017608</td>\n",
       "      <td>0.039803</td>\n",
       "      <td>0.006865</td>\n",
       "      <td>0.256323</td>\n",
       "      <td>0.414473</td>\n",
       "      <td>0.353208</td>\n",
       "      <td>0.044345</td>\n",
       "      <td>0.012460</td>\n",
       "      <td>0.066907</td>\n",
       "      <td>0.067033</td>\n",
       "      <td>0.034673</td>\n",
       "    </tr>\n",
       "    <tr>\n",
       "      <th>enrollment</th>\n",
       "      <td>0.230170</td>\n",
       "      <td>0.826662</td>\n",
       "      <td>1.000000</td>\n",
       "      <td>0.043140</td>\n",
       "      <td>0.018051</td>\n",
       "      <td>0.022215</td>\n",
       "      <td>0.049826</td>\n",
       "      <td>0.031635</td>\n",
       "      <td>0.236791</td>\n",
       "      <td>0.407849</td>\n",
       "      <td>0.464900</td>\n",
       "      <td>0.041198</td>\n",
       "      <td>0.046369</td>\n",
       "      <td>0.060596</td>\n",
       "      <td>0.093109</td>\n",
       "      <td>0.014679</td>\n",
       "    </tr>\n",
       "  </tbody>\n",
       "</table>\n",
       "</div>"
      ],
      "text/plain": [
       "                    avg_rating  number_ratings  enrollment  last_updated  \\\n",
       "cat_personal_hobby    0.153363        0.034673    0.014679      0.106120   \n",
       "lectures              0.004107        0.003667    0.018051      0.086497   \n",
       "duration              0.043321        0.017608    0.022215      0.091972   \n",
       "discount              0.001114        0.006865    0.031635      0.064315   \n",
       "inst_course           0.102662        0.044345    0.041198      0.041157   \n",
       "last_updated          0.014153        0.022089    0.043140      1.000000   \n",
       "cat_design            0.080986        0.012460    0.046369      0.036930   \n",
       "price2                0.053085        0.039803    0.049826      0.004531   \n",
       "cat_development       0.007601        0.066907    0.060596      0.106683   \n",
       "cat_it_software       0.181792        0.067033    0.093109      0.064155   \n",
       "avg_rating            1.000000        0.233398    0.230170      0.014153   \n",
       "inst_rating           0.805424        0.256323    0.236791      0.012541   \n",
       "inst_review           0.206226        0.414473    0.407849      0.022549   \n",
       "inst_student          0.140040        0.353208    0.464900      0.007078   \n",
       "number_ratings        0.233398        1.000000    0.826662      0.022089   \n",
       "enrollment            0.230170        0.826662    1.000000      0.043140   \n",
       "\n",
       "                    lectures  duration    price2  discount  inst_rating  \\\n",
       "cat_personal_hobby  0.072131  0.085574  0.015241  0.014642     0.147372   \n",
       "lectures            1.000000  0.730963  0.023469  0.025929     0.020568   \n",
       "duration            0.730963  1.000000  0.007310  0.001069     0.005093   \n",
       "discount            0.025929  0.001069  0.025512  1.000000     0.008776   \n",
       "inst_course         0.018127  0.018428  0.004332  0.024864     0.122447   \n",
       "last_updated        0.086497  0.091972  0.004531  0.064315     0.012541   \n",
       "cat_design          0.033922  0.000028  0.020893  0.013965     0.084899   \n",
       "price2              0.023469  0.007310  1.000000  0.025512     0.041018   \n",
       "cat_development     0.207646  0.206195  0.073747  0.017178     0.021601   \n",
       "cat_it_software     0.006284  0.003814  0.017245  0.048579     0.190313   \n",
       "avg_rating          0.004107  0.043321  0.053085  0.001114     0.805424   \n",
       "inst_rating         0.020568  0.005093  0.041018  0.008776     1.000000   \n",
       "inst_review         0.015757  0.000736  0.019730  0.017329     0.273169   \n",
       "inst_student        0.001395  0.014529  0.013942  0.024901     0.180426   \n",
       "number_ratings      0.003667  0.017608  0.039803  0.006865     0.256323   \n",
       "enrollment          0.018051  0.022215  0.049826  0.031635     0.236791   \n",
       "\n",
       "                    inst_review  inst_student  inst_course  cat_design  \\\n",
       "cat_personal_hobby     0.090732      0.092599     0.019555    0.090137   \n",
       "lectures               0.015757      0.001395     0.018127    0.033922   \n",
       "duration               0.000736      0.014529     0.018428    0.000028   \n",
       "discount               0.017329      0.024901     0.024864    0.013965   \n",
       "inst_course            0.199721      0.248449     1.000000    0.035748   \n",
       "last_updated           0.022549      0.007078     0.041157    0.036930   \n",
       "cat_design             0.008395      0.024808     0.035748    1.000000   \n",
       "price2                 0.019730      0.013942     0.004332    0.020893   \n",
       "cat_development        0.053528      0.097001     0.074032    0.172356   \n",
       "cat_it_software        0.003307      0.017022     0.004777    0.169652   \n",
       "avg_rating             0.206226      0.140040     0.102662    0.080986   \n",
       "inst_rating            0.273169      0.180426     0.122447    0.084899   \n",
       "inst_review            1.000000      0.847423     0.199721    0.008395   \n",
       "inst_student           0.847423      1.000000     0.248449    0.024808   \n",
       "number_ratings         0.414473      0.353208     0.044345    0.012460   \n",
       "enrollment             0.407849      0.464900     0.041198    0.046369   \n",
       "\n",
       "                    cat_development  cat_it_software  cat_personal_hobby  \n",
       "cat_personal_hobby         0.171621         0.168928            1.000000  \n",
       "lectures                   0.207646         0.006284            0.072131  \n",
       "duration                   0.206195         0.003814            0.085574  \n",
       "discount                   0.017178         0.048579            0.014642  \n",
       "inst_course                0.074032         0.004777            0.019555  \n",
       "last_updated               0.106683         0.064155            0.106120  \n",
       "cat_design                 0.172356         0.169652            0.090137  \n",
       "price2                     0.073747         0.017245            0.015241  \n",
       "cat_development            1.000000         0.323017            0.171621  \n",
       "cat_it_software            0.323017         1.000000            0.168928  \n",
       "avg_rating                 0.007601         0.181792            0.153363  \n",
       "inst_rating                0.021601         0.190313            0.147372  \n",
       "inst_review                0.053528         0.003307            0.090732  \n",
       "inst_student               0.097001         0.017022            0.092599  \n",
       "number_ratings             0.066907         0.067033            0.034673  \n",
       "enrollment                 0.060596         0.093109            0.014679  "
      ]
     },
     "execution_count": 1116,
     "metadata": {},
     "output_type": "execute_result"
    }
   ],
   "source": [
    "#  sorting the correlation based on enrollment\n",
    "df.corr().abs().sort_values(by='enrollment')"
   ]
  },
  {
   "cell_type": "markdown",
   "metadata": {},
   "source": [
    "- from the above correlation table we see that number_ratings has the best correlation to enrollment\n",
    "- we choose top four out of these which are \n",
    "    - `number_ratings` : 0.826662 $(best)$\n",
    "    - `'inst_student'`: 0.4649\n",
    "    - `'inst_review'`: 0.407849\n",
    "    - `'avg_rating'`: 0.236791 (this value is arguable as the value is closer to 0 thus not really a strong correlation but we still pick it up as we can have some varieties)"
   ]
  },
  {
   "cell_type": "code",
   "execution_count": 1117,
   "metadata": {},
   "outputs": [
    {
     "data": {
      "text/html": [
       "<div>\n",
       "<style scoped>\n",
       "    .dataframe tbody tr th:only-of-type {\n",
       "        vertical-align: middle;\n",
       "    }\n",
       "\n",
       "    .dataframe tbody tr th {\n",
       "        vertical-align: top;\n",
       "    }\n",
       "\n",
       "    .dataframe thead th {\n",
       "        text-align: right;\n",
       "    }\n",
       "</style>\n",
       "<table border=\"1\" class=\"dataframe\">\n",
       "  <thead>\n",
       "    <tr style=\"text-align: right;\">\n",
       "      <th></th>\n",
       "      <th>number_ratings</th>\n",
       "      <th>inst_student</th>\n",
       "      <th>inst_review</th>\n",
       "      <th>avg_rating</th>\n",
       "    </tr>\n",
       "  </thead>\n",
       "  <tbody>\n",
       "    <tr>\n",
       "      <th>0</th>\n",
       "      <td>6340.0</td>\n",
       "      <td>179306.0</td>\n",
       "      <td>13453.0</td>\n",
       "      <td>4.2</td>\n",
       "    </tr>\n",
       "    <tr>\n",
       "      <th>1</th>\n",
       "      <td>6833.0</td>\n",
       "      <td>55621.0</td>\n",
       "      <td>19993.0</td>\n",
       "      <td>4.6</td>\n",
       "    </tr>\n",
       "    <tr>\n",
       "      <th>2</th>\n",
       "      <td>2826.0</td>\n",
       "      <td>53659.0</td>\n",
       "      <td>11922.0</td>\n",
       "      <td>4.5</td>\n",
       "    </tr>\n",
       "    <tr>\n",
       "      <th>3</th>\n",
       "      <td>320.0</td>\n",
       "      <td>4012.0</td>\n",
       "      <td>320.0</td>\n",
       "      <td>3.3</td>\n",
       "    </tr>\n",
       "    <tr>\n",
       "      <th>4</th>\n",
       "      <td>991.0</td>\n",
       "      <td>7422.0</td>\n",
       "      <td>2193.0</td>\n",
       "      <td>4.4</td>\n",
       "    </tr>\n",
       "    <tr>\n",
       "      <th>...</th>\n",
       "      <td>...</td>\n",
       "      <td>...</td>\n",
       "      <td>...</td>\n",
       "      <td>...</td>\n",
       "    </tr>\n",
       "    <tr>\n",
       "      <th>1537</th>\n",
       "      <td>345.0</td>\n",
       "      <td>159228.0</td>\n",
       "      <td>9250.0</td>\n",
       "      <td>4.4</td>\n",
       "    </tr>\n",
       "    <tr>\n",
       "      <th>1538</th>\n",
       "      <td>693.0</td>\n",
       "      <td>3254.0</td>\n",
       "      <td>693.0</td>\n",
       "      <td>3.8</td>\n",
       "    </tr>\n",
       "    <tr>\n",
       "      <th>1539</th>\n",
       "      <td>3459.0</td>\n",
       "      <td>64043.0</td>\n",
       "      <td>9123.0</td>\n",
       "      <td>4.2</td>\n",
       "    </tr>\n",
       "    <tr>\n",
       "      <th>1540</th>\n",
       "      <td>4546.0</td>\n",
       "      <td>149857.0</td>\n",
       "      <td>39566.0</td>\n",
       "      <td>4.5</td>\n",
       "    </tr>\n",
       "    <tr>\n",
       "      <th>1541</th>\n",
       "      <td>389.0</td>\n",
       "      <td>7310.0</td>\n",
       "      <td>1720.0</td>\n",
       "      <td>3.7</td>\n",
       "    </tr>\n",
       "  </tbody>\n",
       "</table>\n",
       "<p>1542 rows × 4 columns</p>\n",
       "</div>"
      ],
      "text/plain": [
       "      number_ratings  inst_student  inst_review  avg_rating\n",
       "0             6340.0      179306.0      13453.0         4.2\n",
       "1             6833.0       55621.0      19993.0         4.6\n",
       "2             2826.0       53659.0      11922.0         4.5\n",
       "3              320.0        4012.0        320.0         3.3\n",
       "4              991.0        7422.0       2193.0         4.4\n",
       "...              ...           ...          ...         ...\n",
       "1537           345.0      159228.0       9250.0         4.4\n",
       "1538           693.0        3254.0        693.0         3.8\n",
       "1539          3459.0       64043.0       9123.0         4.2\n",
       "1540          4546.0      149857.0      39566.0         4.5\n",
       "1541           389.0        7310.0       1720.0         3.7\n",
       "\n",
       "[1542 rows x 4 columns]"
      ]
     },
     "execution_count": 1117,
     "metadata": {},
     "output_type": "execute_result"
    }
   ],
   "source": [
    "# we will save this in a new dataframe called df_manual\n",
    "#  we pick 4 features out of the columns of features Dataframe and save it in our df_manual DF\n",
    "\n",
    "df_manual = feature[['number_ratings','inst_student','inst_review','avg_rating']]\n",
    "df_manual"
   ]
  },
  {
   "cell_type": "markdown",
   "metadata": {},
   "source": [
    "### 4.c Variance Threshold Selection"
   ]
  },
  {
   "cell_type": "code",
   "execution_count": 1118,
   "metadata": {},
   "outputs": [
    {
     "data": {
      "text/plain": [
       "VarianceThreshold(threshold=0.3)"
      ]
     },
     "execution_count": 1118,
     "metadata": {},
     "output_type": "execute_result"
    }
   ],
   "source": [
    "#  Variance Threshold with threshold = 0.3\n",
    "vt= VarianceThreshold(threshold=0.3)\n",
    "\n",
    "#  fitting the model with features\n",
    "vt.fit(feature)\n",
    "vt"
   ]
  },
  {
   "cell_type": "code",
   "execution_count": 1119,
   "metadata": {},
   "outputs": [
    {
     "data": {
      "text/html": [
       "<div>\n",
       "<style scoped>\n",
       "    .dataframe tbody tr th:only-of-type {\n",
       "        vertical-align: middle;\n",
       "    }\n",
       "\n",
       "    .dataframe tbody tr th {\n",
       "        vertical-align: top;\n",
       "    }\n",
       "\n",
       "    .dataframe thead th {\n",
       "        text-align: right;\n",
       "    }\n",
       "</style>\n",
       "<table border=\"1\" class=\"dataframe\">\n",
       "  <thead>\n",
       "    <tr style=\"text-align: right;\">\n",
       "      <th></th>\n",
       "      <th>Variance</th>\n",
       "      <th>select_status</th>\n",
       "    </tr>\n",
       "  </thead>\n",
       "  <tbody>\n",
       "    <tr>\n",
       "      <th>avg_rating</th>\n",
       "      <td>8.078951e-02</td>\n",
       "      <td>False</td>\n",
       "    </tr>\n",
       "    <tr>\n",
       "      <th>number_ratings</th>\n",
       "      <td>5.182376e+06</td>\n",
       "      <td>True</td>\n",
       "    </tr>\n",
       "    <tr>\n",
       "      <th>last_updated</th>\n",
       "      <td>1.866740e+00</td>\n",
       "      <td>True</td>\n",
       "    </tr>\n",
       "    <tr>\n",
       "      <th>lectures</th>\n",
       "      <td>8.965315e+03</td>\n",
       "      <td>True</td>\n",
       "    </tr>\n",
       "    <tr>\n",
       "      <th>duration</th>\n",
       "      <td>1.696200e+02</td>\n",
       "      <td>True</td>\n",
       "    </tr>\n",
       "    <tr>\n",
       "      <th>price2</th>\n",
       "      <td>4.589495e+02</td>\n",
       "      <td>True</td>\n",
       "    </tr>\n",
       "    <tr>\n",
       "      <th>discount</th>\n",
       "      <td>2.689102e+02</td>\n",
       "      <td>True</td>\n",
       "    </tr>\n",
       "    <tr>\n",
       "      <th>inst_rating</th>\n",
       "      <td>5.695593e-02</td>\n",
       "      <td>False</td>\n",
       "    </tr>\n",
       "    <tr>\n",
       "      <th>inst_review</th>\n",
       "      <td>3.507089e+08</td>\n",
       "      <td>True</td>\n",
       "    </tr>\n",
       "    <tr>\n",
       "      <th>inst_student</th>\n",
       "      <td>8.976679e+09</td>\n",
       "      <td>True</td>\n",
       "    </tr>\n",
       "    <tr>\n",
       "      <th>inst_course</th>\n",
       "      <td>9.586676e+03</td>\n",
       "      <td>True</td>\n",
       "    </tr>\n",
       "    <tr>\n",
       "      <th>cat_design</th>\n",
       "      <td>7.611857e-02</td>\n",
       "      <td>False</td>\n",
       "    </tr>\n",
       "    <tr>\n",
       "      <th>cat_development</th>\n",
       "      <td>1.860323e-01</td>\n",
       "      <td>False</td>\n",
       "    </tr>\n",
       "    <tr>\n",
       "      <th>cat_it_software</th>\n",
       "      <td>1.830459e-01</td>\n",
       "      <td>False</td>\n",
       "    </tr>\n",
       "    <tr>\n",
       "      <th>cat_personal_hobby</th>\n",
       "      <td>7.557731e-02</td>\n",
       "      <td>False</td>\n",
       "    </tr>\n",
       "  </tbody>\n",
       "</table>\n",
       "</div>"
      ],
      "text/plain": [
       "                        Variance  select_status\n",
       "avg_rating          8.078951e-02          False\n",
       "number_ratings      5.182376e+06           True\n",
       "last_updated        1.866740e+00           True\n",
       "lectures            8.965315e+03           True\n",
       "duration            1.696200e+02           True\n",
       "price2              4.589495e+02           True\n",
       "discount            2.689102e+02           True\n",
       "inst_rating         5.695593e-02          False\n",
       "inst_review         3.507089e+08           True\n",
       "inst_student        8.976679e+09           True\n",
       "inst_course         9.586676e+03           True\n",
       "cat_design          7.611857e-02          False\n",
       "cat_development     1.860323e-01          False\n",
       "cat_it_software     1.830459e-01          False\n",
       "cat_personal_hobby  7.557731e-02          False"
      ]
     },
     "execution_count": 1119,
     "metadata": {},
     "output_type": "execute_result"
    }
   ],
   "source": [
    "#  Dataframe to display the variance of each of the features and shows whether the given feature is chosen(True) or not(Not) \n",
    "pd.DataFrame({'Variance':vt.variances_,'select_status': vt.get_support()}, index=feature.columns)"
   ]
  },
  {
   "cell_type": "code",
   "execution_count": 1120,
   "metadata": {},
   "outputs": [
    {
     "data": {
      "text/html": [
       "<div>\n",
       "<style scoped>\n",
       "    .dataframe tbody tr th:only-of-type {\n",
       "        vertical-align: middle;\n",
       "    }\n",
       "\n",
       "    .dataframe tbody tr th {\n",
       "        vertical-align: top;\n",
       "    }\n",
       "\n",
       "    .dataframe thead th {\n",
       "        text-align: right;\n",
       "    }\n",
       "</style>\n",
       "<table border=\"1\" class=\"dataframe\">\n",
       "  <thead>\n",
       "    <tr style=\"text-align: right;\">\n",
       "      <th></th>\n",
       "      <th>number_ratings</th>\n",
       "      <th>last_updated</th>\n",
       "      <th>lectures</th>\n",
       "      <th>duration</th>\n",
       "      <th>price2</th>\n",
       "      <th>discount</th>\n",
       "      <th>inst_review</th>\n",
       "      <th>inst_student</th>\n",
       "      <th>inst_course</th>\n",
       "    </tr>\n",
       "  </thead>\n",
       "  <tbody>\n",
       "    <tr>\n",
       "      <th>0</th>\n",
       "      <td>6340.0</td>\n",
       "      <td>20.666667</td>\n",
       "      <td>162.0</td>\n",
       "      <td>19.383333</td>\n",
       "      <td>23.99</td>\n",
       "      <td>90.0</td>\n",
       "      <td>13453.0</td>\n",
       "      <td>179306.0</td>\n",
       "      <td>12.0</td>\n",
       "    </tr>\n",
       "    <tr>\n",
       "      <th>1</th>\n",
       "      <td>6833.0</td>\n",
       "      <td>20.833333</td>\n",
       "      <td>53.0</td>\n",
       "      <td>5.233333</td>\n",
       "      <td>23.99</td>\n",
       "      <td>91.0</td>\n",
       "      <td>19993.0</td>\n",
       "      <td>55621.0</td>\n",
       "      <td>3.0</td>\n",
       "    </tr>\n",
       "    <tr>\n",
       "      <th>2</th>\n",
       "      <td>2826.0</td>\n",
       "      <td>20.833333</td>\n",
       "      <td>41.0</td>\n",
       "      <td>7.133333</td>\n",
       "      <td>19.99</td>\n",
       "      <td>88.0</td>\n",
       "      <td>11922.0</td>\n",
       "      <td>53659.0</td>\n",
       "      <td>10.0</td>\n",
       "    </tr>\n",
       "    <tr>\n",
       "      <th>3</th>\n",
       "      <td>320.0</td>\n",
       "      <td>17.166667</td>\n",
       "      <td>72.0</td>\n",
       "      <td>4.133333</td>\n",
       "      <td>16.99</td>\n",
       "      <td>90.0</td>\n",
       "      <td>320.0</td>\n",
       "      <td>4012.0</td>\n",
       "      <td>3.0</td>\n",
       "    </tr>\n",
       "    <tr>\n",
       "      <th>4</th>\n",
       "      <td>991.0</td>\n",
       "      <td>20.666667</td>\n",
       "      <td>91.0</td>\n",
       "      <td>5.233333</td>\n",
       "      <td>28.99</td>\n",
       "      <td>77.0</td>\n",
       "      <td>2193.0</td>\n",
       "      <td>7422.0</td>\n",
       "      <td>6.0</td>\n",
       "    </tr>\n",
       "    <tr>\n",
       "      <th>...</th>\n",
       "      <td>...</td>\n",
       "      <td>...</td>\n",
       "      <td>...</td>\n",
       "      <td>...</td>\n",
       "      <td>...</td>\n",
       "      <td>...</td>\n",
       "      <td>...</td>\n",
       "      <td>...</td>\n",
       "      <td>...</td>\n",
       "    </tr>\n",
       "    <tr>\n",
       "      <th>1537</th>\n",
       "      <td>345.0</td>\n",
       "      <td>20.833333</td>\n",
       "      <td>10.0</td>\n",
       "      <td>5.900000</td>\n",
       "      <td>16.99</td>\n",
       "      <td>89.0</td>\n",
       "      <td>9250.0</td>\n",
       "      <td>159228.0</td>\n",
       "      <td>19.0</td>\n",
       "    </tr>\n",
       "    <tr>\n",
       "      <th>1538</th>\n",
       "      <td>693.0</td>\n",
       "      <td>20.750000</td>\n",
       "      <td>20.0</td>\n",
       "      <td>3.133333</td>\n",
       "      <td>21.99</td>\n",
       "      <td>90.0</td>\n",
       "      <td>693.0</td>\n",
       "      <td>3254.0</td>\n",
       "      <td>1.0</td>\n",
       "    </tr>\n",
       "    <tr>\n",
       "      <th>1539</th>\n",
       "      <td>3459.0</td>\n",
       "      <td>15.500000</td>\n",
       "      <td>30.0</td>\n",
       "      <td>1.583333</td>\n",
       "      <td>16.99</td>\n",
       "      <td>81.0</td>\n",
       "      <td>9123.0</td>\n",
       "      <td>64043.0</td>\n",
       "      <td>26.0</td>\n",
       "    </tr>\n",
       "    <tr>\n",
       "      <th>1540</th>\n",
       "      <td>4546.0</td>\n",
       "      <td>20.500000</td>\n",
       "      <td>267.0</td>\n",
       "      <td>32.733333</td>\n",
       "      <td>69.99</td>\n",
       "      <td>51.0</td>\n",
       "      <td>39566.0</td>\n",
       "      <td>149857.0</td>\n",
       "      <td>226.0</td>\n",
       "    </tr>\n",
       "    <tr>\n",
       "      <th>1541</th>\n",
       "      <td>389.0</td>\n",
       "      <td>20.833333</td>\n",
       "      <td>45.0</td>\n",
       "      <td>6.600000</td>\n",
       "      <td>16.99</td>\n",
       "      <td>56.0</td>\n",
       "      <td>1720.0</td>\n",
       "      <td>7310.0</td>\n",
       "      <td>3.0</td>\n",
       "    </tr>\n",
       "  </tbody>\n",
       "</table>\n",
       "<p>1542 rows × 9 columns</p>\n",
       "</div>"
      ],
      "text/plain": [
       "      number_ratings  last_updated  lectures   duration  price2  discount  \\\n",
       "0             6340.0     20.666667     162.0  19.383333   23.99      90.0   \n",
       "1             6833.0     20.833333      53.0   5.233333   23.99      91.0   \n",
       "2             2826.0     20.833333      41.0   7.133333   19.99      88.0   \n",
       "3              320.0     17.166667      72.0   4.133333   16.99      90.0   \n",
       "4              991.0     20.666667      91.0   5.233333   28.99      77.0   \n",
       "...              ...           ...       ...        ...     ...       ...   \n",
       "1537           345.0     20.833333      10.0   5.900000   16.99      89.0   \n",
       "1538           693.0     20.750000      20.0   3.133333   21.99      90.0   \n",
       "1539          3459.0     15.500000      30.0   1.583333   16.99      81.0   \n",
       "1540          4546.0     20.500000     267.0  32.733333   69.99      51.0   \n",
       "1541           389.0     20.833333      45.0   6.600000   16.99      56.0   \n",
       "\n",
       "      inst_review  inst_student  inst_course  \n",
       "0         13453.0      179306.0         12.0  \n",
       "1         19993.0       55621.0          3.0  \n",
       "2         11922.0       53659.0         10.0  \n",
       "3           320.0        4012.0          3.0  \n",
       "4          2193.0        7422.0          6.0  \n",
       "...           ...           ...          ...  \n",
       "1537       9250.0      159228.0         19.0  \n",
       "1538        693.0        3254.0          1.0  \n",
       "1539       9123.0       64043.0         26.0  \n",
       "1540      39566.0      149857.0        226.0  \n",
       "1541       1720.0        7310.0          3.0  \n",
       "\n",
       "[1542 rows x 9 columns]"
      ]
     },
     "execution_count": 1120,
     "metadata": {},
     "output_type": "execute_result"
    }
   ],
   "source": [
    "#  the selected features are stored into a dataframe called df_vt\n",
    "df_vt = feature.iloc[:,vt.get_support()]\n",
    "df_vt"
   ]
  },
  {
   "cell_type": "markdown",
   "metadata": {},
   "source": [
    "### 4.d Select K-Best MEthod"
   ]
  },
  {
   "cell_type": "code",
   "execution_count": 1121,
   "metadata": {
    "scrolled": true
   },
   "outputs": [
    {
     "data": {
      "text/html": [
       "<div>\n",
       "<style scoped>\n",
       "    .dataframe tbody tr th:only-of-type {\n",
       "        vertical-align: middle;\n",
       "    }\n",
       "\n",
       "    .dataframe tbody tr th {\n",
       "        vertical-align: top;\n",
       "    }\n",
       "\n",
       "    .dataframe thead th {\n",
       "        text-align: right;\n",
       "    }\n",
       "</style>\n",
       "<table border=\"1\" class=\"dataframe\">\n",
       "  <thead>\n",
       "    <tr style=\"text-align: right;\">\n",
       "      <th></th>\n",
       "      <th>avg_rating</th>\n",
       "      <th>number_ratings</th>\n",
       "      <th>inst_rating</th>\n",
       "      <th>inst_review</th>\n",
       "      <th>inst_student</th>\n",
       "    </tr>\n",
       "  </thead>\n",
       "  <tbody>\n",
       "    <tr>\n",
       "      <th>0</th>\n",
       "      <td>4.2</td>\n",
       "      <td>6340.0</td>\n",
       "      <td>4.2</td>\n",
       "      <td>13453.0</td>\n",
       "      <td>179306.0</td>\n",
       "    </tr>\n",
       "    <tr>\n",
       "      <th>1</th>\n",
       "      <td>4.6</td>\n",
       "      <td>6833.0</td>\n",
       "      <td>4.6</td>\n",
       "      <td>19993.0</td>\n",
       "      <td>55621.0</td>\n",
       "    </tr>\n",
       "    <tr>\n",
       "      <th>2</th>\n",
       "      <td>4.5</td>\n",
       "      <td>2826.0</td>\n",
       "      <td>4.5</td>\n",
       "      <td>11922.0</td>\n",
       "      <td>53659.0</td>\n",
       "    </tr>\n",
       "    <tr>\n",
       "      <th>3</th>\n",
       "      <td>3.3</td>\n",
       "      <td>320.0</td>\n",
       "      <td>3.3</td>\n",
       "      <td>320.0</td>\n",
       "      <td>4012.0</td>\n",
       "    </tr>\n",
       "    <tr>\n",
       "      <th>4</th>\n",
       "      <td>4.4</td>\n",
       "      <td>991.0</td>\n",
       "      <td>4.4</td>\n",
       "      <td>2193.0</td>\n",
       "      <td>7422.0</td>\n",
       "    </tr>\n",
       "  </tbody>\n",
       "</table>\n",
       "</div>"
      ],
      "text/plain": [
       "   avg_rating  number_ratings  inst_rating  inst_review  inst_student\n",
       "0         4.2          6340.0          4.2      13453.0      179306.0\n",
       "1         4.6          6833.0          4.6      19993.0       55621.0\n",
       "2         4.5          2826.0          4.5      11922.0       53659.0\n",
       "3         3.3           320.0          3.3        320.0        4012.0\n",
       "4         4.4           991.0          4.4       2193.0        7422.0"
      ]
     },
     "execution_count": 1121,
     "metadata": {},
     "output_type": "execute_result"
    }
   ],
   "source": [
    "# select K Best model is set with f_regression with k = 5\n",
    "skb = SelectKBest(score_func = f_regression, k=5) \n",
    "\n",
    "# splitting the features and target into train and test: with test_size = 0.25 (25%); and random state =42\n",
    "xtrain,xtest,ytrain,ytest = train_test_split(feature, target,test_size=0.25, random_state=42)\n",
    "\n",
    "#  fitting model with our training datapoints\n",
    "skb.fit_transform(xtrain, ytrain)\n",
    "\n",
    "# storing the locations of those selected into the dataframe: df_selkbest\n",
    "df_selkbest =feature.iloc[:, skb.get_support()]\n",
    "\n",
    "# dataframe's head\n",
    "df_selkbest.head()"
   ]
  },
  {
   "cell_type": "markdown",
   "metadata": {},
   "source": [
    "## 5 Linear Regression Models with Feature Selection, Feature transformation and Scaling "
   ]
  },
  {
   "cell_type": "markdown",
   "metadata": {},
   "source": [
    "75:25 for training and testing and random_state=42"
   ]
  },
  {
   "cell_type": "markdown",
   "metadata": {},
   "source": [
    "### 5.a Empty lists to store experiments' result"
   ]
  },
  {
   "cell_type": "code",
   "execution_count": 1122,
   "metadata": {},
   "outputs": [],
   "source": [
    "# creating empty lists to store \n",
    "\n",
    "feature_selection = []  # ---> the feature selected \n",
    "feature_transformation = []  # ---> the transformation selected \n",
    "feature_scaling = [] # ---> the scaling selected \n",
    "r2_values = [] # ---> r2 square\n",
    "rmse_values=[] # ---> root mean square value"
   ]
  },
  {
   "cell_type": "markdown",
   "metadata": {},
   "source": [
    "### 5.a Creating Functions to make things easier "
   ]
  },
  {
   "cell_type": "markdown",
   "metadata": {},
   "source": [
    "##### Creating a function to create a model that calls the inbuilt function LinearRegression(),  which fits the model for our feature and predicts the value and calculates the r2 and rmse scores"
   ]
  },
  {
   "cell_type": "code",
   "execution_count": 1123,
   "metadata": {},
   "outputs": [],
   "source": [
    "def model_funct(): \n",
    "    # creating a linear regression model\n",
    "    linear_model = LinearRegression()\n",
    "\n",
    "    # fitting the model to our train dataset\n",
    "    linear_model.fit(xtrain, ytrain)\n",
    "\n",
    "    # predicting the model using the test values and storing it in predicted value \n",
    "    predicted_value= linear_model.predict(xtest)\n",
    "\n",
    "\n",
    "    # calculating r-square with the test datapoints\n",
    "    r2 = linear_model.score(xtest,ytest)\n",
    "    print(\"R^2 = \",r2)\n",
    "\n",
    "    # calculating root mean squared error with the predicted value and the y test values \n",
    "    mse = mean_squared_error(ytest,predicted_value)\n",
    "    rmse= mse**0.5\n",
    "    print(\"RMSE = \", rmse)\n",
    "    \n",
    "    return r2, rmse"
   ]
  },
  {
   "cell_type": "code",
   "execution_count": 1124,
   "metadata": {},
   "outputs": [],
   "source": [
    "#  string initialization \n",
    "\n",
    "x=\"\"\n",
    "y=\"\"\n",
    "z=''\n",
    "rs=0\n",
    "ms =0"
   ]
  },
  {
   "cell_type": "code",
   "execution_count": 1125,
   "metadata": {},
   "outputs": [],
   "source": [
    "# a function to append the information to the list created in the steps above\n",
    "def list_append(x,y,z,rs,ms):\n",
    "    feature_selection.append(x)\n",
    "    feature_transformation.append(y)\n",
    "    feature_scaling.append(z)\n",
    "    r2_values.append(rs)\n",
    "    rmse_values.append(ms)\n",
    "    "
   ]
  },
  {
   "cell_type": "markdown",
   "metadata": {},
   "source": [
    "### 5.b Linear Regression Model with All features"
   ]
  },
  {
   "cell_type": "code",
   "execution_count": 1126,
   "metadata": {},
   "outputs": [],
   "source": [
    "#  splitting the dataset into test and train \n",
    "xtrain,xtest,ytrain,ytest = train_test_split(feature, target,test_size=0.25, random_state=42)"
   ]
  },
  {
   "cell_type": "markdown",
   "metadata": {},
   "source": [
    "##### Calling the Function "
   ]
  },
  {
   "cell_type": "code",
   "execution_count": 1127,
   "metadata": {},
   "outputs": [
    {
     "name": "stdout",
     "output_type": "stream",
     "text": [
      "R^2 =  0.6500335687426264\n",
      "RMSE =  7973.111766825136\n"
     ]
    }
   ],
   "source": [
    "#  calling the function and storing the values into variables called a,b\n",
    "a, b =model_funct()"
   ]
  },
  {
   "cell_type": "markdown",
   "metadata": {},
   "source": [
    "##### Appending the information and Values to the list "
   ]
  },
  {
   "cell_type": "code",
   "execution_count": 1128,
   "metadata": {},
   "outputs": [],
   "source": [
    "#  x --> Feature Selected \n",
    "#  y --> Feature Transformed\n",
    "#  z --> Scaling used \n",
    "#  rs --> r2 score recieved from model_func()\n",
    "#  ms --> rmse from model_func()\n",
    "x=\"All\"\n",
    "y=\"None\"\n",
    "z='None'\n",
    "rs=a\n",
    "ms =b\n",
    "\n",
    "list_append(x,y,z,rs,ms)"
   ]
  },
  {
   "cell_type": "markdown",
   "metadata": {},
   "source": [
    "### 5.c Linear Regression model with All features and Polynomial Features transformation"
   ]
  },
  {
   "cell_type": "markdown",
   "metadata": {},
   "source": [
    "##### Creating a model with [polynomial features with degree =2]"
   ]
  },
  {
   "cell_type": "code",
   "execution_count": 1129,
   "metadata": {},
   "outputs": [],
   "source": [
    "#  assigning polynomial features in a variable with degree 2\n",
    "poly_feature= PolynomialFeatures(degree=2, include_bias=False, interaction_only = False)\n",
    "fit_pf = poly_feature.fit_transform(feature)\n",
    "\n",
    "#  recreating the dataframe\n",
    "poly_df = pd.DataFrame(fit_pf,columns=poly_feature.get_feature_names(feature.columns))\n",
    "poly_df.head()\n",
    "\n",
    "\n",
    "# splitting the features dataset into test and train dataset with target obtained from the tranformation\n",
    "xtrain,xtest,ytrain,ytest = train_test_split(poly_df, target,test_size=0.25, random_state=42)"
   ]
  },
  {
   "cell_type": "markdown",
   "metadata": {},
   "source": [
    "##### calling the function to fit the model created with linear regression"
   ]
  },
  {
   "cell_type": "code",
   "execution_count": 1130,
   "metadata": {},
   "outputs": [
    {
     "name": "stdout",
     "output_type": "stream",
     "text": [
      "R^2 =  0.6805053047638734\n",
      "RMSE =  7618.096742433139\n"
     ]
    }
   ],
   "source": [
    "#  calling the function and storing the values into variables called a,b\n",
    "a, b =model_funct()"
   ]
  },
  {
   "cell_type": "markdown",
   "metadata": {},
   "source": [
    "##### Appending the values to the list"
   ]
  },
  {
   "cell_type": "code",
   "execution_count": 1131,
   "metadata": {},
   "outputs": [],
   "source": [
    "#  x --> Feature Selected \n",
    "#  y --> Feature Transformed\n",
    "#  z --> Scaling used \n",
    "#  rs --> r2 score recieved from model_func()\n",
    "#  ms --> rmse from model_func()\n",
    "x=\"All\"\n",
    "y=\"Poly2\"\n",
    "z='None'\n",
    "rs=a\n",
    "ms =b\n",
    "\n",
    "list_append(x,y,z,rs,ms)"
   ]
  },
  {
   "cell_type": "markdown",
   "metadata": {},
   "source": [
    "### 5.d Linear Regression model with All features and Log1P transformation\n",
    "\n",
    "##### Creating a model with Log (1+x) transformation"
   ]
  },
  {
   "cell_type": "code",
   "execution_count": 1132,
   "metadata": {},
   "outputs": [],
   "source": [
    "#  assigning Log (1+x) transformation in a variable \n",
    "#  creaating a copy of feature, so that it doesnt affect our original dataset\n",
    "log1p_feature = feature.copy().apply(lambda x: np.log1p(x))\n",
    "\n",
    "# splitting the features dataset into test and train dataset with target obtained from the tranformation\n",
    "xtrain,xtest,ytrain,ytest = train_test_split(log1p_feature, target,test_size=0.25, random_state=42)"
   ]
  },
  {
   "cell_type": "markdown",
   "metadata": {},
   "source": [
    "##### fitting the model created with linear regression"
   ]
  },
  {
   "cell_type": "code",
   "execution_count": 1133,
   "metadata": {},
   "outputs": [
    {
     "name": "stdout",
     "output_type": "stream",
     "text": [
      "R^2 =  0.5461482798572264\n",
      "RMSE =  9079.703160741314\n"
     ]
    }
   ],
   "source": [
    "#  calling the function and storing the values into variables called a,b\n",
    "a, b =model_funct()"
   ]
  },
  {
   "cell_type": "markdown",
   "metadata": {},
   "source": [
    "##### Appending the values to the list"
   ]
  },
  {
   "cell_type": "code",
   "execution_count": 1134,
   "metadata": {},
   "outputs": [],
   "source": [
    "#  x --> Feature Selected \n",
    "#  y --> Feature Transformed\n",
    "#  z --> Scaling used \n",
    "#  rs --> r2 score recieved from model_func()\n",
    "#  ms --> rmse from model_func()\n",
    "x=\"All\"\n",
    "y=\"Log1P\"\n",
    "z='None'\n",
    "rs=a\n",
    "ms =b\n",
    "\n",
    "list_append(x,y,z,rs,ms)"
   ]
  },
  {
   "cell_type": "markdown",
   "metadata": {},
   "source": [
    "### 5.e Linear Regression model with All features and MinMax Scaling"
   ]
  },
  {
   "cell_type": "code",
   "execution_count": 1135,
   "metadata": {},
   "outputs": [],
   "source": [
    "# creating a minMax scaler variable \n",
    "mms = MinMaxScaler()\n",
    "scaled_feature = mms.fit_transform(feature)\n",
    "\n",
    "# assigning scaled features and creating a linear regression model  \n",
    "scaled_Df2 = pd.DataFrame(scaled_feature, columns=feature.columns)\n",
    "\n",
    "\n",
    "# splitting the features dataset into test and train dataset with target obtained from the tranformation\n",
    "xtrain,xtest,ytrain,ytest = train_test_split(scaled_Df2, target,test_size=0.25, random_state=42)"
   ]
  },
  {
   "cell_type": "markdown",
   "metadata": {},
   "source": [
    "##### fitting the model created with linear regression"
   ]
  },
  {
   "cell_type": "code",
   "execution_count": 1136,
   "metadata": {},
   "outputs": [
    {
     "name": "stdout",
     "output_type": "stream",
     "text": [
      "R^2 =  0.6500335687426517\n",
      "RMSE =  7973.11176682485\n"
     ]
    }
   ],
   "source": [
    "#  calling the function and storing the values into variables called a,b\n",
    "a, b =model_funct()"
   ]
  },
  {
   "cell_type": "markdown",
   "metadata": {},
   "source": [
    "##### Appending the values to the list"
   ]
  },
  {
   "cell_type": "code",
   "execution_count": 1137,
   "metadata": {},
   "outputs": [],
   "source": [
    "#  x --> Feature Selected \n",
    "#  y --> Feature Transformed\n",
    "#  z --> Scaling used \n",
    "#  rs --> r2 score recieved from model_func()\n",
    "#  ms --> rmse from model_func()\n",
    "x=\"All\"\n",
    "y=\"None\"\n",
    "z='MinMax'\n",
    "rs=a\n",
    "ms =b\n",
    "\n",
    "list_append(x,y,z,rs,ms)"
   ]
  },
  {
   "cell_type": "markdown",
   "metadata": {},
   "source": [
    "### 5.f. Linear Regression model with All features, Polynomial Features and MinMax Scaling"
   ]
  },
  {
   "cell_type": "code",
   "execution_count": 1138,
   "metadata": {},
   "outputs": [],
   "source": [
    "#  assigning polynomial features in a variable with degree 2\n",
    "poly_feature= PolynomialFeatures(degree=2, include_bias=False, interaction_only = False)\n",
    "fit_pf = poly_feature.fit_transform(feature)\n",
    "\n",
    "#  recreating the dataframe\n",
    "poly_df = pd.DataFrame(fit_pf,columns=poly_feature.get_feature_names(feature.columns))\n",
    "poly_df.head()\n",
    "\n",
    "mms = MinMaxScaler()\n",
    "scaled_feature = mms.fit_transform(poly_df)\n",
    "\n",
    "# splitting the features dataset into test and train dataset with target obtained from the tranformation\n",
    "xtrain,xtest,ytrain,ytest = train_test_split(scaled_feature, target,test_size=0.25, random_state=42)"
   ]
  },
  {
   "cell_type": "markdown",
   "metadata": {},
   "source": [
    "##### fitting the model created with linear regression"
   ]
  },
  {
   "cell_type": "code",
   "execution_count": 1139,
   "metadata": {},
   "outputs": [
    {
     "name": "stdout",
     "output_type": "stream",
     "text": [
      "R^2 =  0.6805052416885162\n",
      "RMSE =  7618.097494423949\n"
     ]
    }
   ],
   "source": [
    "#  calling the function and storing the values into variables called a,b\n",
    "a, b =model_funct()"
   ]
  },
  {
   "cell_type": "markdown",
   "metadata": {},
   "source": [
    "##### Appending the values to the list"
   ]
  },
  {
   "cell_type": "code",
   "execution_count": 1140,
   "metadata": {},
   "outputs": [],
   "source": [
    "#  x --> Feature Selected \n",
    "#  y --> Feature Transformed\n",
    "#  z --> Scaling used \n",
    "#  rs --> r2 score recieved from model_func()\n",
    "#  ms --> rmse from model_func()\n",
    "\n",
    "x=\"All\"\n",
    "y=\"Poly2\"\n",
    "z='MinMax'\n",
    "rs=a\n",
    "ms =b\n",
    "\n",
    "list_append(x,y,z,rs,ms)"
   ]
  },
  {
   "cell_type": "markdown",
   "metadata": {},
   "source": [
    "### 5.g. Linear Regression model with All features, Log1P Transformation and MinMax Scaling"
   ]
  },
  {
   "cell_type": "code",
   "execution_count": 1141,
   "metadata": {},
   "outputs": [],
   "source": [
    "#  assigning Log (1+x) transformation in a variable \n",
    "#  creaating a copy of feature, so that it doesnt affect our original dataset\n",
    "\n",
    "log1p_feature = feature.copy().apply(lambda x: np.log1p(x))\n",
    "\n",
    "#  scaling the dataset after Log1P transformation with minmax scaaler\n",
    "mms = MinMaxScaler()\n",
    "scaled_feature1 = mms.fit_transform(log1p_feature)\n",
    "\n",
    "#  stored in a dataframe\n",
    "scaled_Df3 = pd.DataFrame(scaled_feature1, columns=feature.columns)\n",
    "\n",
    "# splitting the features dataset into test and train dataset with target obtained from the tranformation\n",
    "xtrain,xtest,ytrain,ytest = train_test_split(scaled_Df3, target,test_size=0.25, random_state=42)"
   ]
  },
  {
   "cell_type": "markdown",
   "metadata": {},
   "source": [
    "##### fitting the model created with linear regression"
   ]
  },
  {
   "cell_type": "code",
   "execution_count": 1142,
   "metadata": {
    "scrolled": true
   },
   "outputs": [
    {
     "name": "stdout",
     "output_type": "stream",
     "text": [
      "R^2 =  0.5461482798572264\n",
      "RMSE =  9079.703160741316\n"
     ]
    }
   ],
   "source": [
    "#  calling the function and storing the values into variables called a,b\n",
    "a, b =model_funct()"
   ]
  },
  {
   "cell_type": "markdown",
   "metadata": {},
   "source": [
    "##### Appending the values to the list"
   ]
  },
  {
   "cell_type": "code",
   "execution_count": 1143,
   "metadata": {},
   "outputs": [],
   "source": [
    "#  x --> Feature Selected \n",
    "#  y --> Feature Transformed\n",
    "#  z --> Scaling used \n",
    "#  rs --> r2 score recieved from model_func()\n",
    "#  ms --> rmse from model_func()\n",
    "\n",
    "x=\"All\"\n",
    "y=\"Log1P\"\n",
    "z='MinMax'\n",
    "rs=a\n",
    "ms =b\n",
    "\n",
    "list_append(x,y,z,rs,ms)"
   ]
  },
  {
   "cell_type": "markdown",
   "metadata": {},
   "source": [
    "### 5.h.1 Linear Regression model with Manually selected features with no transformation / scaling"
   ]
  },
  {
   "cell_type": "markdown",
   "metadata": {},
   "source": [
    "##### splitting the dataset into test and train for our manually selected dataframe : df_manual\n",
    " "
   ]
  },
  {
   "cell_type": "code",
   "execution_count": 1144,
   "metadata": {},
   "outputs": [],
   "source": [
    "xtrain,xtest,ytrain,ytest = train_test_split(df_manual, target,test_size=0.25, random_state=42)"
   ]
  },
  {
   "cell_type": "markdown",
   "metadata": {},
   "source": [
    "##### fitting the model created with linear regression"
   ]
  },
  {
   "cell_type": "code",
   "execution_count": 1145,
   "metadata": {
    "scrolled": true
   },
   "outputs": [
    {
     "name": "stdout",
     "output_type": "stream",
     "text": [
      "R^2 =  0.6460615673150593\n",
      "RMSE =  8018.230178359032\n"
     ]
    }
   ],
   "source": [
    "#  calling the function and storing the values into variables called a,b\n",
    "a, b =model_funct()"
   ]
  },
  {
   "cell_type": "markdown",
   "metadata": {},
   "source": [
    "##### Appending the values to the list"
   ]
  },
  {
   "cell_type": "code",
   "execution_count": 1146,
   "metadata": {},
   "outputs": [],
   "source": [
    "#  x --> Feature Selected \n",
    "#  y --> Feature Transformed\n",
    "#  z --> Scaling used \n",
    "#  rs --> r2 score recieved from model_func()\n",
    "#  ms --> rmse from model_func()\n",
    "\n",
    "x=\"Manual\"\n",
    "y=\"None\"\n",
    "z='None'\n",
    "rs=a\n",
    "ms =b\n",
    "\n",
    "list_append(x,y,z,rs,ms)"
   ]
  },
  {
   "cell_type": "markdown",
   "metadata": {},
   "source": [
    "### 5.h.2 Linear Regression model with Manually selected features with Poly transformation and no scaling"
   ]
  },
  {
   "cell_type": "markdown",
   "metadata": {},
   "source": [
    "##### splitting the dataset into test and train for our manually selected dataframe : df_manual\n",
    " "
   ]
  },
  {
   "cell_type": "code",
   "execution_count": 1147,
   "metadata": {},
   "outputs": [],
   "source": [
    "#  assigning polynomial features in a variable with degree 2\n",
    "poly_feature= PolynomialFeatures(degree=2, include_bias=False, interaction_only = False)\n",
    "fit_pf = poly_feature.fit_transform(df_manual)\n",
    "\n",
    "#  recreating the dataframe\n",
    "poly_df = pd.DataFrame(fit_pf,columns=poly_feature.get_feature_names(df_manual.columns))\n",
    "poly_df.head()\n",
    "\n",
    "# splitting the features dataset into test and train dataset with target obtained from the tranformation\n",
    "xtrain,xtest,ytrain,ytest = train_test_split(poly_df, target,test_size=0.25, random_state=42)"
   ]
  },
  {
   "cell_type": "markdown",
   "metadata": {},
   "source": [
    "##### fitting the model created with linear regression"
   ]
  },
  {
   "cell_type": "code",
   "execution_count": 1148,
   "metadata": {
    "scrolled": false
   },
   "outputs": [
    {
     "name": "stdout",
     "output_type": "stream",
     "text": [
      "R^2 =  0.6934074734948028\n",
      "RMSE =  7462.690659217611\n"
     ]
    }
   ],
   "source": [
    "#  calling the function and storing the values into variables called a,b\n",
    "a, b =model_funct()"
   ]
  },
  {
   "cell_type": "markdown",
   "metadata": {},
   "source": [
    "##### Appending the values to the list"
   ]
  },
  {
   "cell_type": "code",
   "execution_count": 1149,
   "metadata": {},
   "outputs": [],
   "source": [
    "#  x --> Feature Selected \n",
    "#  y --> Feature Transformed\n",
    "#  z --> Scaling used \n",
    "#  rs --> r2 score recieved from model_func()\n",
    "#  ms --> rmse from model_func()\n",
    "\n",
    "x=\"Manual\"\n",
    "y=\"Poly2\"\n",
    "z='None'\n",
    "rs=a\n",
    "ms =b\n",
    "\n",
    "list_append(x,y,z,rs,ms)"
   ]
  },
  {
   "cell_type": "markdown",
   "metadata": {},
   "source": [
    "### 5.h.3 Linear Regression model with Manually selected features withLog 1P transformation"
   ]
  },
  {
   "cell_type": "markdown",
   "metadata": {},
   "source": [
    "##### splitting the dataset into test and train for our manually selected dataframe : df_manual\n",
    " "
   ]
  },
  {
   "cell_type": "code",
   "execution_count": 1150,
   "metadata": {},
   "outputs": [],
   "source": [
    "#  assigning Log (1+x) transformation in a variable \n",
    "#  creaating a copy of feature, so that it doesnt affect our original dataset\n",
    "\n",
    "log1p_feature = df_manual.copy().apply(lambda x: np.log1p(x))\n",
    "\n",
    "\n",
    "# splitting the features dataset into test and train dataset with target obtained from the tranformation\n",
    "xtrain,xtest,ytrain,ytest = train_test_split(log1p_feature, target,test_size=0.25, random_state=42)\n",
    "\n"
   ]
  },
  {
   "cell_type": "markdown",
   "metadata": {},
   "source": [
    "##### fitting the model created with linear regression"
   ]
  },
  {
   "cell_type": "code",
   "execution_count": 1151,
   "metadata": {
    "scrolled": false
   },
   "outputs": [
    {
     "name": "stdout",
     "output_type": "stream",
     "text": [
      "R^2 =  0.5517269811666501\n",
      "RMSE =  9023.72720095899\n"
     ]
    }
   ],
   "source": [
    "#  calling the function and storing the values into variables called a,b\n",
    "a, b =model_funct()"
   ]
  },
  {
   "cell_type": "markdown",
   "metadata": {},
   "source": [
    "##### Appending the values to the list"
   ]
  },
  {
   "cell_type": "code",
   "execution_count": 1152,
   "metadata": {},
   "outputs": [],
   "source": [
    "#  x --> Feature Selected \n",
    "#  y --> Feature Transformed\n",
    "#  z --> Scaling used \n",
    "#  rs --> r2 score recieved from model_func()\n",
    "#  ms --> rmse from model_func()\n",
    "\n",
    "x=\"Manual\"\n",
    "y=\"Log1P\"\n",
    "z='None'\n",
    "rs=a\n",
    "ms =b\n",
    "\n",
    "list_append(x,y,z,rs,ms)"
   ]
  },
  {
   "cell_type": "markdown",
   "metadata": {},
   "source": [
    "### 5.h.4 Linear Regression model with Manually selected features with no transformation and Min Max Scaling"
   ]
  },
  {
   "cell_type": "markdown",
   "metadata": {},
   "source": [
    "##### splitting the dataset into test and train for our manually selected dataframe : df_manual\n",
    " "
   ]
  },
  {
   "cell_type": "code",
   "execution_count": 1153,
   "metadata": {},
   "outputs": [],
   "source": [
    "# creating a minMax scaler variable \n",
    "mms = MinMaxScaler()\n",
    "scaled_feature = mms.fit_transform(df_manual)\n",
    "\n",
    "# assigning scaled features and creating a linear regression model  \n",
    "scaled_Df2 = pd.DataFrame(scaled_feature, columns=df_manual.columns)\n",
    "\n",
    "\n",
    "# splitting the features dataset into test and train dataset with target obtained from the tranformation\n",
    "xtrain,xtest,ytrain,ytest = train_test_split(scaled_Df2, target,test_size=0.25, random_state=42)"
   ]
  },
  {
   "cell_type": "markdown",
   "metadata": {},
   "source": [
    "##### fitting the model created with linear regression"
   ]
  },
  {
   "cell_type": "code",
   "execution_count": 1154,
   "metadata": {
    "scrolled": false
   },
   "outputs": [
    {
     "name": "stdout",
     "output_type": "stream",
     "text": [
      "R^2 =  0.6460615673150591\n",
      "RMSE =  8018.230178359033\n"
     ]
    }
   ],
   "source": [
    "#  calling the function and storing the values into variables called a,b\n",
    "a, b =model_funct()"
   ]
  },
  {
   "cell_type": "markdown",
   "metadata": {},
   "source": [
    "##### Appending the values to the list"
   ]
  },
  {
   "cell_type": "code",
   "execution_count": 1155,
   "metadata": {},
   "outputs": [],
   "source": [
    "#  x --> Feature Selected \n",
    "#  y --> Feature Transformed\n",
    "#  z --> Scaling used \n",
    "#  rs --> r2 score recieved from model_func()\n",
    "#  ms --> rmse from model_func()\n",
    "\n",
    "x=\"Manual\"\n",
    "y=\"None\"\n",
    "z='MinMax'\n",
    "rs=a\n",
    "ms =b\n",
    "\n",
    "list_append(x,y,z,rs,ms)"
   ]
  },
  {
   "cell_type": "markdown",
   "metadata": {},
   "source": [
    "### 5.h.5 Linear Regression model with Manually selected features with Poly2 transformation and Min Max Scaling"
   ]
  },
  {
   "cell_type": "markdown",
   "metadata": {},
   "source": [
    "##### splitting the dataset into test and train for our manually selected dataframe : df_manual\n",
    " "
   ]
  },
  {
   "cell_type": "code",
   "execution_count": 1156,
   "metadata": {},
   "outputs": [],
   "source": [
    "#  assigning polynomial features in a variable with degree 2\n",
    "poly_feature= PolynomialFeatures(degree=2, include_bias=False, interaction_only = False)\n",
    "fit_pf = poly_feature.fit_transform(df_manual)\n",
    "\n",
    "#  recreating the dataframe\n",
    "poly_df = pd.DataFrame(fit_pf,columns=poly_feature.get_feature_names(df_manual.columns))\n",
    "poly_df.head()\n",
    "\n",
    "mms = MinMaxScaler()\n",
    "scaled_feature = mms.fit_transform(poly_df)\n",
    "\n",
    "# splitting the features dataset into test and train dataset with target obtained from the tranformation\n",
    "xtrain,xtest,ytrain,ytest = train_test_split(scaled_feature, target,test_size=0.25, random_state=42)"
   ]
  },
  {
   "cell_type": "markdown",
   "metadata": {},
   "source": [
    "##### fitting the model created with linear regression"
   ]
  },
  {
   "cell_type": "code",
   "execution_count": 1157,
   "metadata": {
    "scrolled": false
   },
   "outputs": [
    {
     "name": "stdout",
     "output_type": "stream",
     "text": [
      "R^2 =  0.6934074657376692\n",
      "RMSE =  7462.690753624817\n"
     ]
    }
   ],
   "source": [
    "#  calling the function and storing the values into variables called a,b\n",
    "a, b =model_funct()"
   ]
  },
  {
   "cell_type": "markdown",
   "metadata": {},
   "source": [
    "##### Appending the values to the list"
   ]
  },
  {
   "cell_type": "code",
   "execution_count": 1158,
   "metadata": {},
   "outputs": [],
   "source": [
    "#  x --> Feature Selected \n",
    "#  y --> Feature Transformed\n",
    "#  z --> Scaling used \n",
    "#  rs --> r2 score recieved from model_func()\n",
    "#  ms --> rmse from model_func()\n",
    "\n",
    "x=\"Manual\"\n",
    "y=\"Poly2\"\n",
    "z='MinMax'\n",
    "rs=a\n",
    "ms =b\n",
    "\n",
    "list_append(x,y,z,rs,ms)"
   ]
  },
  {
   "cell_type": "markdown",
   "metadata": {},
   "source": [
    "### 5.h.6 Linear Regression model with Manually selected features with Log1P transformation and Min Max Scaling"
   ]
  },
  {
   "cell_type": "markdown",
   "metadata": {},
   "source": [
    "##### splitting the dataset into test and train for our manually selected dataframe : df_manual\n",
    " "
   ]
  },
  {
   "cell_type": "code",
   "execution_count": 1159,
   "metadata": {},
   "outputs": [],
   "source": [
    "#  assigning Log (1+x) transformation in a variable \n",
    "#  creaating a copy of feature, so that it doesnt affect our original dataset\n",
    "\n",
    "log1p_feature = df_manual.copy().apply(lambda x: np.log1p(x))\n",
    "\n",
    "mms = MinMaxScaler()\n",
    "scaled_feature1 = mms.fit_transform(log1p_feature)\n",
    "\n",
    "scaled_Df3 = pd.DataFrame(scaled_feature1, columns=df_manual.columns)\n",
    "\n",
    "# splitting the features dataset into test and train dataset with target obtained from the tranformation\n",
    "xtrain,xtest,ytrain,ytest = train_test_split(scaled_Df3, target,test_size=0.25, random_state=42)"
   ]
  },
  {
   "cell_type": "markdown",
   "metadata": {},
   "source": [
    "##### fitting the model created with linear regression"
   ]
  },
  {
   "cell_type": "code",
   "execution_count": 1160,
   "metadata": {
    "scrolled": false
   },
   "outputs": [
    {
     "name": "stdout",
     "output_type": "stream",
     "text": [
      "R^2 =  0.55172698116665\n",
      "RMSE =  9023.727200958992\n"
     ]
    }
   ],
   "source": [
    "#  calling the function and storing the values into variables called a,b\n",
    "a, b =model_funct()"
   ]
  },
  {
   "cell_type": "markdown",
   "metadata": {},
   "source": [
    "##### Appending the values to the list"
   ]
  },
  {
   "cell_type": "code",
   "execution_count": 1161,
   "metadata": {},
   "outputs": [],
   "source": [
    "#  x --> Feature Selected \n",
    "#  y --> Feature Transformed\n",
    "#  z --> Scaling used \n",
    "#  rs --> r2 score recieved from model_func()\n",
    "#  ms --> rmse from model_func()\n",
    "\n",
    "x=\"Manual\"\n",
    "y=\"Log1P\"\n",
    "z='MinMax'\n",
    "rs=a\n",
    "ms =b\n",
    "\n",
    "list_append(x,y,z,rs,ms)"
   ]
  },
  {
   "cell_type": "markdown",
   "metadata": {},
   "source": [
    "### 5.i.1 Linear Regression model with Variance Threshold Selection with no transformation / scaling"
   ]
  },
  {
   "cell_type": "markdown",
   "metadata": {},
   "source": [
    "##### splitting the dataset into test and train for our manually selected dataframe : df_vt\n",
    " "
   ]
  },
  {
   "cell_type": "code",
   "execution_count": 1162,
   "metadata": {},
   "outputs": [],
   "source": [
    "xtrain,xtest,ytrain,ytest = train_test_split(df_vt, target,test_size=0.25, random_state=42)"
   ]
  },
  {
   "cell_type": "markdown",
   "metadata": {},
   "source": [
    "##### fitting the model created with linear regression"
   ]
  },
  {
   "cell_type": "code",
   "execution_count": 1163,
   "metadata": {
    "scrolled": true
   },
   "outputs": [
    {
     "name": "stdout",
     "output_type": "stream",
     "text": [
      "R^2 =  0.6507972630829612\n",
      "RMSE =  7964.407580836094\n"
     ]
    }
   ],
   "source": [
    "#  calling the function and storing the values into variables called a,b\n",
    "a, b =model_funct()"
   ]
  },
  {
   "cell_type": "markdown",
   "metadata": {},
   "source": [
    "##### Appending the values to the list"
   ]
  },
  {
   "cell_type": "code",
   "execution_count": 1164,
   "metadata": {},
   "outputs": [],
   "source": [
    "#  x --> Feature Selected \n",
    "#  y --> Feature Transformed\n",
    "#  z --> Scaling used \n",
    "#  rs --> r2 score recieved from model_func()\n",
    "#  ms --> rmse from model_func()\n",
    "\n",
    "x=\"VT\"\n",
    "y=\"None\"\n",
    "z='None'\n",
    "rs=a\n",
    "ms =b\n",
    "\n",
    "list_append(x,y,z,rs,ms)"
   ]
  },
  {
   "cell_type": "markdown",
   "metadata": {},
   "source": [
    "### 5.i.2 Linear Regression model with  Variance Threshold Selection with Poly transformation and no scaling"
   ]
  },
  {
   "cell_type": "markdown",
   "metadata": {},
   "source": [
    "##### splitting the dataset into test and train for our manually selected dataframe : df_vt\n",
    " "
   ]
  },
  {
   "cell_type": "code",
   "execution_count": 1165,
   "metadata": {},
   "outputs": [],
   "source": [
    "#  assigning polynomial features in a variable with degree 2\n",
    "poly_feature= PolynomialFeatures(degree=2, include_bias=False, interaction_only = False)\n",
    "fit_pf = poly_feature.fit_transform(df_vt)\n",
    "\n",
    "#  recreating the dataframe\n",
    "poly_df = pd.DataFrame(fit_pf,columns=poly_feature.get_feature_names(df_vt.columns))\n",
    "poly_df.head()\n",
    "\n",
    "# splitting the features dataset into test and train dataset with target obtained from the tranformation\n",
    "xtrain,xtest,ytrain,ytest = train_test_split(poly_df, target,test_size=0.25, random_state=42)"
   ]
  },
  {
   "cell_type": "markdown",
   "metadata": {},
   "source": [
    "##### fitting the model created with linear regression"
   ]
  },
  {
   "cell_type": "code",
   "execution_count": 1166,
   "metadata": {
    "scrolled": false
   },
   "outputs": [
    {
     "name": "stdout",
     "output_type": "stream",
     "text": [
      "R^2 =  0.7052547821821\n",
      "RMSE =  7317.084010355377\n"
     ]
    }
   ],
   "source": [
    "#  calling the function and storing the values into variables called a,b\n",
    "a, b =model_funct()"
   ]
  },
  {
   "cell_type": "markdown",
   "metadata": {},
   "source": [
    "##### Appending the values to the list"
   ]
  },
  {
   "cell_type": "code",
   "execution_count": 1167,
   "metadata": {},
   "outputs": [],
   "source": [
    "#  x --> Feature Selected \n",
    "#  y --> Feature Transformed\n",
    "#  z --> Scaling used \n",
    "#  rs --> r2 score recieved from model_func()\n",
    "#  ms --> rmse from model_func()\n",
    "\n",
    "x=\"VT\"\n",
    "y=\"Poly2\"\n",
    "z='None'\n",
    "rs=a\n",
    "ms =b\n",
    "\n",
    "list_append(x,y,z,rs,ms)"
   ]
  },
  {
   "cell_type": "markdown",
   "metadata": {},
   "source": [
    "### 5.i.2 Linear Regression model with Variance Threshold with Log 1P transformation"
   ]
  },
  {
   "cell_type": "markdown",
   "metadata": {},
   "source": [
    "##### splitting the dataset into test and train for our manually selected dataframe : df_vt\n",
    " "
   ]
  },
  {
   "cell_type": "code",
   "execution_count": 1168,
   "metadata": {},
   "outputs": [],
   "source": [
    "#  assigning Log (1+x) transformation in a variable \n",
    "#  creaating a copy of feature, so that it doesnt affect our original dataset\n",
    "\n",
    "log1p_feature = df_vt.copy().apply(lambda x: np.log1p(x))\n",
    "\n",
    "\n",
    "# splitting the features dataset into test and train dataset with target obtained from the tranformation\n",
    "xtrain,xtest,ytrain,ytest = train_test_split(log1p_feature, target,test_size=0.25, random_state=42)\n",
    "\n"
   ]
  },
  {
   "cell_type": "markdown",
   "metadata": {},
   "source": [
    "##### fitting the model created with linear regression"
   ]
  },
  {
   "cell_type": "code",
   "execution_count": 1169,
   "metadata": {
    "scrolled": false
   },
   "outputs": [
    {
     "name": "stdout",
     "output_type": "stream",
     "text": [
      "R^2 =  0.550136181696814\n",
      "RMSE =  9039.724402378186\n"
     ]
    }
   ],
   "source": [
    "#  calling the function and storing the values into variables called a,b\n",
    "a, b =model_funct()"
   ]
  },
  {
   "cell_type": "markdown",
   "metadata": {},
   "source": [
    "##### Appending the values to the list"
   ]
  },
  {
   "cell_type": "code",
   "execution_count": 1170,
   "metadata": {},
   "outputs": [],
   "source": [
    "#  x --> Feature Selected \n",
    "#  y --> Feature Transformed\n",
    "#  z --> Scaling used \n",
    "#  rs --> r2 score recieved from model_func()\n",
    "#  ms --> rmse from model_func()\n",
    "\n",
    "x=\"VT\"\n",
    "y=\"Log1P\"\n",
    "z='None'\n",
    "rs=a\n",
    "ms =b\n",
    "\n",
    "list_append(x,y,z,rs,ms)"
   ]
  },
  {
   "cell_type": "markdown",
   "metadata": {},
   "source": [
    "### 5.i.2 Linear Regression model with Variance Threshold Selection with no transformation and Min Max Scaling"
   ]
  },
  {
   "cell_type": "markdown",
   "metadata": {},
   "source": [
    "##### splitting the dataset into test and train for our manually selected dataframe : df_vt\n",
    " "
   ]
  },
  {
   "cell_type": "code",
   "execution_count": 1171,
   "metadata": {},
   "outputs": [],
   "source": [
    "# creating a minMax scaler variable \n",
    "mms = MinMaxScaler()\n",
    "scaled_feature = mms.fit_transform(df_vt)\n",
    "\n",
    "# assigning scaled features and creating a linear regression model  \n",
    "scaled_Df2 = pd.DataFrame(scaled_feature, columns=df_vt.columns)\n",
    "\n",
    "\n",
    "# splitting the features dataset into test and train dataset with target obtained from the tranformation\n",
    "xtrain,xtest,ytrain,ytest = train_test_split(scaled_Df2, target,test_size=0.25, random_state=42)"
   ]
  },
  {
   "cell_type": "markdown",
   "metadata": {},
   "source": [
    "##### fitting the model created with linear regression"
   ]
  },
  {
   "cell_type": "code",
   "execution_count": 1172,
   "metadata": {
    "scrolled": false
   },
   "outputs": [
    {
     "name": "stdout",
     "output_type": "stream",
     "text": [
      "R^2 =  0.6507972630830201\n",
      "RMSE =  7964.407580835421\n"
     ]
    }
   ],
   "source": [
    "#  calling the function and storing the values into variables called a,b\n",
    "a, b =model_funct()"
   ]
  },
  {
   "cell_type": "markdown",
   "metadata": {},
   "source": [
    "##### Appending the values to the list"
   ]
  },
  {
   "cell_type": "code",
   "execution_count": 1173,
   "metadata": {},
   "outputs": [],
   "source": [
    "#  x --> Feature Selected \n",
    "#  y --> Feature Transformed\n",
    "#  z --> Scaling used \n",
    "#  rs --> r2 score recieved from model_func()\n",
    "#  ms --> rmse from model_func()\n",
    "\n",
    "x=\"VT\"\n",
    "y=\"None\"\n",
    "z='MinMax'\n",
    "rs=a\n",
    "ms =b\n",
    "\n",
    "list_append(x,y,z,rs,ms)"
   ]
  },
  {
   "cell_type": "markdown",
   "metadata": {},
   "source": [
    "### 5.h.2 Linear Regression model with Variance Threshold Selection with Poly2 transformation and Min Max Scaling"
   ]
  },
  {
   "cell_type": "markdown",
   "metadata": {},
   "source": [
    "##### splitting the dataset into test and train for our manually selected dataframe : df_vt\n",
    " "
   ]
  },
  {
   "cell_type": "code",
   "execution_count": 1174,
   "metadata": {},
   "outputs": [],
   "source": [
    "#  assigning polynomial features in a variable with degree 2\n",
    "poly_feature= PolynomialFeatures(degree=2, include_bias=False, interaction_only = False)\n",
    "fit_pf = poly_feature.fit_transform(df_vt)\n",
    "\n",
    "#  recreating the dataframe\n",
    "poly_df = pd.DataFrame(fit_pf,columns=poly_feature.get_feature_names(df_vt.columns))\n",
    "poly_df.head()\n",
    "\n",
    "mms = MinMaxScaler()\n",
    "scaled_feature = mms.fit_transform(poly_df)\n",
    "\n",
    "# splitting the features dataset into test and train dataset with target obtained from the tranformation\n",
    "xtrain,xtest,ytrain,ytest = train_test_split(scaled_feature, target,test_size=0.25, random_state=42)"
   ]
  },
  {
   "cell_type": "markdown",
   "metadata": {},
   "source": [
    "##### fitting the model created with linear regression"
   ]
  },
  {
   "cell_type": "code",
   "execution_count": 1175,
   "metadata": {
    "scrolled": false
   },
   "outputs": [
    {
     "name": "stdout",
     "output_type": "stream",
     "text": [
      "R^2 =  0.7052552924470217\n",
      "RMSE =  7317.077676659886\n"
     ]
    }
   ],
   "source": [
    "#  calling the function and storing the values into variables called a,b\n",
    "a, b =model_funct()"
   ]
  },
  {
   "cell_type": "markdown",
   "metadata": {},
   "source": [
    "##### Appending the values to the list"
   ]
  },
  {
   "cell_type": "code",
   "execution_count": 1176,
   "metadata": {},
   "outputs": [],
   "source": [
    "#  x --> Feature Selected \n",
    "#  y --> Feature Transformed\n",
    "#  z --> Scaling used \n",
    "#  rs --> r2 score recieved from model_func()\n",
    "#  ms --> rmse from model_func()\n",
    "\n",
    "x=\"VT\"\n",
    "y=\"Poly2\"\n",
    "z='MinMax'\n",
    "rs=a\n",
    "ms =b\n",
    "\n",
    "list_append(x,y,z,rs,ms)"
   ]
  },
  {
   "cell_type": "markdown",
   "metadata": {},
   "source": [
    "### 5.i.2 Linear Regression model with Variance Threshold Selection with Log1P transformation and Min Max Scaling"
   ]
  },
  {
   "cell_type": "markdown",
   "metadata": {},
   "source": [
    "##### splitting the dataset into test and train for our manually selected dataframe : df_vt"
   ]
  },
  {
   "cell_type": "code",
   "execution_count": 1177,
   "metadata": {},
   "outputs": [],
   "source": [
    "#  assigning Log (1+x) transformation in a variable \n",
    "#  creaating a copy of feature, so that it doesnt affect our original dataset\n",
    "\n",
    "log1p_feature = df_vt.copy().apply(lambda x: np.log1p(x))\n",
    "\n",
    "mms = MinMaxScaler()\n",
    "scaled_feature1 = mms.fit_transform(log1p_feature)\n",
    "\n",
    "scaled_Df3 = pd.DataFrame(scaled_feature1, columns=df_vt.columns)\n",
    "\n",
    "# splitting the features dataset into test and train dataset with target obtained from the tranformation\n",
    "xtrain,xtest,ytrain,ytest = train_test_split(scaled_Df3, target,test_size=0.25, random_state=42)"
   ]
  },
  {
   "cell_type": "markdown",
   "metadata": {},
   "source": [
    "##### fitting the model created with linear regression"
   ]
  },
  {
   "cell_type": "code",
   "execution_count": 1178,
   "metadata": {
    "scrolled": false
   },
   "outputs": [
    {
     "name": "stdout",
     "output_type": "stream",
     "text": [
      "R^2 =  0.550136181696814\n",
      "RMSE =  9039.724402378186\n"
     ]
    }
   ],
   "source": [
    "#  calling the function and storing the values into variables called a,b\n",
    "a, b =model_funct()"
   ]
  },
  {
   "cell_type": "markdown",
   "metadata": {},
   "source": [
    "##### Appending the values to the list"
   ]
  },
  {
   "cell_type": "code",
   "execution_count": 1179,
   "metadata": {},
   "outputs": [],
   "source": [
    "#  x --> Feature Selected \n",
    "#  y --> Feature Transformed\n",
    "#  z --> Scaling used \n",
    "#  rs --> r2 score recieved from model_func()\n",
    "#  ms --> rmse from model_func()\n",
    "\n",
    "x=\"VT\"\n",
    "y=\"Log1P\"\n",
    "z='MinMax'\n",
    "rs=a\n",
    "ms =b\n",
    "\n",
    "list_append(x,y,z,rs,ms)"
   ]
  },
  {
   "cell_type": "markdown",
   "metadata": {},
   "source": [
    "### 5.j.1 Linear Regression model with  SelectKBest Selection with no transformation / scaling"
   ]
  },
  {
   "cell_type": "markdown",
   "metadata": {},
   "source": [
    "##### splitting the dataset into test and train for our manually selected dataframe : df_selkbest\n",
    " "
   ]
  },
  {
   "cell_type": "code",
   "execution_count": 1180,
   "metadata": {},
   "outputs": [],
   "source": [
    "xtrain,xtest,ytrain,ytest = train_test_split(df_selkbest, target,test_size=0.25, random_state=42)"
   ]
  },
  {
   "cell_type": "markdown",
   "metadata": {},
   "source": [
    "##### fitting the model created with linear regression"
   ]
  },
  {
   "cell_type": "code",
   "execution_count": 1181,
   "metadata": {
    "scrolled": true
   },
   "outputs": [
    {
     "name": "stdout",
     "output_type": "stream",
     "text": [
      "R^2 =  0.6453536551871059\n",
      "RMSE =  8026.2448024522855\n"
     ]
    }
   ],
   "source": [
    "#  calling the function and storing the values into variables called a,b\n",
    "a, b =model_funct()"
   ]
  },
  {
   "cell_type": "markdown",
   "metadata": {},
   "source": [
    "##### Appending the values to the list"
   ]
  },
  {
   "cell_type": "code",
   "execution_count": 1182,
   "metadata": {},
   "outputs": [],
   "source": [
    "#  x --> Feature Selected \n",
    "#  y --> Feature Transformed\n",
    "#  z --> Scaling used \n",
    "#  rs --> r2 score recieved from model_func()\n",
    "#  ms --> rmse from model_func()\n",
    "\n",
    "x=\"SelectKBest\"\n",
    "y=\"None\"\n",
    "z='None'\n",
    "rs=a\n",
    "ms =b\n",
    "\n",
    "list_append(x,y,z,rs,ms)"
   ]
  },
  {
   "cell_type": "markdown",
   "metadata": {},
   "source": [
    "### 5.j.2 Linear Regression model with SelectKBest Selection with Poly transformation and no scaling"
   ]
  },
  {
   "cell_type": "markdown",
   "metadata": {},
   "source": [
    "##### splitting the dataset into test and train for our manually selected dataframe : df_selkbest\n",
    " "
   ]
  },
  {
   "cell_type": "code",
   "execution_count": 1183,
   "metadata": {},
   "outputs": [],
   "source": [
    "#  assigning polynomial features in a variable with degree 2\n",
    "poly_feature= PolynomialFeatures(degree=2, include_bias=False, interaction_only = False)\n",
    "fit_pf = poly_feature.fit_transform(df_selkbest)\n",
    "\n",
    "#  recreating the dataframe\n",
    "poly_df = pd.DataFrame(fit_pf,columns=poly_feature.get_feature_names(df_selkbest.columns))\n",
    "poly_df.head()\n",
    "\n",
    "# splitting the features dataset into test and train dataset with target obtained from the tranformation\n",
    "xtrain,xtest,ytrain,ytest = train_test_split(poly_df, target,test_size=0.25, random_state=42)"
   ]
  },
  {
   "cell_type": "markdown",
   "metadata": {},
   "source": [
    "##### fitting the model created with linear regression"
   ]
  },
  {
   "cell_type": "code",
   "execution_count": 1184,
   "metadata": {
    "scrolled": false
   },
   "outputs": [
    {
     "name": "stdout",
     "output_type": "stream",
     "text": [
      "R^2 =  0.6951090385769872\n",
      "RMSE =  7441.95316500099\n"
     ]
    }
   ],
   "source": [
    "#  calling the function and storing the values into variables called a,b\n",
    "a, b =model_funct()"
   ]
  },
  {
   "cell_type": "markdown",
   "metadata": {},
   "source": [
    "##### Appending the values to the list"
   ]
  },
  {
   "cell_type": "code",
   "execution_count": 1185,
   "metadata": {},
   "outputs": [],
   "source": [
    "#  x --> Feature Selected \n",
    "#  y --> Feature Transformed\n",
    "#  z --> Scaling used \n",
    "#  rs --> r2 score recieved from model_func()\n",
    "#  ms --> rmse from model_func()\n",
    "\n",
    "x=\"SelectKBest\"\n",
    "y=\"Poly2\"\n",
    "z='None'\n",
    "rs=a\n",
    "ms =b\n",
    "\n",
    "list_append(x,y,z,rs,ms)"
   ]
  },
  {
   "cell_type": "markdown",
   "metadata": {},
   "source": [
    "### 5.j.3 Linear Regression model with SelectKBest Selection withLog 1P transformation"
   ]
  },
  {
   "cell_type": "markdown",
   "metadata": {},
   "source": [
    "##### splitting the dataset into test and train for our manually selected dataframe : df_selkbest\n",
    " "
   ]
  },
  {
   "cell_type": "code",
   "execution_count": 1186,
   "metadata": {},
   "outputs": [],
   "source": [
    "#  assigning Log (1+x) transformation in a variable \n",
    "#  creaating a copy of feature, so that it doesnt affect our original dataset\n",
    "\n",
    "log1p_feature = df_selkbest.copy().apply(lambda x: np.log1p(x))\n",
    "\n",
    "\n",
    "# splitting the features dataset into test and train dataset with target obtained from the tranformation\n",
    "xtrain,xtest,ytrain,ytest = train_test_split(log1p_feature, target,test_size=0.25, random_state=42)\n",
    "\n"
   ]
  },
  {
   "cell_type": "markdown",
   "metadata": {},
   "source": [
    "##### fitting the model created with linear regression"
   ]
  },
  {
   "cell_type": "code",
   "execution_count": 1187,
   "metadata": {
    "scrolled": false
   },
   "outputs": [
    {
     "name": "stdout",
     "output_type": "stream",
     "text": [
      "R^2 =  0.5477373317199556\n",
      "RMSE =  9063.794032409001\n"
     ]
    }
   ],
   "source": [
    "#  calling the function and storing the values into variables called a,b\n",
    "a, b =model_funct()"
   ]
  },
  {
   "cell_type": "markdown",
   "metadata": {},
   "source": [
    "##### Appending the values to the list"
   ]
  },
  {
   "cell_type": "code",
   "execution_count": 1188,
   "metadata": {},
   "outputs": [],
   "source": [
    "#  x --> Feature Selected \n",
    "#  y --> Feature Transformed\n",
    "#  z --> Scaling used \n",
    "#  rs --> r2 score recieved from model_func()\n",
    "#  ms --> rmse from model_func()\n",
    "\n",
    "x=\"SelectKBest\"\n",
    "y=\"Log1P\"\n",
    "z='None'\n",
    "rs=a\n",
    "ms =b\n",
    "\n",
    "list_append(x,y,z,rs,ms)"
   ]
  },
  {
   "cell_type": "markdown",
   "metadata": {},
   "source": [
    "### 5.j.4 Linear Regression model with SelectKBest Selection with no transformation and Min Max Scaling"
   ]
  },
  {
   "cell_type": "markdown",
   "metadata": {},
   "source": [
    "##### splitting the dataset into test and train for our manually selected dataframe : df_selkbest\n",
    " "
   ]
  },
  {
   "cell_type": "code",
   "execution_count": 1189,
   "metadata": {},
   "outputs": [],
   "source": [
    "# creating a minMax scaler variable \n",
    "mms = MinMaxScaler()\n",
    "scaled_feature = mms.fit_transform(df_selkbest)\n",
    "\n",
    "# assigning scaled features and creating a linear regression model  \n",
    "scaled_Df2 = pd.DataFrame(scaled_feature, columns=df_selkbest.columns)\n",
    "\n",
    "\n",
    "# splitting the features dataset into test and train dataset with target obtained from the tranformation\n",
    "xtrain,xtest,ytrain,ytest = train_test_split(scaled_Df2, target,test_size=0.25, random_state=42)"
   ]
  },
  {
   "cell_type": "markdown",
   "metadata": {},
   "source": [
    "##### fitting the model created with linear regression"
   ]
  },
  {
   "cell_type": "code",
   "execution_count": 1190,
   "metadata": {
    "scrolled": false
   },
   "outputs": [
    {
     "name": "stdout",
     "output_type": "stream",
     "text": [
      "R^2 =  0.6453536551871162\n",
      "RMSE =  8026.244802452169\n"
     ]
    }
   ],
   "source": [
    "#  calling the function and storing the values into variables called a,b\n",
    "a, b =model_funct()"
   ]
  },
  {
   "cell_type": "markdown",
   "metadata": {},
   "source": [
    "##### Appending the values to the list"
   ]
  },
  {
   "cell_type": "code",
   "execution_count": 1191,
   "metadata": {},
   "outputs": [],
   "source": [
    "#  x --> Feature Selected \n",
    "#  y --> Feature Transformed\n",
    "#  z --> Scaling used \n",
    "#  rs --> r2 score recieved from model_func()\n",
    "#  ms --> rmse from model_func()\n",
    "\n",
    "x=\"SelectKBest\"\n",
    "y=\"None\"\n",
    "z='MinMax'\n",
    "rs=a\n",
    "ms =b\n",
    "\n",
    "list_append(x,y,z,rs,ms)"
   ]
  },
  {
   "cell_type": "markdown",
   "metadata": {},
   "source": [
    "### 5.j.5 Linear Regression model with SelectKBest Selection with Poly2 transformation and Min Max Scaling"
   ]
  },
  {
   "cell_type": "markdown",
   "metadata": {},
   "source": [
    "##### splitting the dataset into test and train for our manually selected dataframe : df_selkbest\n",
    " "
   ]
  },
  {
   "cell_type": "code",
   "execution_count": 1192,
   "metadata": {},
   "outputs": [],
   "source": [
    "#  assigning polynomial features in a variable with degree 2\n",
    "poly_feature= PolynomialFeatures(degree=2, include_bias=False, interaction_only = False)\n",
    "fit_pf = poly_feature.fit_transform(df_selkbest)\n",
    "\n",
    "#  recreating the dataframe\n",
    "poly_df = pd.DataFrame(fit_pf,columns=poly_feature.get_feature_names(df_selkbest.columns))\n",
    "poly_df.head()\n",
    "\n",
    "mms = MinMaxScaler()\n",
    "scaled_feature = mms.fit_transform(poly_df)\n",
    "\n",
    "# splitting the features dataset into test and train dataset with target obtained from the tranformation\n",
    "xtrain,xtest,ytrain,ytest = train_test_split(scaled_feature, target,test_size=0.25, random_state=42)"
   ]
  },
  {
   "cell_type": "markdown",
   "metadata": {},
   "source": [
    "##### fitting the model created with linear regression"
   ]
  },
  {
   "cell_type": "code",
   "execution_count": 1193,
   "metadata": {
    "scrolled": false
   },
   "outputs": [
    {
     "name": "stdout",
     "output_type": "stream",
     "text": [
      "R^2 =  0.6951089708234317\n",
      "RMSE =  7441.953991884734\n"
     ]
    }
   ],
   "source": [
    "#  calling the function and storing the values into variables called a,b\n",
    "a, b =model_funct()"
   ]
  },
  {
   "cell_type": "markdown",
   "metadata": {},
   "source": [
    "##### Appending the values to the list"
   ]
  },
  {
   "cell_type": "code",
   "execution_count": 1194,
   "metadata": {},
   "outputs": [],
   "source": [
    "#  x --> Feature Selected \n",
    "#  y --> Feature Transformed\n",
    "#  z --> Scaling used \n",
    "#  rs --> r2 score recieved from model_func()\n",
    "#  ms --> rmse from model_func()\n",
    "\n",
    "x=\"SelectKBest\"\n",
    "y=\"Poly2\"\n",
    "z='MinMax'\n",
    "rs=a\n",
    "ms =b\n",
    "\n",
    "list_append(x,y,z,rs,ms)"
   ]
  },
  {
   "cell_type": "markdown",
   "metadata": {},
   "source": [
    "### 5.j.6 Linear Regression model with SelectKBest Selection with Log1P transformation and Min Max Scaling"
   ]
  },
  {
   "cell_type": "markdown",
   "metadata": {},
   "source": [
    "##### splitting the dataset into test and train for our manually selected dataframe : df_selkbest\n",
    " "
   ]
  },
  {
   "cell_type": "code",
   "execution_count": 1195,
   "metadata": {},
   "outputs": [],
   "source": [
    "#  assigning Log (1+x) transformation in a variable \n",
    "#  creaating a copy of feature, so that it doesnt affect our original dataset\n",
    "\n",
    "log1p_feature = df_selkbest.copy().apply(lambda x: np.log1p(x))\n",
    "\n",
    "mms = MinMaxScaler()\n",
    "scaled_feature1 = mms.fit_transform(log1p_feature)\n",
    "\n",
    "scaled_Df3 = pd.DataFrame(scaled_feature1, columns=df_selkbest.columns)\n",
    "\n",
    "# splitting the features dataset into test and train dataset with target obtained from the tranformation\n",
    "xtrain,xtest,ytrain,ytest = train_test_split(scaled_Df3, target,test_size=0.25, random_state=42)"
   ]
  },
  {
   "cell_type": "markdown",
   "metadata": {},
   "source": [
    "##### fitting the model created with linear regression"
   ]
  },
  {
   "cell_type": "code",
   "execution_count": 1196,
   "metadata": {
    "scrolled": false
   },
   "outputs": [
    {
     "name": "stdout",
     "output_type": "stream",
     "text": [
      "R^2 =  0.5477373317199554\n",
      "RMSE =  9063.794032409003\n"
     ]
    }
   ],
   "source": [
    "#  calling the function and storing the values into variables called a,b\n",
    "a, b =model_funct()"
   ]
  },
  {
   "cell_type": "markdown",
   "metadata": {},
   "source": [
    "##### Appending the values to the list"
   ]
  },
  {
   "cell_type": "code",
   "execution_count": 1197,
   "metadata": {},
   "outputs": [],
   "source": [
    "#  x --> Feature Selected \n",
    "#  y --> Feature Transformed\n",
    "#  z --> Scaling used \n",
    "#  rs --> r2 score recieved from model_func()\n",
    "#  ms --> rmse from model_func()\n",
    "\n",
    "x=\"SelectKBest\"\n",
    "y=\"Log1P\"\n",
    "z='MinMax'\n",
    "rs=a\n",
    "ms =b\n",
    "\n",
    "list_append(x,y,z,rs,ms)"
   ]
  },
  {
   "cell_type": "markdown",
   "metadata": {},
   "source": [
    "### 6. Linear Regression Model with Lasso"
   ]
  },
  {
   "cell_type": "markdown",
   "metadata": {},
   "source": [
    " - Using all the features for this model and finding the alpha which is appropriate. \n",
    " - 75 to 25 for training and testing with random state = 42\n",
    " - not normalized (Normalize =False)"
   ]
  },
  {
   "cell_type": "code",
   "execution_count": 1198,
   "metadata": {},
   "outputs": [
    {
     "data": {
      "text/plain": [
       "array([1.00000000e+00, 9.65517245e-01, 9.31034490e-01, 8.96551734e-01,\n",
       "       8.62068979e-01, 8.27586224e-01, 7.93103469e-01, 7.58620714e-01,\n",
       "       7.24137959e-01, 6.89655203e-01, 6.55172448e-01, 6.20689693e-01,\n",
       "       5.86206938e-01, 5.51724183e-01, 5.17241428e-01, 4.82758672e-01,\n",
       "       4.48275917e-01, 4.13793162e-01, 3.79310407e-01, 3.44827652e-01,\n",
       "       3.10344897e-01, 2.75862141e-01, 2.41379386e-01, 2.06896631e-01,\n",
       "       1.72413876e-01, 1.37931121e-01, 1.03448366e-01, 6.89656103e-02,\n",
       "       3.44828552e-02, 1.00000000e-07])"
      ]
     },
     "execution_count": 1198,
     "metadata": {},
     "output_type": "execute_result"
    }
   ],
   "source": [
    "alpha_set =np.linspace(1,0.0000001,30)\n",
    "alpha_set"
   ]
  },
  {
   "cell_type": "code",
   "execution_count": 1199,
   "metadata": {},
   "outputs": [],
   "source": [
    "# splitting the features and target into train and test: with test_size = 0.25 (25%); and random state =42\n",
    "xtrain,xtest,ytrain,ytest = train_test_split(feature, target,test_size=0.25, random_state=42)"
   ]
  },
  {
   "cell_type": "code",
   "execution_count": 1200,
   "metadata": {},
   "outputs": [
    {
     "name": "stdout",
     "output_type": "stream",
     "text": [
      "Alpha 1.00000 RMSE 7972.10188\n",
      "Alpha 0.96552 RMSE 7972.13627\n",
      "Alpha 0.93103 RMSE 7972.17068\n",
      "Alpha 0.89655 RMSE 7972.20513\n",
      "Alpha 0.86207 RMSE 7972.23961\n",
      "Alpha 0.82759 RMSE 7972.27412\n",
      "Alpha 0.79310 RMSE 7972.30866\n",
      "Alpha 0.75862 RMSE 7972.34323\n",
      "Alpha 0.72414 RMSE 7972.37784\n",
      "Alpha 0.68966 RMSE 7972.41247\n",
      "Alpha 0.65517 RMSE 7972.44714\n",
      "Alpha 0.62069 RMSE 7972.48184\n",
      "Alpha 0.58621 RMSE 7972.51656\n",
      "Alpha 0.55172 RMSE 7972.55133\n",
      "Alpha 0.51724 RMSE 7972.58612\n",
      "Alpha 0.48276 RMSE 7972.62094\n",
      "Alpha 0.44828 RMSE 7972.65580\n",
      "Alpha 0.41379 RMSE 7972.69068\n",
      "Alpha 0.37931 RMSE 7972.72560\n",
      "Alpha 0.34483 RMSE 7972.76055\n",
      "Alpha 0.31034 RMSE 7972.79553\n",
      "Alpha 0.27586 RMSE 7972.83054\n",
      "Alpha 0.24138 RMSE 7972.86559\n",
      "Alpha 0.20690 RMSE 7972.90066\n",
      "Alpha 0.17241 RMSE 7972.93577\n",
      "Alpha 0.13793 RMSE 7972.97090\n",
      "Alpha 0.10345 RMSE 7973.00607\n",
      "Alpha 0.06897 RMSE 7973.04127\n",
      "Alpha 0.03448 RMSE 7973.07650\n",
      "Alpha 0.00000 RMSE 7973.11177\n"
     ]
    },
    {
     "data": {
      "text/html": [
       "<div>\n",
       "<style scoped>\n",
       "    .dataframe tbody tr th:only-of-type {\n",
       "        vertical-align: middle;\n",
       "    }\n",
       "\n",
       "    .dataframe tbody tr th {\n",
       "        vertical-align: top;\n",
       "    }\n",
       "\n",
       "    .dataframe thead th {\n",
       "        text-align: right;\n",
       "    }\n",
       "</style>\n",
       "<table border=\"1\" class=\"dataframe\">\n",
       "  <thead>\n",
       "    <tr style=\"text-align: right;\">\n",
       "      <th></th>\n",
       "      <th>Alpha</th>\n",
       "      <th>RMSE</th>\n",
       "      <th>R2</th>\n",
       "    </tr>\n",
       "  </thead>\n",
       "  <tbody>\n",
       "    <tr>\n",
       "      <th>0</th>\n",
       "      <td>1.000000e+00</td>\n",
       "      <td>7972.101884</td>\n",
       "      <td>0.777718</td>\n",
       "    </tr>\n",
       "    <tr>\n",
       "      <th>1</th>\n",
       "      <td>9.655172e-01</td>\n",
       "      <td>7972.136268</td>\n",
       "      <td>0.777718</td>\n",
       "    </tr>\n",
       "    <tr>\n",
       "      <th>2</th>\n",
       "      <td>9.310345e-01</td>\n",
       "      <td>7972.170684</td>\n",
       "      <td>0.777718</td>\n",
       "    </tr>\n",
       "    <tr>\n",
       "      <th>3</th>\n",
       "      <td>8.965517e-01</td>\n",
       "      <td>7972.205130</td>\n",
       "      <td>0.777718</td>\n",
       "    </tr>\n",
       "    <tr>\n",
       "      <th>4</th>\n",
       "      <td>8.620690e-01</td>\n",
       "      <td>7972.239609</td>\n",
       "      <td>0.777718</td>\n",
       "    </tr>\n",
       "    <tr>\n",
       "      <th>5</th>\n",
       "      <td>8.275862e-01</td>\n",
       "      <td>7972.274118</td>\n",
       "      <td>0.777718</td>\n",
       "    </tr>\n",
       "    <tr>\n",
       "      <th>6</th>\n",
       "      <td>7.931035e-01</td>\n",
       "      <td>7972.308659</td>\n",
       "      <td>0.777718</td>\n",
       "    </tr>\n",
       "    <tr>\n",
       "      <th>7</th>\n",
       "      <td>7.586207e-01</td>\n",
       "      <td>7972.343232</td>\n",
       "      <td>0.777718</td>\n",
       "    </tr>\n",
       "    <tr>\n",
       "      <th>8</th>\n",
       "      <td>7.241380e-01</td>\n",
       "      <td>7972.377836</td>\n",
       "      <td>0.777718</td>\n",
       "    </tr>\n",
       "    <tr>\n",
       "      <th>9</th>\n",
       "      <td>6.896552e-01</td>\n",
       "      <td>7972.412471</td>\n",
       "      <td>0.777718</td>\n",
       "    </tr>\n",
       "    <tr>\n",
       "      <th>10</th>\n",
       "      <td>6.551724e-01</td>\n",
       "      <td>7972.447138</td>\n",
       "      <td>0.777719</td>\n",
       "    </tr>\n",
       "    <tr>\n",
       "      <th>11</th>\n",
       "      <td>6.206897e-01</td>\n",
       "      <td>7972.481836</td>\n",
       "      <td>0.777719</td>\n",
       "    </tr>\n",
       "    <tr>\n",
       "      <th>12</th>\n",
       "      <td>5.862069e-01</td>\n",
       "      <td>7972.516565</td>\n",
       "      <td>0.777719</td>\n",
       "    </tr>\n",
       "    <tr>\n",
       "      <th>13</th>\n",
       "      <td>5.517242e-01</td>\n",
       "      <td>7972.551326</td>\n",
       "      <td>0.777719</td>\n",
       "    </tr>\n",
       "    <tr>\n",
       "      <th>14</th>\n",
       "      <td>5.172414e-01</td>\n",
       "      <td>7972.586118</td>\n",
       "      <td>0.777719</td>\n",
       "    </tr>\n",
       "    <tr>\n",
       "      <th>15</th>\n",
       "      <td>4.827587e-01</td>\n",
       "      <td>7972.620942</td>\n",
       "      <td>0.777719</td>\n",
       "    </tr>\n",
       "    <tr>\n",
       "      <th>16</th>\n",
       "      <td>4.482759e-01</td>\n",
       "      <td>7972.655796</td>\n",
       "      <td>0.777719</td>\n",
       "    </tr>\n",
       "    <tr>\n",
       "      <th>17</th>\n",
       "      <td>4.137932e-01</td>\n",
       "      <td>7972.690683</td>\n",
       "      <td>0.777719</td>\n",
       "    </tr>\n",
       "    <tr>\n",
       "      <th>18</th>\n",
       "      <td>3.793104e-01</td>\n",
       "      <td>7972.725601</td>\n",
       "      <td>0.777719</td>\n",
       "    </tr>\n",
       "    <tr>\n",
       "      <th>19</th>\n",
       "      <td>3.448277e-01</td>\n",
       "      <td>7972.760550</td>\n",
       "      <td>0.777719</td>\n",
       "    </tr>\n",
       "    <tr>\n",
       "      <th>20</th>\n",
       "      <td>3.103449e-01</td>\n",
       "      <td>7972.795530</td>\n",
       "      <td>0.777719</td>\n",
       "    </tr>\n",
       "    <tr>\n",
       "      <th>21</th>\n",
       "      <td>2.758621e-01</td>\n",
       "      <td>7972.830542</td>\n",
       "      <td>0.777719</td>\n",
       "    </tr>\n",
       "    <tr>\n",
       "      <th>22</th>\n",
       "      <td>2.413794e-01</td>\n",
       "      <td>7972.865585</td>\n",
       "      <td>0.777719</td>\n",
       "    </tr>\n",
       "    <tr>\n",
       "      <th>23</th>\n",
       "      <td>2.068966e-01</td>\n",
       "      <td>7972.900660</td>\n",
       "      <td>0.777719</td>\n",
       "    </tr>\n",
       "    <tr>\n",
       "      <th>24</th>\n",
       "      <td>1.724139e-01</td>\n",
       "      <td>7972.935766</td>\n",
       "      <td>0.777719</td>\n",
       "    </tr>\n",
       "    <tr>\n",
       "      <th>25</th>\n",
       "      <td>1.379311e-01</td>\n",
       "      <td>7972.970903</td>\n",
       "      <td>0.777719</td>\n",
       "    </tr>\n",
       "    <tr>\n",
       "      <th>26</th>\n",
       "      <td>1.034484e-01</td>\n",
       "      <td>7973.006072</td>\n",
       "      <td>0.777719</td>\n",
       "    </tr>\n",
       "    <tr>\n",
       "      <th>27</th>\n",
       "      <td>6.896561e-02</td>\n",
       "      <td>7973.041272</td>\n",
       "      <td>0.777719</td>\n",
       "    </tr>\n",
       "    <tr>\n",
       "      <th>28</th>\n",
       "      <td>3.448286e-02</td>\n",
       "      <td>7973.076504</td>\n",
       "      <td>0.777719</td>\n",
       "    </tr>\n",
       "    <tr>\n",
       "      <th>29</th>\n",
       "      <td>1.000000e-07</td>\n",
       "      <td>7973.111767</td>\n",
       "      <td>0.777719</td>\n",
       "    </tr>\n",
       "  </tbody>\n",
       "</table>\n",
       "</div>"
      ],
      "text/plain": [
       "           Alpha         RMSE        R2\n",
       "0   1.000000e+00  7972.101884  0.777718\n",
       "1   9.655172e-01  7972.136268  0.777718\n",
       "2   9.310345e-01  7972.170684  0.777718\n",
       "3   8.965517e-01  7972.205130  0.777718\n",
       "4   8.620690e-01  7972.239609  0.777718\n",
       "5   8.275862e-01  7972.274118  0.777718\n",
       "6   7.931035e-01  7972.308659  0.777718\n",
       "7   7.586207e-01  7972.343232  0.777718\n",
       "8   7.241380e-01  7972.377836  0.777718\n",
       "9   6.896552e-01  7972.412471  0.777718\n",
       "10  6.551724e-01  7972.447138  0.777719\n",
       "11  6.206897e-01  7972.481836  0.777719\n",
       "12  5.862069e-01  7972.516565  0.777719\n",
       "13  5.517242e-01  7972.551326  0.777719\n",
       "14  5.172414e-01  7972.586118  0.777719\n",
       "15  4.827587e-01  7972.620942  0.777719\n",
       "16  4.482759e-01  7972.655796  0.777719\n",
       "17  4.137932e-01  7972.690683  0.777719\n",
       "18  3.793104e-01  7972.725601  0.777719\n",
       "19  3.448277e-01  7972.760550  0.777719\n",
       "20  3.103449e-01  7972.795530  0.777719\n",
       "21  2.758621e-01  7972.830542  0.777719\n",
       "22  2.413794e-01  7972.865585  0.777719\n",
       "23  2.068966e-01  7972.900660  0.777719\n",
       "24  1.724139e-01  7972.935766  0.777719\n",
       "25  1.379311e-01  7972.970903  0.777719\n",
       "26  1.034484e-01  7973.006072  0.777719\n",
       "27  6.896561e-02  7973.041272  0.777719\n",
       "28  3.448286e-02  7973.076504  0.777719\n",
       "29  1.000000e-07  7973.111767  0.777719"
      ]
     },
     "execution_count": 1200,
     "metadata": {},
     "output_type": "execute_result"
    }
   ],
   "source": [
    "#  we will temporarily save the information into thesse empty lists before finalizing and picking the best alpha\n",
    "\n",
    "temp_r2=[]\n",
    "temp_rmse=[]\n",
    "temp_model=[]\n",
    "\n",
    "#  for loop to iterate the alphas and their equivalent\n",
    "for a in alpha_set:\n",
    "    lasso_model = Lasso(alpha = a, normalize = False, max_iter = 5000)\n",
    "    lasso_model.fit(xtrain, ytrain)\n",
    "    predicted = lasso_model.predict(xtest)\n",
    "    \n",
    "    temp_r2.append(lasso_model.score(xtrain, ytrain))\n",
    "    rmse = mean_squared_error(ytest, predicted)**0.5\n",
    "    temp_rmse.append(rmse)\n",
    "    temp_model.append(ridge_model)\n",
    "    print(\"Alpha %.5f RMSE %.5f\" %(a, rmse))\n",
    "    \n",
    "lasso_result = np.vstack((alpha_set, temp_rmse, temp_r2)).T   \n",
    "lasso_df = pd.DataFrame(lasso_result, columns=['Alpha', 'RMSE', \"R2\"])\n",
    "lasso_df"
   ]
  },
  {
   "cell_type": "markdown",
   "metadata": {},
   "source": [
    "##### Finding the best alpha (Minimum RMSE) and sorting it based on the result"
   ]
  },
  {
   "cell_type": "code",
   "execution_count": 1201,
   "metadata": {},
   "outputs": [
    {
     "data": {
      "text/html": [
       "<div>\n",
       "<style scoped>\n",
       "    .dataframe tbody tr th:only-of-type {\n",
       "        vertical-align: middle;\n",
       "    }\n",
       "\n",
       "    .dataframe tbody tr th {\n",
       "        vertical-align: top;\n",
       "    }\n",
       "\n",
       "    .dataframe thead th {\n",
       "        text-align: right;\n",
       "    }\n",
       "</style>\n",
       "<table border=\"1\" class=\"dataframe\">\n",
       "  <thead>\n",
       "    <tr style=\"text-align: right;\">\n",
       "      <th></th>\n",
       "      <th>Alpha</th>\n",
       "      <th>RMSE</th>\n",
       "      <th>R2</th>\n",
       "    </tr>\n",
       "  </thead>\n",
       "  <tbody>\n",
       "    <tr>\n",
       "      <th>0</th>\n",
       "      <td>1.0</td>\n",
       "      <td>7972.101884</td>\n",
       "      <td>0.777718</td>\n",
       "    </tr>\n",
       "  </tbody>\n",
       "</table>\n",
       "</div>"
      ],
      "text/plain": [
       "   Alpha         RMSE        R2\n",
       "0    1.0  7972.101884  0.777718"
      ]
     },
     "execution_count": 1201,
     "metadata": {},
     "output_type": "execute_result"
    }
   ],
   "source": [
    "min_alpha_lasso = lasso_df.sort_values(by=['RMSE', 'R2'], ascending=[True, False]).head(1)\n",
    "# the alpha with minimum RMSE \n",
    "min_alpha_lasso"
   ]
  },
  {
   "cell_type": "markdown",
   "metadata": {},
   "source": [
    "##### Appending the apha and information to the list "
   ]
  },
  {
   "cell_type": "code",
   "execution_count": 1202,
   "metadata": {},
   "outputs": [],
   "source": [
    "#  x --> Feature Selected \n",
    "#  y --> Feature Transformed\n",
    "#  z --> Scaling used \n",
    "#  rs --> r2 score recieved from model_func()\n",
    "#  ms --> rmse from model_func()\n",
    "\n",
    "x=\"Lasso, not normalized alpha = 1.0\"\n",
    "y=\"None\"\n",
    "z='None'\n",
    "rs=0.777718\n",
    "ms =7972.101884\n",
    "\n",
    "list_append(x,y,z,rs,ms)"
   ]
  },
  {
   "cell_type": "markdown",
   "metadata": {},
   "source": [
    "### 7. Linear Regression Model with Ridge"
   ]
  },
  {
   "cell_type": "markdown",
   "metadata": {},
   "source": [
    " - Using all the features for this model and finding the alpha which is appropriate. \n",
    " - 75 to 25 for training and testing with random state = 42\n",
    " - not normalized (Normalize =False)"
   ]
  },
  {
   "cell_type": "code",
   "execution_count": 1203,
   "metadata": {},
   "outputs": [
    {
     "data": {
      "text/plain": [
       "array([1.00000000e+05, 2.97635144e+04, 8.85866790e+03, 2.63665090e+03,\n",
       "       7.84759970e+02, 2.33572147e+02, 6.95192796e+01, 2.06913808e+01,\n",
       "       6.15848211e+00, 1.83298071e+00, 5.45559478e-01, 1.62377674e-01,\n",
       "       4.83293024e-02, 1.43844989e-02, 4.28133240e-03, 1.27427499e-03,\n",
       "       3.79269019e-04, 1.12883789e-04, 3.35981829e-05, 1.00000000e-05])"
      ]
     },
     "execution_count": 1203,
     "metadata": {},
     "output_type": "execute_result"
    }
   ],
   "source": [
    "alpha_set = 10**np.linspace(5,-5,20)\n",
    "alpha_set"
   ]
  },
  {
   "cell_type": "code",
   "execution_count": 1204,
   "metadata": {},
   "outputs": [],
   "source": [
    "# splitting the features and target into train and test: with test_size = 0.25 (25%); and random state =42\n",
    "xtrain,xtest,ytrain,ytest = train_test_split(feature, target,test_size=0.25, random_state=42)"
   ]
  },
  {
   "cell_type": "code",
   "execution_count": 1205,
   "metadata": {},
   "outputs": [
    {
     "name": "stdout",
     "output_type": "stream",
     "text": [
      "Alpha 100000.00 RMSE 7956.92\n",
      "Alpha 29763.51 RMSE 7956.03\n",
      "Alpha 8858.67 RMSE 7955.13\n",
      "Alpha 2636.65 RMSE 7954.11\n",
      "Alpha 784.76 RMSE 7952.72\n",
      "Alpha 233.57 RMSE 7950.05\n",
      "Alpha 69.52 RMSE 7951.58\n",
      "Alpha 20.69 RMSE 7958.25\n",
      "Alpha 6.16 RMSE 7965.50\n",
      "Alpha 1.83 RMSE 7970.18\n",
      "Alpha 0.55 RMSE 7972.15\n",
      "Alpha 0.16 RMSE 7972.82\n",
      "Alpha 0.05 RMSE 7973.02\n",
      "Alpha 0.01 RMSE 7973.09\n",
      "Alpha 0.00 RMSE 7973.10\n",
      "Alpha 0.00 RMSE 7973.11\n",
      "Alpha 0.00 RMSE 7973.11\n",
      "Alpha 0.00 RMSE 7973.11\n",
      "Alpha 0.00 RMSE 7973.11\n",
      "Alpha 0.00 RMSE 7973.11\n"
     ]
    },
    {
     "data": {
      "text/html": [
       "<div>\n",
       "<style scoped>\n",
       "    .dataframe tbody tr th:only-of-type {\n",
       "        vertical-align: middle;\n",
       "    }\n",
       "\n",
       "    .dataframe tbody tr th {\n",
       "        vertical-align: top;\n",
       "    }\n",
       "\n",
       "    .dataframe thead th {\n",
       "        text-align: right;\n",
       "    }\n",
       "</style>\n",
       "<table border=\"1\" class=\"dataframe\">\n",
       "  <thead>\n",
       "    <tr style=\"text-align: right;\">\n",
       "      <th></th>\n",
       "      <th>Alpha</th>\n",
       "      <th>RMSE</th>\n",
       "      <th>R2</th>\n",
       "    </tr>\n",
       "  </thead>\n",
       "  <tbody>\n",
       "    <tr>\n",
       "      <th>0</th>\n",
       "      <td>100000.000000</td>\n",
       "      <td>7956.915156</td>\n",
       "      <td>0.772466</td>\n",
       "    </tr>\n",
       "    <tr>\n",
       "      <th>1</th>\n",
       "      <td>29763.514416</td>\n",
       "      <td>7956.031098</td>\n",
       "      <td>0.772710</td>\n",
       "    </tr>\n",
       "    <tr>\n",
       "      <th>2</th>\n",
       "      <td>8858.667904</td>\n",
       "      <td>7955.131122</td>\n",
       "      <td>0.773101</td>\n",
       "    </tr>\n",
       "    <tr>\n",
       "      <th>3</th>\n",
       "      <td>2636.650899</td>\n",
       "      <td>7954.108968</td>\n",
       "      <td>0.773815</td>\n",
       "    </tr>\n",
       "    <tr>\n",
       "      <th>4</th>\n",
       "      <td>784.759970</td>\n",
       "      <td>7952.717299</td>\n",
       "      <td>0.774789</td>\n",
       "    </tr>\n",
       "    <tr>\n",
       "      <th>5</th>\n",
       "      <td>233.572147</td>\n",
       "      <td>7950.052975</td>\n",
       "      <td>0.775997</td>\n",
       "    </tr>\n",
       "    <tr>\n",
       "      <th>6</th>\n",
       "      <td>69.519280</td>\n",
       "      <td>7951.578284</td>\n",
       "      <td>0.776963</td>\n",
       "    </tr>\n",
       "    <tr>\n",
       "      <th>7</th>\n",
       "      <td>20.691381</td>\n",
       "      <td>7958.252987</td>\n",
       "      <td>0.777447</td>\n",
       "    </tr>\n",
       "    <tr>\n",
       "      <th>8</th>\n",
       "      <td>6.158482</td>\n",
       "      <td>7965.502273</td>\n",
       "      <td>0.777656</td>\n",
       "    </tr>\n",
       "    <tr>\n",
       "      <th>9</th>\n",
       "      <td>1.832981</td>\n",
       "      <td>7970.177386</td>\n",
       "      <td>0.777710</td>\n",
       "    </tr>\n",
       "    <tr>\n",
       "      <th>10</th>\n",
       "      <td>0.545559</td>\n",
       "      <td>7972.152126</td>\n",
       "      <td>0.777718</td>\n",
       "    </tr>\n",
       "    <tr>\n",
       "      <th>11</th>\n",
       "      <td>0.162378</td>\n",
       "      <td>7972.817439</td>\n",
       "      <td>0.777719</td>\n",
       "    </tr>\n",
       "    <tr>\n",
       "      <th>12</th>\n",
       "      <td>0.048329</td>\n",
       "      <td>7973.023361</td>\n",
       "      <td>0.777719</td>\n",
       "    </tr>\n",
       "    <tr>\n",
       "      <th>13</th>\n",
       "      <td>0.014384</td>\n",
       "      <td>7973.085382</td>\n",
       "      <td>0.777719</td>\n",
       "    </tr>\n",
       "    <tr>\n",
       "      <th>14</th>\n",
       "      <td>0.004281</td>\n",
       "      <td>7973.103907</td>\n",
       "      <td>0.777719</td>\n",
       "    </tr>\n",
       "    <tr>\n",
       "      <th>15</th>\n",
       "      <td>0.001274</td>\n",
       "      <td>7973.109427</td>\n",
       "      <td>0.777719</td>\n",
       "    </tr>\n",
       "    <tr>\n",
       "      <th>16</th>\n",
       "      <td>0.000379</td>\n",
       "      <td>7973.111070</td>\n",
       "      <td>0.777719</td>\n",
       "    </tr>\n",
       "    <tr>\n",
       "      <th>17</th>\n",
       "      <td>0.000113</td>\n",
       "      <td>7973.111560</td>\n",
       "      <td>0.777719</td>\n",
       "    </tr>\n",
       "    <tr>\n",
       "      <th>18</th>\n",
       "      <td>0.000034</td>\n",
       "      <td>7973.111705</td>\n",
       "      <td>0.777719</td>\n",
       "    </tr>\n",
       "    <tr>\n",
       "      <th>19</th>\n",
       "      <td>0.000010</td>\n",
       "      <td>7973.111748</td>\n",
       "      <td>0.777719</td>\n",
       "    </tr>\n",
       "  </tbody>\n",
       "</table>\n",
       "</div>"
      ],
      "text/plain": [
       "            Alpha         RMSE        R2\n",
       "0   100000.000000  7956.915156  0.772466\n",
       "1    29763.514416  7956.031098  0.772710\n",
       "2     8858.667904  7955.131122  0.773101\n",
       "3     2636.650899  7954.108968  0.773815\n",
       "4      784.759970  7952.717299  0.774789\n",
       "5      233.572147  7950.052975  0.775997\n",
       "6       69.519280  7951.578284  0.776963\n",
       "7       20.691381  7958.252987  0.777447\n",
       "8        6.158482  7965.502273  0.777656\n",
       "9        1.832981  7970.177386  0.777710\n",
       "10       0.545559  7972.152126  0.777718\n",
       "11       0.162378  7972.817439  0.777719\n",
       "12       0.048329  7973.023361  0.777719\n",
       "13       0.014384  7973.085382  0.777719\n",
       "14       0.004281  7973.103907  0.777719\n",
       "15       0.001274  7973.109427  0.777719\n",
       "16       0.000379  7973.111070  0.777719\n",
       "17       0.000113  7973.111560  0.777719\n",
       "18       0.000034  7973.111705  0.777719\n",
       "19       0.000010  7973.111748  0.777719"
      ]
     },
     "execution_count": 1205,
     "metadata": {},
     "output_type": "execute_result"
    }
   ],
   "source": [
    "#  we will temporarily save the information into thesse empty lists before finalizing and picking the best alpha\n",
    "\n",
    "temp_r2=[]\n",
    "temp_rmse=[]\n",
    "temp_model=[]\n",
    "\n",
    "#  for loop to iterate the alphas and their equivalent\n",
    "for a in alpha_set:\n",
    "    ridge_model = Ridge(alpha = a, normalize = False, max_iter = 5000)\n",
    "    ridge_model.fit(xtrain, ytrain)\n",
    "    predicted = ridge_model.predict(xtest)\n",
    "    \n",
    "    temp_r2.append(ridge_model.score(xtrain, ytrain))\n",
    "    rmse = mean_squared_error(ytest, predicted)**0.5\n",
    "    temp_rmse.append(rmse)\n",
    "    temp_model.append(ridge_model)\n",
    "    print(\"Alpha %.2f RMSE %.2f\" %(a, rmse))\n",
    "    \n",
    "ridge_result = np.vstack((alpha_set, temp_rmse, temp_r2)).T   \n",
    "ridge_df = pd.DataFrame(ridge_result, columns=['Alpha', 'RMSE', \"R2\"])\n",
    "ridge_df"
   ]
  },
  {
   "cell_type": "markdown",
   "metadata": {},
   "source": [
    "##### Finding the best alpha (Minimum RMSE) and sorting it based on the result"
   ]
  },
  {
   "cell_type": "code",
   "execution_count": 1206,
   "metadata": {},
   "outputs": [
    {
     "data": {
      "text/html": [
       "<div>\n",
       "<style scoped>\n",
       "    .dataframe tbody tr th:only-of-type {\n",
       "        vertical-align: middle;\n",
       "    }\n",
       "\n",
       "    .dataframe tbody tr th {\n",
       "        vertical-align: top;\n",
       "    }\n",
       "\n",
       "    .dataframe thead th {\n",
       "        text-align: right;\n",
       "    }\n",
       "</style>\n",
       "<table border=\"1\" class=\"dataframe\">\n",
       "  <thead>\n",
       "    <tr style=\"text-align: right;\">\n",
       "      <th></th>\n",
       "      <th>Alpha</th>\n",
       "      <th>RMSE</th>\n",
       "      <th>R2</th>\n",
       "    </tr>\n",
       "  </thead>\n",
       "  <tbody>\n",
       "    <tr>\n",
       "      <th>5</th>\n",
       "      <td>233.572147</td>\n",
       "      <td>7950.052975</td>\n",
       "      <td>0.775997</td>\n",
       "    </tr>\n",
       "  </tbody>\n",
       "</table>\n",
       "</div>"
      ],
      "text/plain": [
       "        Alpha         RMSE        R2\n",
       "5  233.572147  7950.052975  0.775997"
      ]
     },
     "execution_count": 1206,
     "metadata": {},
     "output_type": "execute_result"
    }
   ],
   "source": [
    "min_alpha_ridge = ridge_df.sort_values(by=['RMSE', 'R2'], ascending=[True, False]).head(1)\n",
    "# the alpha with minimum RMSE \n",
    "min_alpha_ridge"
   ]
  },
  {
   "cell_type": "markdown",
   "metadata": {},
   "source": [
    "##### Appending the apha and information to the list "
   ]
  },
  {
   "cell_type": "code",
   "execution_count": 1207,
   "metadata": {},
   "outputs": [],
   "source": [
    "#  x --> Feature Selected \n",
    "#  y --> Feature Transformed\n",
    "#  z --> Scaling used \n",
    "#  rs --> r2 score recieved from model_func()\n",
    "#  ms --> rmse from model_func()\n",
    "\n",
    "x=\"Ridge, not normalized alpha =233.572147\"\n",
    "y=\"None\"\n",
    "z='None'\n",
    "rs=0.775997\n",
    "ms =7950.052975\n",
    "\n",
    "list_append(x,y,z,rs,ms)"
   ]
  },
  {
   "cell_type": "markdown",
   "metadata": {},
   "source": [
    "### 8. Plot and summary analysis"
   ]
  },
  {
   "cell_type": "markdown",
   "metadata": {},
   "source": [
    "##### Combining the lists into a DataFrame to view all the infromation for comparisions"
   ]
  },
  {
   "cell_type": "code",
   "execution_count": 1208,
   "metadata": {
    "scrolled": false
   },
   "outputs": [
    {
     "data": {
      "text/html": [
       "<div>\n",
       "<style scoped>\n",
       "    .dataframe tbody tr th:only-of-type {\n",
       "        vertical-align: middle;\n",
       "    }\n",
       "\n",
       "    .dataframe tbody tr th {\n",
       "        vertical-align: top;\n",
       "    }\n",
       "\n",
       "    .dataframe thead th {\n",
       "        text-align: right;\n",
       "    }\n",
       "</style>\n",
       "<table border=\"1\" class=\"dataframe\">\n",
       "  <thead>\n",
       "    <tr style=\"text-align: right;\">\n",
       "      <th></th>\n",
       "      <th>Feature Selection</th>\n",
       "      <th>Feature Transformation</th>\n",
       "      <th>Feature Scaling</th>\n",
       "      <th>R2</th>\n",
       "      <th>RMSE</th>\n",
       "    </tr>\n",
       "  </thead>\n",
       "  <tbody>\n",
       "    <tr>\n",
       "      <th>0</th>\n",
       "      <td>All</td>\n",
       "      <td>None</td>\n",
       "      <td>None</td>\n",
       "      <td>0.6500335687426264</td>\n",
       "      <td>7973.111766825136</td>\n",
       "    </tr>\n",
       "    <tr>\n",
       "      <th>1</th>\n",
       "      <td>All</td>\n",
       "      <td>Poly2</td>\n",
       "      <td>None</td>\n",
       "      <td>0.6805053047638734</td>\n",
       "      <td>7618.096742433139</td>\n",
       "    </tr>\n",
       "    <tr>\n",
       "      <th>2</th>\n",
       "      <td>All</td>\n",
       "      <td>Log1P</td>\n",
       "      <td>None</td>\n",
       "      <td>0.5461482798572264</td>\n",
       "      <td>9079.703160741314</td>\n",
       "    </tr>\n",
       "    <tr>\n",
       "      <th>3</th>\n",
       "      <td>All</td>\n",
       "      <td>None</td>\n",
       "      <td>MinMax</td>\n",
       "      <td>0.6500335687426517</td>\n",
       "      <td>7973.11176682485</td>\n",
       "    </tr>\n",
       "    <tr>\n",
       "      <th>4</th>\n",
       "      <td>All</td>\n",
       "      <td>Poly2</td>\n",
       "      <td>MinMax</td>\n",
       "      <td>0.6805052416885162</td>\n",
       "      <td>7618.097494423949</td>\n",
       "    </tr>\n",
       "    <tr>\n",
       "      <th>5</th>\n",
       "      <td>All</td>\n",
       "      <td>Log1P</td>\n",
       "      <td>MinMax</td>\n",
       "      <td>0.5461482798572264</td>\n",
       "      <td>9079.703160741316</td>\n",
       "    </tr>\n",
       "    <tr>\n",
       "      <th>6</th>\n",
       "      <td>Manual</td>\n",
       "      <td>None</td>\n",
       "      <td>None</td>\n",
       "      <td>0.6460615673150593</td>\n",
       "      <td>8018.230178359032</td>\n",
       "    </tr>\n",
       "    <tr>\n",
       "      <th>7</th>\n",
       "      <td>Manual</td>\n",
       "      <td>Poly2</td>\n",
       "      <td>None</td>\n",
       "      <td>0.6934074734948028</td>\n",
       "      <td>7462.690659217611</td>\n",
       "    </tr>\n",
       "    <tr>\n",
       "      <th>8</th>\n",
       "      <td>Manual</td>\n",
       "      <td>Log1P</td>\n",
       "      <td>None</td>\n",
       "      <td>0.5517269811666501</td>\n",
       "      <td>9023.72720095899</td>\n",
       "    </tr>\n",
       "    <tr>\n",
       "      <th>9</th>\n",
       "      <td>Manual</td>\n",
       "      <td>None</td>\n",
       "      <td>MinMax</td>\n",
       "      <td>0.6460615673150591</td>\n",
       "      <td>8018.230178359033</td>\n",
       "    </tr>\n",
       "    <tr>\n",
       "      <th>10</th>\n",
       "      <td>Manual</td>\n",
       "      <td>Poly2</td>\n",
       "      <td>MinMax</td>\n",
       "      <td>0.6934074657376692</td>\n",
       "      <td>7462.690753624817</td>\n",
       "    </tr>\n",
       "    <tr>\n",
       "      <th>11</th>\n",
       "      <td>Manual</td>\n",
       "      <td>Log1P</td>\n",
       "      <td>MinMax</td>\n",
       "      <td>0.55172698116665</td>\n",
       "      <td>9023.727200958992</td>\n",
       "    </tr>\n",
       "    <tr>\n",
       "      <th>12</th>\n",
       "      <td>VT</td>\n",
       "      <td>None</td>\n",
       "      <td>None</td>\n",
       "      <td>0.6507972630829612</td>\n",
       "      <td>7964.407580836094</td>\n",
       "    </tr>\n",
       "    <tr>\n",
       "      <th>13</th>\n",
       "      <td>VT</td>\n",
       "      <td>Poly2</td>\n",
       "      <td>None</td>\n",
       "      <td>0.7052547821821</td>\n",
       "      <td>7317.084010355377</td>\n",
       "    </tr>\n",
       "    <tr>\n",
       "      <th>14</th>\n",
       "      <td>VT</td>\n",
       "      <td>Log1P</td>\n",
       "      <td>None</td>\n",
       "      <td>0.550136181696814</td>\n",
       "      <td>9039.724402378186</td>\n",
       "    </tr>\n",
       "    <tr>\n",
       "      <th>15</th>\n",
       "      <td>VT</td>\n",
       "      <td>None</td>\n",
       "      <td>MinMax</td>\n",
       "      <td>0.6507972630830201</td>\n",
       "      <td>7964.407580835421</td>\n",
       "    </tr>\n",
       "    <tr>\n",
       "      <th>16</th>\n",
       "      <td>VT</td>\n",
       "      <td>Poly2</td>\n",
       "      <td>MinMax</td>\n",
       "      <td>0.7052552924470217</td>\n",
       "      <td>7317.077676659886</td>\n",
       "    </tr>\n",
       "    <tr>\n",
       "      <th>17</th>\n",
       "      <td>VT</td>\n",
       "      <td>Log1P</td>\n",
       "      <td>MinMax</td>\n",
       "      <td>0.550136181696814</td>\n",
       "      <td>9039.724402378186</td>\n",
       "    </tr>\n",
       "    <tr>\n",
       "      <th>18</th>\n",
       "      <td>SelectKBest</td>\n",
       "      <td>None</td>\n",
       "      <td>None</td>\n",
       "      <td>0.6453536551871059</td>\n",
       "      <td>8026.2448024522855</td>\n",
       "    </tr>\n",
       "    <tr>\n",
       "      <th>19</th>\n",
       "      <td>SelectKBest</td>\n",
       "      <td>Poly2</td>\n",
       "      <td>None</td>\n",
       "      <td>0.6951090385769872</td>\n",
       "      <td>7441.95316500099</td>\n",
       "    </tr>\n",
       "    <tr>\n",
       "      <th>20</th>\n",
       "      <td>SelectKBest</td>\n",
       "      <td>Log1P</td>\n",
       "      <td>None</td>\n",
       "      <td>0.5477373317199556</td>\n",
       "      <td>9063.794032409001</td>\n",
       "    </tr>\n",
       "    <tr>\n",
       "      <th>21</th>\n",
       "      <td>SelectKBest</td>\n",
       "      <td>None</td>\n",
       "      <td>MinMax</td>\n",
       "      <td>0.6453536551871162</td>\n",
       "      <td>8026.244802452169</td>\n",
       "    </tr>\n",
       "    <tr>\n",
       "      <th>22</th>\n",
       "      <td>SelectKBest</td>\n",
       "      <td>Poly2</td>\n",
       "      <td>MinMax</td>\n",
       "      <td>0.6951089708234317</td>\n",
       "      <td>7441.953991884734</td>\n",
       "    </tr>\n",
       "    <tr>\n",
       "      <th>23</th>\n",
       "      <td>SelectKBest</td>\n",
       "      <td>Log1P</td>\n",
       "      <td>MinMax</td>\n",
       "      <td>0.5477373317199554</td>\n",
       "      <td>9063.794032409003</td>\n",
       "    </tr>\n",
       "    <tr>\n",
       "      <th>24</th>\n",
       "      <td>Lasso, not normalized alpha = 1.0</td>\n",
       "      <td>None</td>\n",
       "      <td>None</td>\n",
       "      <td>0.777718</td>\n",
       "      <td>7972.101884</td>\n",
       "    </tr>\n",
       "    <tr>\n",
       "      <th>25</th>\n",
       "      <td>Ridge, not normalized alpha =233.572147</td>\n",
       "      <td>None</td>\n",
       "      <td>None</td>\n",
       "      <td>0.775997</td>\n",
       "      <td>7950.052975</td>\n",
       "    </tr>\n",
       "  </tbody>\n",
       "</table>\n",
       "</div>"
      ],
      "text/plain": [
       "                          Feature Selection Feature Transformation  \\\n",
       "0                                       All                   None   \n",
       "1                                       All                  Poly2   \n",
       "2                                       All                  Log1P   \n",
       "3                                       All                   None   \n",
       "4                                       All                  Poly2   \n",
       "5                                       All                  Log1P   \n",
       "6                                    Manual                   None   \n",
       "7                                    Manual                  Poly2   \n",
       "8                                    Manual                  Log1P   \n",
       "9                                    Manual                   None   \n",
       "10                                   Manual                  Poly2   \n",
       "11                                   Manual                  Log1P   \n",
       "12                                       VT                   None   \n",
       "13                                       VT                  Poly2   \n",
       "14                                       VT                  Log1P   \n",
       "15                                       VT                   None   \n",
       "16                                       VT                  Poly2   \n",
       "17                                       VT                  Log1P   \n",
       "18                              SelectKBest                   None   \n",
       "19                              SelectKBest                  Poly2   \n",
       "20                              SelectKBest                  Log1P   \n",
       "21                              SelectKBest                   None   \n",
       "22                              SelectKBest                  Poly2   \n",
       "23                              SelectKBest                  Log1P   \n",
       "24        Lasso, not normalized alpha = 1.0                   None   \n",
       "25  Ridge, not normalized alpha =233.572147                   None   \n",
       "\n",
       "   Feature Scaling                  R2                RMSE  \n",
       "0             None  0.6500335687426264   7973.111766825136  \n",
       "1             None  0.6805053047638734   7618.096742433139  \n",
       "2             None  0.5461482798572264   9079.703160741314  \n",
       "3           MinMax  0.6500335687426517    7973.11176682485  \n",
       "4           MinMax  0.6805052416885162   7618.097494423949  \n",
       "5           MinMax  0.5461482798572264   9079.703160741316  \n",
       "6             None  0.6460615673150593   8018.230178359032  \n",
       "7             None  0.6934074734948028   7462.690659217611  \n",
       "8             None  0.5517269811666501    9023.72720095899  \n",
       "9           MinMax  0.6460615673150591   8018.230178359033  \n",
       "10          MinMax  0.6934074657376692   7462.690753624817  \n",
       "11          MinMax    0.55172698116665   9023.727200958992  \n",
       "12            None  0.6507972630829612   7964.407580836094  \n",
       "13            None     0.7052547821821   7317.084010355377  \n",
       "14            None   0.550136181696814   9039.724402378186  \n",
       "15          MinMax  0.6507972630830201   7964.407580835421  \n",
       "16          MinMax  0.7052552924470217   7317.077676659886  \n",
       "17          MinMax   0.550136181696814   9039.724402378186  \n",
       "18            None  0.6453536551871059  8026.2448024522855  \n",
       "19            None  0.6951090385769872    7441.95316500099  \n",
       "20            None  0.5477373317199556   9063.794032409001  \n",
       "21          MinMax  0.6453536551871162   8026.244802452169  \n",
       "22          MinMax  0.6951089708234317   7441.953991884734  \n",
       "23          MinMax  0.5477373317199554   9063.794032409003  \n",
       "24            None            0.777718         7972.101884  \n",
       "25            None            0.775997         7950.052975  "
      ]
     },
     "execution_count": 1208,
     "metadata": {},
     "output_type": "execute_result"
    }
   ],
   "source": [
    "combination_list = np.vstack((feature_selection,feature_transformation,feature_scaling,r2_values,rmse_values)).T\n",
    "combo_df = pd.DataFrame(combination_list,columns = ('Feature Selection', 'Feature Transformation', 'Feature Scaling', 'R2', 'RMSE'))\n",
    "combo_df"
   ]
  },
  {
   "cell_type": "markdown",
   "metadata": {},
   "source": [
    "##### Selecting the best model "
   ]
  },
  {
   "cell_type": "code",
   "execution_count": 1209,
   "metadata": {
    "scrolled": true
   },
   "outputs": [
    {
     "data": {
      "text/html": [
       "<div>\n",
       "<style scoped>\n",
       "    .dataframe tbody tr th:only-of-type {\n",
       "        vertical-align: middle;\n",
       "    }\n",
       "\n",
       "    .dataframe tbody tr th {\n",
       "        vertical-align: top;\n",
       "    }\n",
       "\n",
       "    .dataframe thead th {\n",
       "        text-align: right;\n",
       "    }\n",
       "</style>\n",
       "<table border=\"1\" class=\"dataframe\">\n",
       "  <thead>\n",
       "    <tr style=\"text-align: right;\">\n",
       "      <th></th>\n",
       "      <th>Feature Selection</th>\n",
       "      <th>Feature Transformation</th>\n",
       "      <th>Feature Scaling</th>\n",
       "      <th>R2</th>\n",
       "      <th>RMSE</th>\n",
       "    </tr>\n",
       "  </thead>\n",
       "  <tbody>\n",
       "    <tr>\n",
       "      <th>16</th>\n",
       "      <td>VT</td>\n",
       "      <td>Poly2</td>\n",
       "      <td>MinMax</td>\n",
       "      <td>0.7052552924470217</td>\n",
       "      <td>7317.077676659886</td>\n",
       "    </tr>\n",
       "  </tbody>\n",
       "</table>\n",
       "</div>"
      ],
      "text/plain": [
       "   Feature Selection Feature Transformation Feature Scaling  \\\n",
       "16                VT                  Poly2          MinMax   \n",
       "\n",
       "                    R2               RMSE  \n",
       "16  0.7052552924470217  7317.077676659886  "
      ]
     },
     "execution_count": 1209,
     "metadata": {},
     "output_type": "execute_result"
    }
   ],
   "source": [
    "combo_df.sort_values(by=['RMSE','R2'], ascending=[True, False]).head(1)"
   ]
  },
  {
   "cell_type": "markdown",
   "metadata": {},
   "source": [
    "### Our $best$  $model$ is `Variance Threshold with Polynomial Transformation and MinMax Scaling` which has the `least RMSE and max R2`"
   ]
  },
  {
   "cell_type": "markdown",
   "metadata": {},
   "source": [
    "### Predictions using our best model  "
   ]
  },
  {
   "cell_type": "code",
   "execution_count": 1210,
   "metadata": {},
   "outputs": [
    {
     "name": "stdout",
     "output_type": "stream",
     "text": [
      "R^2 =  0.7052552924470217\n",
      "RMSE =  7317.077676659886\n"
     ]
    }
   ],
   "source": [
    "#  assigning polynomial features in a variable with degree 2\n",
    "poly_feature= PolynomialFeatures(degree=2, include_bias=False, interaction_only = False)\n",
    "fit_pf = poly_feature.fit_transform(df_vt)\n",
    "\n",
    "#  recreating the dataframe\n",
    "poly_df = pd.DataFrame(fit_pf,columns=poly_feature.get_feature_names(df_vt.columns))\n",
    "poly_df.head()\n",
    "\n",
    "mms = MinMaxScaler()\n",
    "scaled_feature = mms.fit_transform(poly_df)\n",
    "\n",
    "# splitting the features dataset into test and train dataset with target obtained from the tranformation\n",
    "xtrain,xtest,ytrain,ytest = train_test_split(scaled_feature, target,test_size=0.25, random_state=42)\n",
    "\n",
    "\n",
    "a, b = model_funct()"
   ]
  },
  {
   "cell_type": "markdown",
   "metadata": {},
   "source": [
    "### PRedicted value "
   ]
  },
  {
   "cell_type": "code",
   "execution_count": 1211,
   "metadata": {},
   "outputs": [
    {
     "data": {
      "text/plain": [
       "array([ -238.99680501,   990.01257559,  4637.85103855,  5507.42241109,\n",
       "        4488.16281084,  8602.83841014, 39034.55238697,  5359.12751489,\n",
       "       16807.6258358 ,  6477.87934084,  -357.76169532, 11613.97709476,\n",
       "        5149.65619019, 10983.78734358,  2894.21556262,  5383.75323227,\n",
       "        6490.1664796 ,  1220.69268425, 10750.18148647,  1566.17812625,\n",
       "        8044.62089761,  1983.77764246, 18341.36988246,  2097.74813315,\n",
       "       19413.66019992, 30797.89174997,  1527.59591347, 17267.40670227,\n",
       "        8382.04334022, 35711.39181847,  4844.8611527 ,  2278.55324351,\n",
       "        5867.35950845, 32936.5428443 ,  3950.18885943,  1987.36596706,\n",
       "       10814.18692745,   952.1839971 ,  8037.10987782,  1707.94200256,\n",
       "        4416.2881047 ,  2357.94161665,  1598.51749831, 11055.49316163,\n",
       "        5108.38264415,  5912.38426984, 36375.95155333, 14713.29376792,\n",
       "        1403.11722168, 23042.01729663,  3506.20868017,  2616.16457176,\n",
       "       11557.50512983,  3281.65654096, 30814.62093577,  3158.56359292,\n",
       "        4199.75260222, 17402.44000175, 17078.1012692 , 11068.60036467,\n",
       "        1827.09978333,   887.79344395, 34124.94485356, 21229.36775167,\n",
       "       12947.11119396,  2707.95448452, 17265.28546181, 18521.4220721 ,\n",
       "        4468.98247703,  1692.92677817,  1332.71464857,  3531.97758232,\n",
       "        2180.3529852 ,  6107.58650154,  7347.98370647,  9832.90560231,\n",
       "       32724.39256609,  8106.14933544,  6453.22806832, 24728.1972341 ,\n",
       "        3731.26323329, 42822.81729161,  2946.57551281,  9110.9625124 ,\n",
       "       14260.99459552,   319.62839327, 37387.33073001, 17653.37586   ,\n",
       "        7603.80066869, 20310.28036315, 11966.22415706,  5872.61337393,\n",
       "       22446.34597367,   619.81454662,   744.52654807, 11614.67343217,\n",
       "       46110.1049917 , 23921.09313812, 18886.82333669, 22446.34597367,\n",
       "        2228.03078111, 15638.75010587, 26952.31454819,  9229.7092791 ,\n",
       "       19482.13741542,  2947.0239902 , 10912.80716047,  3262.28945527,\n",
       "       23511.90440557, 23879.07582149,  2515.75085282, 10848.16262943,\n",
       "       17720.39723046,  6645.22193251,  7407.37488755,  3694.52816827,\n",
       "       20408.64475727,  3718.41798257, 14068.62366933, 22829.31867587,\n",
       "        7191.74232218,  3486.46009045, 54319.48176414, 15957.71354941,\n",
       "        7974.60804619,  5834.93339736,  3217.48962118,  3365.97968292,\n",
       "        7062.30033921, 29567.98496632,  9192.95775357,  1466.25125996,\n",
       "        5041.88535415, 21215.89895531, 12278.91825056,  1754.90280913,\n",
       "       32362.7778747 ,  2479.56910146,  2236.54030637, 13844.78941986,\n",
       "       24792.41866019, 19923.98628466,  8441.06623991,  7369.79391635,\n",
       "        2715.66148986, 39543.6498121 ,  5064.19926594,  5408.17543252,\n",
       "       22193.8119941 ,  5911.83244328,  4734.32854283,  4270.58462616,\n",
       "        7635.00957564,  1749.20679121,  8274.94387485, 11932.42799072,\n",
       "       17006.04508913,  2957.38979071,  5626.67829045,  7542.19029831,\n",
       "        8776.18303167,  3538.37538156,  3845.35214485, 24602.33657807,\n",
       "        3754.70914215,  4058.24161075,  2752.95123755,  6479.91993522,\n",
       "        5308.93655199,  5492.7640915 , 11082.88837376, 53384.5964292 ,\n",
       "        4046.4712906 , 16785.43921674, 40957.72325009, 13620.84961962,\n",
       "       32679.24788842,  4667.78010438,  5052.09129397, 11808.19002867,\n",
       "        5471.15735012,  2665.32021775,  1395.61825012,  8328.24653287,\n",
       "       13157.39176574,  6258.9875362 ,  5359.33474159, 15122.01681786,\n",
       "        5238.30310339,  8562.2597396 , 24605.09013824,   320.09133592,\n",
       "        3845.67118928, 17661.59873804,  6886.96725343,  3521.53847504,\n",
       "        6016.67775059,  6653.92102767, 11863.48256833,  4243.76010382,\n",
       "        2378.23890821,  2106.84344571,  9297.24792726,  9102.59333731,\n",
       "        4902.60939508, 23943.59371522,  9188.75849682,  2286.84624128,\n",
       "       16828.26797347,  5140.70502077,  2469.83304933,  7114.21792946,\n",
       "        2609.29919107, 23220.46514013, 16443.61724752,  1995.45968304,\n",
       "        1704.63163193,  4905.88647963, 17591.75177473, 13008.57272649,\n",
       "       10790.88980628,  3954.15539919, 11670.10598352,  9841.98150336,\n",
       "       39492.68831153,  4804.10581707,  4476.63920994, 14171.71849367,\n",
       "       27701.82946913,  3247.76241409, 29422.09590677, 25902.73291676,\n",
       "        6467.64603716, 23544.46321567,  3969.16760176, 20017.84005312,\n",
       "        2779.42809505,  5055.13790389,  8997.89660838, 32535.86404588,\n",
       "        3640.08785839,  1892.28696529,  1154.92584099,  6327.70279508,\n",
       "        3589.20255977,  2334.55161598, 19136.80808404,  6242.74724712,\n",
       "       -4169.92518672,  6095.78161737, 11343.29117687, 10859.55103364,\n",
       "        6687.84024656, 24937.27585966,  1977.32473661, 10275.10726462,\n",
       "        4006.06375356,  4123.74108766, 14560.94754328, 25426.76246203,\n",
       "        8322.64830532,   986.23829297,  7481.7997523 , 11026.49375289,\n",
       "       10385.61619107, 14543.44861126,  9547.21821042,  9712.34830964,\n",
       "         563.52618497,  5681.07195712, 16326.27551996,  6586.14360389,\n",
       "        2145.31025389, 59161.09503171, 10190.32610104,  9025.25835044,\n",
       "        6807.47547369, 18804.42262682,  1554.54376807,  6068.75045935,\n",
       "       14917.90303558, 10840.22343178,  4039.24075721,  4701.53939352,\n",
       "        4425.7481708 , 18471.23766874, 28856.26803247,  9423.32448643,\n",
       "        4758.5502801 , 13735.4756536 ,  1799.59297407,  7028.45801702,\n",
       "       12956.55976337, 31180.41460788, 18726.62197604,  7038.20381324,\n",
       "        3886.68614536, 27915.19865462,  4825.50630806, 12386.42253141,\n",
       "        3821.21883847,  3765.81612043, 20058.82507441,  2188.88136371,\n",
       "        6825.33593865,  2396.55000125,  8601.2780144 ,  2202.30618278,\n",
       "       13463.02941341, 36227.45915486,  9130.4276803 ,  4288.52224017,\n",
       "        3501.16986575,  4787.87505073, 19220.92116756,  2347.91195876,\n",
       "         438.64039794,  5877.40366114,  8889.30530759,  7515.59979619,\n",
       "       21346.38015125,  1957.23400749, 22276.53831653, 11174.81818632,\n",
       "       23172.55481541,  2690.94016665, 12583.6263828 , 21348.60661839,\n",
       "        8999.5766297 ,  8119.08213533,  9159.38499845,  2459.33806995,\n",
       "        4484.57033487, 23367.12965852, 34133.55431077, 12495.01458527,\n",
       "       47254.49357663,  4284.33263265, 28197.77344351,  2111.46429699,\n",
       "        1380.4656744 ,   970.8637714 ,  8020.57909576, 16114.58028928,\n",
       "       10440.60888078, 18798.9869076 ,  7857.17675403, 12310.0669391 ,\n",
       "        4968.42487684, 28226.04883372,  2361.11368705,  2319.19283976,\n",
       "        3256.86269152,  8969.1429713 , 17417.57287236, 16836.37513613,\n",
       "       10762.04746174,  4416.11979421,  1516.10094299,  4943.89933152,\n",
       "       29932.48442093,  2448.79045677, 35501.63447388, 28941.35942139,\n",
       "       13401.10930443, 31342.1848706 ,  5243.19014967, 49839.02983488,\n",
       "       20352.32679768,  3557.24825646,  3873.25556827, 20948.53567154,\n",
       "         133.64910123, 34910.13069757, 24579.73465218, 35647.94286575,\n",
       "        2195.15236717,  4703.63956163,   928.32095549,  1325.73357107,\n",
       "        6954.34747172,  3220.90170831,  7549.08663419,  9613.73789152,\n",
       "       10412.45186885, 31305.02349894])"
      ]
     },
     "execution_count": 1211,
     "metadata": {},
     "output_type": "execute_result"
    }
   ],
   "source": [
    "predicted_value"
   ]
  },
  {
   "cell_type": "markdown",
   "metadata": {},
   "source": [
    "### Scatter Plot between the actual and predicted values"
   ]
  },
  {
   "cell_type": "code",
   "execution_count": 1212,
   "metadata": {},
   "outputs": [
    {
     "data": {
      "text/plain": [
       "Text(0, 0.5, 'actual')"
      ]
     },
     "execution_count": 1212,
     "metadata": {},
     "output_type": "execute_result"
    },
    {
     "data": {
      "image/png": "[encoded data removed]",
      "text/plain": [
       "<Figure size 432x288 with 1 Axes>"
      ]
     },
     "metadata": {
      "needs_background": "light"
     },
     "output_type": "display_data"
    }
   ],
   "source": [
    "actual = ytest\n",
    "\n",
    "plt.scatter(predicted_value, actual,c='g')\n",
    "plt.title(\"Scatter Plot between the actual and predicted values\")\n",
    "plt.xlabel(\"predicted\")\n",
    "plt.ylabel(\"actual\")"
   ]
  },
  {
   "cell_type": "markdown",
   "metadata": {},
   "source": [
    "### Coefficient of our best model  "
   ]
  },
  {
   "cell_type": "code",
   "execution_count": 1213,
   "metadata": {
    "scrolled": false
   },
   "outputs": [
    {
     "data": {
      "text/html": [
       "<div>\n",
       "<style scoped>\n",
       "    .dataframe tbody tr th:only-of-type {\n",
       "        vertical-align: middle;\n",
       "    }\n",
       "\n",
       "    .dataframe tbody tr th {\n",
       "        vertical-align: top;\n",
       "    }\n",
       "\n",
       "    .dataframe thead th {\n",
       "        text-align: right;\n",
       "    }\n",
       "</style>\n",
       "<table border=\"1\" class=\"dataframe\">\n",
       "  <thead>\n",
       "    <tr style=\"text-align: right;\">\n",
       "      <th></th>\n",
       "      <th>Feature</th>\n",
       "      <th>Coefficient</th>\n",
       "    </tr>\n",
       "  </thead>\n",
       "  <tbody>\n",
       "    <tr>\n",
       "      <th>0</th>\n",
       "      <td>number_ratings</td>\n",
       "      <td>88166.052026</td>\n",
       "    </tr>\n",
       "    <tr>\n",
       "      <th>1</th>\n",
       "      <td>last_updated</td>\n",
       "      <td>-29516.702771</td>\n",
       "    </tr>\n",
       "    <tr>\n",
       "      <th>2</th>\n",
       "      <td>lectures</td>\n",
       "      <td>-31375.654837</td>\n",
       "    </tr>\n",
       "    <tr>\n",
       "      <th>3</th>\n",
       "      <td>duration</td>\n",
       "      <td>75052.695177</td>\n",
       "    </tr>\n",
       "    <tr>\n",
       "      <th>4</th>\n",
       "      <td>price2</td>\n",
       "      <td>18654.019896</td>\n",
       "    </tr>\n",
       "    <tr>\n",
       "      <th>5</th>\n",
       "      <td>discount</td>\n",
       "      <td>8389.441240</td>\n",
       "    </tr>\n",
       "    <tr>\n",
       "      <th>6</th>\n",
       "      <td>inst_review</td>\n",
       "      <td>26240.719371</td>\n",
       "    </tr>\n",
       "    <tr>\n",
       "      <th>7</th>\n",
       "      <td>inst_student</td>\n",
       "      <td>33120.979055</td>\n",
       "    </tr>\n",
       "    <tr>\n",
       "      <th>8</th>\n",
       "      <td>inst_course</td>\n",
       "      <td>-140719.047793</td>\n",
       "    </tr>\n",
       "  </tbody>\n",
       "</table>\n",
       "</div>"
      ],
      "text/plain": [
       "          Feature    Coefficient\n",
       "0  number_ratings   88166.052026\n",
       "1    last_updated  -29516.702771\n",
       "2        lectures  -31375.654837\n",
       "3        duration   75052.695177\n",
       "4          price2   18654.019896\n",
       "5        discount    8389.441240\n",
       "6     inst_review   26240.719371\n",
       "7    inst_student   33120.979055\n",
       "8     inst_course -140719.047793"
      ]
     },
     "execution_count": 1213,
     "metadata": {},
     "output_type": "execute_result"
    }
   ],
   "source": [
    "coefficient=pd.DataFrame(zip( df_vt,linear_model.coef_), columns=['Feature', 'Coefficient'])\n",
    "coefficient"
   ]
  },
  {
   "cell_type": "markdown",
   "metadata": {},
   "source": [
    "- For this particular dataset we have the best model for predicting our course enrollmetn is `\"Variance Threshold with poly2 transformation and minmax scaling` \n",
    "- The above scatter plot shows the plotting between the predicted and the actual values \n",
    "- The coefficients are the from the feature table we had and selected the from our variance threshold dataframe \n"
   ]
  },
  {
   "cell_type": "markdown",
   "metadata": {},
   "source": [
    "#### Why this modelling works better than the others?"
   ]
  },
  {
   "cell_type": "markdown",
   "metadata": {},
   "source": [
    "- For a matter of fact, we all agree that the data from the real world is not perfect. All our modelling are good for an ideal dataset which in theory alone exists. These modelling are built with some assumptions that fit only a particular dataset and not all. \n",
    "- When a particular dataset agrees with the assumptions made in designing the modelling technique, that particualr model will be our best fit but it is not the case all the time. Sometimes, the dataset seems to have similar feature and does not fit our model like the previous dataset. This brings the necessity to evaluate and run the training and testing, calculating RMSE and R2 all comes in handy.\n",
    "- By evaluating using different methods and techniques we could find our the best fit with overfitting or underfitting our dataset\n",
    "\n",
    "\n",
    "\n",
    "\n",
    "\n",
    "\n",
    "\n",
    "\n",
    "Ref: http://appliedpredictivemodeling.com/\n",
    "Data Science and Big Data Analytics, EMC Education Services"
   ]
  }
 ],
 "metadata": {
  "kernelspec": {
   "display_name": "Python 3",
   "language": "python",
   "name": "python3"
  },
  "language_info": {
   "codemirror_mode": {
    "name": "ipython",
    "version": 3
   },
   "file_extension": ".py",
   "mimetype": "text/x-python",
   "name": "python",
   "nbconvert_exporter": "python",
   "pygments_lexer": "ipython3",
   "version": "3.8.5"
  },
  "widgets": {
   "application/vnd.jupyter.widget-state+json": {
    "state": {},
    "version_major": 2,
    "version_minor": 0
   }
  }
 },
 "nbformat": 4,
 "nbformat_minor": 4
}
